{
 "cells": [
  {
   "cell_type": "markdown",
   "source": [
    "### Research: how well the photodiode signal correlates with Ed values (interpolated to the Lu response time)."
   ],
   "metadata": {
    "collapsed": false
   },
   "id": "b52a07b3d38eb43a"
  },
  {
   "cell_type": "markdown",
   "source": [
    "#### Terminology:\n",
    "\n",
    "**Ed (Downwelling Irradiance)** represents the incoming radiant flux (radiant power) from all directions of the upper hemisphere onto a surface (e.g., the Earth's surface or an object). It includes all the incoming electromagnetic radiation, regardless of the direction. It characterizes the total radiant energy received by a surface.\n",
    "\n",
    "**Lu (Upwelling Radiance)** characterizes the radiant energy that is reflected or emitted by the surface and travels upward.\n",
    "\n",
    "**Ld (Downwelling Radiance).** Is a measure of the brightness of the radiation coming from the upper hemisphere towards a specific point on the surface. It provides information about the intensity and directionality of the incoming radiation.\n",
    "\n",
    "Ed represents the incoming energy,\n",
    "Ld represents the incoming energy's intensity and directionality, and\n",
    "Lu represents the outgoing energy from the surface or object.\n",
    "\n",
    "**Photodiodes** are often used to measure the intensity of light in lux. When light falls on a photodiode, it generates an electrical signal, the strength of which is proportional to the illuminance (lux) of the incident light.\n",
    "\n",
    "**Photodiode Signal and Reflectance Spectrum.** A light source illuminates a material, and the photodiode measures the intensity of the reflected light at various wavelengths. The resulting photodiode signal is used to create a reflectance spectrum, which provides information about how the material reflects light across the visual spectrum. With the photodiode signal in lux and the photopic data, which typically includes the photopic luminous efficiency function V(λ) as a function of wavelength (λ), we can \"weighting\" the illuminance measurement to account for the human eye's sensitivity to different wavelengths. This calculation provides a way to convert the measured illuminance into a quantity that represents the perceived brightness of light at that specific wavelength. The result is known as \"luminance\" or \"brightness\" at that particular wavelength.\n",
    "\n",
    "**Hypstar water transfer protocol.** \n",
    "Ed - Downwelling Irradiance; Ld - Downwelling Radiance; Lu - Upwelling Radiance\n",
    "Transfer protocol: [Ed 3x] - [Ld 3x] - [Lu 6x] - [Ld 3x] - [Ed 3x]. Sequential measurements."
   ],
   "metadata": {
    "collapsed": false
   },
   "id": "420e305141d94cc4"
  },
  {
   "cell_type": "markdown",
   "source": [
    "![](../data/photodiode/_img/chart2.jpg)"
   ],
   "metadata": {
    "collapsed": false
   },
   "id": "5a6bd5b358289124"
  },
  {
   "cell_type": "markdown",
   "source": [
    "![](https://github.com/fjodorsevtsenko/rs-pr-water/blob/main/img/chart2.png)\n",
    "<img src = '../../../../img/chart2.png' width=100%>"
   ],
   "metadata": {
    "collapsed": false
   },
   "id": "8409e1b5699f56c1"
  },
  {
   "cell_type": "markdown",
   "source": [
    "![](../data/photodiode/_img/chart.jpg)"
   ],
   "metadata": {
    "collapsed": false
   },
   "id": "ddd427fd39ae9920"
  },
  {
   "cell_type": "markdown",
   "source": [
    "<img src = '../../../../img/chart.png' width=100%>"
   ],
   "metadata": {
    "collapsed": false
   },
   "id": "d58e73faf7cb297"
  },
  {
   "cell_type": "markdown",
   "source": [
    "#### Data available\n",
    "\n",
    "**photopic.dat**: wavelength;V(lambda)\n",
    "**monitorpd**: photodiode time series (lux of photometric units)\n",
    "**L1A;L1B;L1C**\n",
    "HYPERNETS_W_LVES_L1A_IRR: downwelling irradiance (Ed all six measurements)\n",
    "HYPERNETS_W_LVES_L1B_IRR: downwelling irradiance (Ed0 and Ed1 averages)\n",
    "HYPERNETS_W_LVES_L1C_ALL: downwelling irradiance; downwelling radiance; upwelling radiance"
   ],
   "metadata": {
    "collapsed": false
   },
   "id": "11c9590a6800a1d2"
  },
  {
   "cell_type": "markdown",
   "source": [
    "#### Task, simplified\n",
    "<br>\n",
    "\n",
    "1. Get photodiode signal.\n",
    "2. Get and transform photopic data.\n",
    "3. Get Ed0 (start) and Ed1 (end) from L1B.\n",
    "4. Calculate Ed0-Luminance ratio and Ed1-Luminance ratio.\n",
    "5. Adjust Ed0-Luminance ratio and Ed1-Luminance ratio to the same UTC.\n",
    "6. Calculate Pearson correlation between Ed0-Luminance ratio and Ed1-Luminance ratio.\n",
    "7. Plot the relationship."
   ],
   "metadata": {
    "collapsed": false
   },
   "id": "6c5255d02326ad11"
  },
  {
   "cell_type": "markdown",
   "source": [
    "### Table of content\n",
    "\n",
    "**[01]: Data preprocessing**\n",
    "\n",
    "- [01-01]: Use the next terminal commands to copy 'monitorPD' and 'hypernets' data files into relevant folders\n",
    "- [01-02]: Import libraries and set path-variables to files' locations\n",
    "- [01-03]: Run extraction/transformation for 'photopic' data\n",
    "- [01-04]: Run extraction/transformation for 'monitorpd' data; Save result in a 'parquet' format\n",
    "- [01-05]: Read 'monitorpd' dataset from 'parquet' file\n",
    "- [01-06]: Run extraction/transformation for 'hypernets' data- Ed0 and Ed1; Save result in a 'parquet' format\n",
    "- [01-07]: Read 'hypernets' dataset from 'parquet' file\n",
    "\n",
    "**[02]: Find intersection space between 'photopic', 'monitorpd' and 'hypernets' datasets by 'wavelength' and 'utc'**\n",
    "- [02-01]: Get common by 'wavelength' and 'utc'\n",
    "- [02-02]: Adjust 'monitorpd' dataset by common 'utc'\n",
    "- [02-03]: Adjust 'hypernets' dataset by common 'wavelength' and 'utc'\n",
    "- [02-04]: Save 'index-utc' combination\n",
    "- [02-05]: Get Ed0 ratio\n",
    "- [02-06]: Get Ed1 ratio\n",
    "- [02-07]: Adjust Ed0 and Ed1 to common shape\n",
    "\n",
    "**[03]: Calculate correlation between Ed0 and Ed1 ratios**\n",
    "\n",
    "**[04]: Plot the relationship between Ed0 and Ed1 ratios**\n",
    "\n",
    "\n",
    "<br>\n",
    "<hr>"
   ],
   "metadata": {
    "collapsed": false
   },
   "id": "831f3e5216c2a450"
  },
  {
   "cell_type": "markdown",
   "source": [
    "#### [01]: Data preprocessing"
   ],
   "metadata": {
    "collapsed": false
   },
   "id": "65124dc118994aa4"
  },
  {
   "cell_type": "markdown",
   "source": [
    "##### [01-01]: Use the next terminal commands to copy 'monitorPD' and 'hypernets' data files into relevant folders"
   ],
   "metadata": {
    "collapsed": false
   },
   "id": "a82f08df62514a81"
  },
  {
   "cell_type": "code",
   "execution_count": 1,
   "outputs": [],
   "source": [
    "# _nc_files_HYPERNETS_W_LVES_L1B_IRR % find ../LVES -type f -name \"HYPERNETS_W_LVES_L1B_IRR_*.nc\" -exec cp {} . \\;\n",
    "# find ../DATA -type f -name \"monitorPD.csv\" -exec sh -c 'new_name=\"./$(basename \"$(dirname \"$0\")\").csv\"; cp \"$0\" \"$new_name\"' {} \\;"
   ],
   "metadata": {
    "collapsed": false,
    "ExecuteTime": {
     "end_time": "2023-10-23T21:31:22.273400Z",
     "start_time": "2023-10-23T21:31:22.197644Z"
    }
   },
   "id": "265cd8e1c522e8c3"
  },
  {
   "cell_type": "markdown",
   "source": [
    "##### [01-02]: Import libraries and set path-variables to files' locations"
   ],
   "metadata": {
    "collapsed": false
   },
   "id": "c18f4fa1054bc776"
  },
  {
   "cell_type": "code",
   "execution_count": 2,
   "outputs": [],
   "source": [
    "import pandas as pd\n",
    "import warnings\n",
    "warnings.filterwarnings('ignore')\n",
    "from models.helpers import _ltt000027_fsevts_02_photodiode_correlation as _ltt000027\n",
    "\n",
    "PATH_TO_DATA = \"../data/photodiode/\"\n",
    "PATH_TO_EXPORT = \"../data/photodiode/_export/\"\n",
    "PATH_TO_PHOTOPIC = f\"{PATH_TO_DATA}photopic.dat\"\n",
    "PATH_TO_HYPERNETS_NC = f\"{PATH_TO_DATA}_nc_HYPERNETS_W_LVES_L1B_IRR/\"\n",
    "PATH_TO_MONITORPD_CSV = f\"{PATH_TO_DATA}_csv_MONITORPD/\"\n",
    "\n",
    "helper = _ltt000027.Helper()"
   ],
   "metadata": {
    "collapsed": false,
    "ExecuteTime": {
     "end_time": "2023-10-23T21:31:22.297630Z",
     "start_time": "2023-10-23T21:31:22.200937Z"
    }
   },
   "id": "ce0fa3af9b1aa723"
  },
  {
   "cell_type": "markdown",
   "source": [
    "##### [01-03]: Run extraction/transformation for 'photopic' data"
   ],
   "metadata": {
    "collapsed": false
   },
   "id": "1864a601b7d51f52"
  },
  {
   "cell_type": "code",
   "execution_count": 3,
   "outputs": [
    {
     "data": {
      "text/plain": "       index     380       385     390      395     400      405     410  \\\n0  v_lambda_  0.0002  0.000396  0.0008  0.00155  0.0028  0.00466  0.0074   \n\n      415     420  ...       735       740       745      750       755  \\\n0  0.0118  0.0175  ...  0.000361  0.000249  0.000172  0.00012  0.000085   \n\n       760       765      770       775       780  \n0  0.00006  0.000042  0.00003  0.000021  0.000015  \n\n[1 rows x 82 columns]",
      "text/html": "<div>\n<style scoped>\n    .dataframe tbody tr th:only-of-type {\n        vertical-align: middle;\n    }\n\n    .dataframe tbody tr th {\n        vertical-align: top;\n    }\n\n    .dataframe thead th {\n        text-align: right;\n    }\n</style>\n<table border=\"1\" class=\"dataframe\">\n  <thead>\n    <tr style=\"text-align: right;\">\n      <th></th>\n      <th>index</th>\n      <th>380</th>\n      <th>385</th>\n      <th>390</th>\n      <th>395</th>\n      <th>400</th>\n      <th>405</th>\n      <th>410</th>\n      <th>415</th>\n      <th>420</th>\n      <th>...</th>\n      <th>735</th>\n      <th>740</th>\n      <th>745</th>\n      <th>750</th>\n      <th>755</th>\n      <th>760</th>\n      <th>765</th>\n      <th>770</th>\n      <th>775</th>\n      <th>780</th>\n    </tr>\n  </thead>\n  <tbody>\n    <tr>\n      <th>0</th>\n      <td>v_lambda_</td>\n      <td>0.0002</td>\n      <td>0.000396</td>\n      <td>0.0008</td>\n      <td>0.00155</td>\n      <td>0.0028</td>\n      <td>0.00466</td>\n      <td>0.0074</td>\n      <td>0.0118</td>\n      <td>0.0175</td>\n      <td>...</td>\n      <td>0.000361</td>\n      <td>0.000249</td>\n      <td>0.000172</td>\n      <td>0.00012</td>\n      <td>0.000085</td>\n      <td>0.00006</td>\n      <td>0.000042</td>\n      <td>0.00003</td>\n      <td>0.000021</td>\n      <td>0.000015</td>\n    </tr>\n  </tbody>\n</table>\n<p>1 rows × 82 columns</p>\n</div>"
     },
     "execution_count": 3,
     "metadata": {},
     "output_type": "execute_result"
    }
   ],
   "source": [
    "df_photopic = helper.read_photopic(PATH_TO_PHOTOPIC)\n",
    "df_photopic_transformed = helper.transform_photopic(df_photopic)\n",
    "df_photopic_transformed"
   ],
   "metadata": {
    "collapsed": false,
    "ExecuteTime": {
     "end_time": "2023-10-23T21:31:22.333697Z",
     "start_time": "2023-10-23T21:31:22.213641Z"
    }
   },
   "id": "e2814b19c6e5acb4"
  },
  {
   "cell_type": "markdown",
   "source": [
    "##### [01-04]: Run extraction/transformation for 'monitorpd' data; Save result in a 'parquet' format"
   ],
   "metadata": {
    "collapsed": false
   },
   "id": "6fce464a4ef8d9ee"
  },
  {
   "cell_type": "code",
   "execution_count": 4,
   "outputs": [],
   "source": [
    "df_monitorpd_transformed = pd.concat(\n",
    "    map(lambda df_: helper.transform_monitorpd(df_), \n",
    "        map(helper.read_monitorpd, helper.get_list_of_files(PATH_TO_MONITORPD_CSV))\n",
    "), ignore_index=True)\n",
    "df_monitorpd_transformed = df_monitorpd_transformed.sort_values(by='utc_', ascending=True)\n",
    "df_monitorpd_transformed.to_parquet(f\"{PATH_TO_EXPORT}_02_df_monitorpd_transformed.parquet\", index=False)"
   ],
   "metadata": {
    "collapsed": false,
    "ExecuteTime": {
     "end_time": "2023-10-23T21:32:58.704539Z",
     "start_time": "2023-10-23T21:31:22.226411Z"
    }
   },
   "id": "9d8e55777d873164"
  },
  {
   "cell_type": "markdown",
   "source": [
    "##### [01-05]: Read 'monitorpd' dataset from 'parquet' file"
   ],
   "metadata": {
    "collapsed": false
   },
   "id": "e517aaa57d5a8425"
  },
  {
   "cell_type": "code",
   "execution_count": 5,
   "outputs": [
    {
     "data": {
      "text/plain": "         utc_      lx_  lx_inv_\n0  1689915635  20159.0  0.00005\n1  1689915636  20140.8  0.00005\n2  1689915638  20141.6  0.00005",
      "text/html": "<div>\n<style scoped>\n    .dataframe tbody tr th:only-of-type {\n        vertical-align: middle;\n    }\n\n    .dataframe tbody tr th {\n        vertical-align: top;\n    }\n\n    .dataframe thead th {\n        text-align: right;\n    }\n</style>\n<table border=\"1\" class=\"dataframe\">\n  <thead>\n    <tr style=\"text-align: right;\">\n      <th></th>\n      <th>utc_</th>\n      <th>lx_</th>\n      <th>lx_inv_</th>\n    </tr>\n  </thead>\n  <tbody>\n    <tr>\n      <th>0</th>\n      <td>1689915635</td>\n      <td>20159.0</td>\n      <td>0.00005</td>\n    </tr>\n    <tr>\n      <th>1</th>\n      <td>1689915636</td>\n      <td>20140.8</td>\n      <td>0.00005</td>\n    </tr>\n    <tr>\n      <th>2</th>\n      <td>1689915638</td>\n      <td>20141.6</td>\n      <td>0.00005</td>\n    </tr>\n  </tbody>\n</table>\n</div>"
     },
     "execution_count": 5,
     "metadata": {},
     "output_type": "execute_result"
    }
   ],
   "source": [
    "df_monitorpd_transformed = pd.read_parquet(f\"{PATH_TO_EXPORT}_02_df_monitorpd_transformed.parquet\")\n",
    "df_monitorpd_transformed.head(3)"
   ],
   "metadata": {
    "collapsed": false,
    "ExecuteTime": {
     "end_time": "2023-10-23T21:32:58.751387Z",
     "start_time": "2023-10-23T21:32:58.705680Z"
    }
   },
   "id": "bd7b8ece58d3d461"
  },
  {
   "cell_type": "markdown",
   "source": [
    "##### [01-06]: Run extraction/transformation for 'hypernets' data- Ed0 and Ed1; Save result in a 'parquet' format"
   ],
   "metadata": {
    "collapsed": false
   },
   "id": "628c51bbdde6463e"
  },
  {
   "cell_type": "code",
   "execution_count": 6,
   "outputs": [],
   "source": [
    "# Ed beginning phase\n",
    "df_nc_transform_0 = pd.concat(\n",
    "    map(helper.get_nc_transformed_0, helper.get_list_of_files(PATH_TO_HYPERNETS_NC)\n",
    "), ignore_index=True)\n",
    "\n",
    "df_nc_transform_0 = df_nc_transform_0.sort_values(by='utc_', ascending=True)\n",
    "df_nc_transform_0.to_parquet(f\"{PATH_TO_EXPORT}_02_df_nc_transformed_0.parquet\", index=False)"
   ],
   "metadata": {
    "collapsed": false,
    "ExecuteTime": {
     "end_time": "2023-10-23T21:34:09.049539Z",
     "start_time": "2023-10-23T21:32:58.739857Z"
    }
   },
   "id": "e695308159953dd8"
  },
  {
   "cell_type": "code",
   "execution_count": 7,
   "outputs": [],
   "source": [
    "# Ed ending phase\n",
    "df_nc_transform_1 = pd.concat(\n",
    "    map(helper.get_nc_transformed_1, helper.get_list_of_files(PATH_TO_HYPERNETS_NC)\n",
    "), ignore_index=True)\n",
    "\n",
    "df_nc_transform_1 = df_nc_transform_1.sort_values(by='utc_', ascending=True)\n",
    "df_nc_transform_1.to_parquet(f\"{PATH_TO_EXPORT}_02_df_nc_transformed_1.parquet\", index=False)"
   ],
   "metadata": {
    "collapsed": false,
    "ExecuteTime": {
     "end_time": "2023-10-23T21:35:20.089905Z",
     "start_time": "2023-10-23T21:34:09.049993Z"
    }
   },
   "id": "d1979699d986ac77"
  },
  {
   "cell_type": "markdown",
   "source": [
    "##### [01-07]: Read 'hypernets' dataset from 'parquet' file"
   ],
   "metadata": {
    "collapsed": false
   },
   "id": "39eb31a3ba2d9e56"
  },
  {
   "cell_type": "code",
   "execution_count": 8,
   "outputs": [
    {
     "data": {
      "text/plain": "         utc_         350         351         352         353         354  \\\n0  1689915676  139.896606  145.060913  149.192886  152.974747  164.423500   \n1  1689916575  161.907890  168.990608  170.145760  176.260399  187.366058   \n2  1689917475  177.386772  181.828560  185.042961  189.548058  203.414146   \n\n          355         356         357         358  ...        1091  \\\n0  163.010925  156.661385  145.117345  138.356697  ...  149.501770   \n1  188.746529  180.372185  166.402359  157.716202  ...  169.179604   \n2  205.429596  195.282272  176.238749  169.310211  ...  189.879265   \n\n         1092        1093        1094        1095        1096        1097  \\\n0  154.458481  146.774132  140.697375  128.467457  123.450153  130.477936   \n1  174.959175  174.539085  156.256490  178.930298  164.121323  153.947281   \n2  177.713013  173.848686  162.848836  155.844643  170.411537  152.039856   \n\n         1098        1099        1100  \n0  124.133533  121.280273  148.973389  \n1  146.457596  143.814651  141.991196  \n2  161.167267  165.148636  154.165115  \n\n[3 rows x 752 columns]",
      "text/html": "<div>\n<style scoped>\n    .dataframe tbody tr th:only-of-type {\n        vertical-align: middle;\n    }\n\n    .dataframe tbody tr th {\n        vertical-align: top;\n    }\n\n    .dataframe thead th {\n        text-align: right;\n    }\n</style>\n<table border=\"1\" class=\"dataframe\">\n  <thead>\n    <tr style=\"text-align: right;\">\n      <th></th>\n      <th>utc_</th>\n      <th>350</th>\n      <th>351</th>\n      <th>352</th>\n      <th>353</th>\n      <th>354</th>\n      <th>355</th>\n      <th>356</th>\n      <th>357</th>\n      <th>358</th>\n      <th>...</th>\n      <th>1091</th>\n      <th>1092</th>\n      <th>1093</th>\n      <th>1094</th>\n      <th>1095</th>\n      <th>1096</th>\n      <th>1097</th>\n      <th>1098</th>\n      <th>1099</th>\n      <th>1100</th>\n    </tr>\n  </thead>\n  <tbody>\n    <tr>\n      <th>0</th>\n      <td>1689915676</td>\n      <td>139.896606</td>\n      <td>145.060913</td>\n      <td>149.192886</td>\n      <td>152.974747</td>\n      <td>164.423500</td>\n      <td>163.010925</td>\n      <td>156.661385</td>\n      <td>145.117345</td>\n      <td>138.356697</td>\n      <td>...</td>\n      <td>149.501770</td>\n      <td>154.458481</td>\n      <td>146.774132</td>\n      <td>140.697375</td>\n      <td>128.467457</td>\n      <td>123.450153</td>\n      <td>130.477936</td>\n      <td>124.133533</td>\n      <td>121.280273</td>\n      <td>148.973389</td>\n    </tr>\n    <tr>\n      <th>1</th>\n      <td>1689916575</td>\n      <td>161.907890</td>\n      <td>168.990608</td>\n      <td>170.145760</td>\n      <td>176.260399</td>\n      <td>187.366058</td>\n      <td>188.746529</td>\n      <td>180.372185</td>\n      <td>166.402359</td>\n      <td>157.716202</td>\n      <td>...</td>\n      <td>169.179604</td>\n      <td>174.959175</td>\n      <td>174.539085</td>\n      <td>156.256490</td>\n      <td>178.930298</td>\n      <td>164.121323</td>\n      <td>153.947281</td>\n      <td>146.457596</td>\n      <td>143.814651</td>\n      <td>141.991196</td>\n    </tr>\n    <tr>\n      <th>2</th>\n      <td>1689917475</td>\n      <td>177.386772</td>\n      <td>181.828560</td>\n      <td>185.042961</td>\n      <td>189.548058</td>\n      <td>203.414146</td>\n      <td>205.429596</td>\n      <td>195.282272</td>\n      <td>176.238749</td>\n      <td>169.310211</td>\n      <td>...</td>\n      <td>189.879265</td>\n      <td>177.713013</td>\n      <td>173.848686</td>\n      <td>162.848836</td>\n      <td>155.844643</td>\n      <td>170.411537</td>\n      <td>152.039856</td>\n      <td>161.167267</td>\n      <td>165.148636</td>\n      <td>154.165115</td>\n    </tr>\n  </tbody>\n</table>\n<p>3 rows × 752 columns</p>\n</div>"
     },
     "execution_count": 8,
     "metadata": {},
     "output_type": "execute_result"
    }
   ],
   "source": [
    "df_nc_transform_0 = pd.read_parquet(f\"{PATH_TO_EXPORT}_02_df_nc_transformed_0.parquet\")\n",
    "df_nc_transform_0.head(3)"
   ],
   "metadata": {
    "collapsed": false,
    "ExecuteTime": {
     "end_time": "2023-10-23T21:35:20.349181Z",
     "start_time": "2023-10-23T21:35:20.090779Z"
    }
   },
   "id": "26fddb737925c5cf"
  },
  {
   "cell_type": "code",
   "execution_count": 9,
   "outputs": [
    {
     "data": {
      "text/plain": "         utc_         350         351         352         353         354  \\\n0  1689915754  142.550522  147.574211  150.712372  154.669807  164.871346   \n1  1689916652  163.663124  168.368553  171.821381  175.707245  187.733711   \n2  1689917550  177.708466  183.056145  186.081207  191.546562  205.449745   \n\n          355         356         357         358  ...        1091  \\\n0  166.075813  158.392525  144.982076  137.421059  ...  151.593727   \n1  190.072006  180.430077  165.348012  156.123352  ...  188.054024   \n2  203.993362  196.628700  179.525533  170.985229  ...  205.970612   \n\n         1092        1093        1094        1095        1096        1097  \\\n0  156.967537  140.197639  141.519674  145.308426  145.080521  143.925034   \n1  173.735954  182.840248  163.104975  164.546234  173.787094  162.730103   \n2  187.659409  175.906380  181.345225  175.194138  176.251663  167.392502   \n\n         1098        1099        1100  \n0  143.351284  125.748226  136.977936  \n1  169.695465  144.259354  165.980408  \n2  168.803024  155.513329  156.134140  \n\n[3 rows x 752 columns]",
      "text/html": "<div>\n<style scoped>\n    .dataframe tbody tr th:only-of-type {\n        vertical-align: middle;\n    }\n\n    .dataframe tbody tr th {\n        vertical-align: top;\n    }\n\n    .dataframe thead th {\n        text-align: right;\n    }\n</style>\n<table border=\"1\" class=\"dataframe\">\n  <thead>\n    <tr style=\"text-align: right;\">\n      <th></th>\n      <th>utc_</th>\n      <th>350</th>\n      <th>351</th>\n      <th>352</th>\n      <th>353</th>\n      <th>354</th>\n      <th>355</th>\n      <th>356</th>\n      <th>357</th>\n      <th>358</th>\n      <th>...</th>\n      <th>1091</th>\n      <th>1092</th>\n      <th>1093</th>\n      <th>1094</th>\n      <th>1095</th>\n      <th>1096</th>\n      <th>1097</th>\n      <th>1098</th>\n      <th>1099</th>\n      <th>1100</th>\n    </tr>\n  </thead>\n  <tbody>\n    <tr>\n      <th>0</th>\n      <td>1689915754</td>\n      <td>142.550522</td>\n      <td>147.574211</td>\n      <td>150.712372</td>\n      <td>154.669807</td>\n      <td>164.871346</td>\n      <td>166.075813</td>\n      <td>158.392525</td>\n      <td>144.982076</td>\n      <td>137.421059</td>\n      <td>...</td>\n      <td>151.593727</td>\n      <td>156.967537</td>\n      <td>140.197639</td>\n      <td>141.519674</td>\n      <td>145.308426</td>\n      <td>145.080521</td>\n      <td>143.925034</td>\n      <td>143.351284</td>\n      <td>125.748226</td>\n      <td>136.977936</td>\n    </tr>\n    <tr>\n      <th>1</th>\n      <td>1689916652</td>\n      <td>163.663124</td>\n      <td>168.368553</td>\n      <td>171.821381</td>\n      <td>175.707245</td>\n      <td>187.733711</td>\n      <td>190.072006</td>\n      <td>180.430077</td>\n      <td>165.348012</td>\n      <td>156.123352</td>\n      <td>...</td>\n      <td>188.054024</td>\n      <td>173.735954</td>\n      <td>182.840248</td>\n      <td>163.104975</td>\n      <td>164.546234</td>\n      <td>173.787094</td>\n      <td>162.730103</td>\n      <td>169.695465</td>\n      <td>144.259354</td>\n      <td>165.980408</td>\n    </tr>\n    <tr>\n      <th>2</th>\n      <td>1689917550</td>\n      <td>177.708466</td>\n      <td>183.056145</td>\n      <td>186.081207</td>\n      <td>191.546562</td>\n      <td>205.449745</td>\n      <td>203.993362</td>\n      <td>196.628700</td>\n      <td>179.525533</td>\n      <td>170.985229</td>\n      <td>...</td>\n      <td>205.970612</td>\n      <td>187.659409</td>\n      <td>175.906380</td>\n      <td>181.345225</td>\n      <td>175.194138</td>\n      <td>176.251663</td>\n      <td>167.392502</td>\n      <td>168.803024</td>\n      <td>155.513329</td>\n      <td>156.134140</td>\n    </tr>\n  </tbody>\n</table>\n<p>3 rows × 752 columns</p>\n</div>"
     },
     "execution_count": 9,
     "metadata": {},
     "output_type": "execute_result"
    }
   ],
   "source": [
    "df_nc_transform_1 = pd.read_parquet(f\"{PATH_TO_EXPORT}_02_df_nc_transformed_1.parquet\")\n",
    "df_nc_transform_1.head(3)"
   ],
   "metadata": {
    "collapsed": false,
    "ExecuteTime": {
     "end_time": "2023-10-23T21:35:20.426576Z",
     "start_time": "2023-10-23T21:35:20.348794Z"
    }
   },
   "id": "74e713223922ba56"
  },
  {
   "cell_type": "markdown",
   "source": [
    "#### [02]: Find intersection space between 'photopic', 'monitorpd' and 'hypernets' datasets by 'wavelength' and 'utc'"
   ],
   "metadata": {
    "collapsed": false
   },
   "id": "717ad1708eb0d0c"
  },
  {
   "cell_type": "markdown",
   "source": [
    "##### [02-01]: Get common by 'wavelength' and 'utc'"
   ],
   "metadata": {
    "collapsed": false
   },
   "id": "74fee03ee202e5bc"
  },
  {
   "cell_type": "code",
   "execution_count": 10,
   "outputs": [
    {
     "name": "stdout",
     "output_type": "stream",
     "text": [
      "Common wavelength_: 81\n",
      "Common columns: 82\n",
      "Common utc_ 0: 1757\n",
      "Common utc_ 1: 1746\n",
      "Common utc_: 3503\n"
     ]
    }
   ],
   "source": [
    "common_numeric_columns = (df_photopic_transformed.columns).intersection(df_nc_transform_0.columns)\n",
    "common_columns = {'utc_'}.union(common_numeric_columns)\n",
    "print(f\"Common wavelength_: {len(common_numeric_columns)}\")\n",
    "print(f\"Common columns: {len(common_columns)}\")\n",
    "common_utc_0 = set(df_monitorpd_transformed['utc_']).intersection(set(df_nc_transform_0['utc_']))\n",
    "common_utc_1 = set(df_monitorpd_transformed['utc_']).intersection(set(df_nc_transform_1['utc_']))\n",
    "print(f\"Common utc_ 0: {len(common_utc_0)}\")\n",
    "print(f\"Common utc_ 1: {len(common_utc_1)}\")\n",
    "common_utc = common_utc_0 | common_utc_1\n",
    "print(f\"Common utc_: {len(common_utc)}\")"
   ],
   "metadata": {
    "collapsed": false,
    "ExecuteTime": {
     "end_time": "2023-10-23T21:35:20.504444Z",
     "start_time": "2023-10-23T21:35:20.424935Z"
    }
   },
   "id": "72476c68ffd7e181"
  },
  {
   "cell_type": "markdown",
   "source": [
    "##### [02-02]: Adjust 'monitorpd' dataset by common 'utc'"
   ],
   "metadata": {
    "collapsed": false
   },
   "id": "2502cd29cc10dacf"
  },
  {
   "cell_type": "code",
   "execution_count": 11,
   "outputs": [
    {
     "data": {
      "text/plain": "(1757, 3)"
     },
     "execution_count": 11,
     "metadata": {},
     "output_type": "execute_result"
    }
   ],
   "source": [
    "df_monitorpd_transformed_same_shape_0 = df_monitorpd_transformed[df_monitorpd_transformed['utc_'].isin(list(common_utc_0))].reset_index()\n",
    "df_monitorpd_transformed_same_shape_0 = df_monitorpd_transformed_same_shape_0.drop('index', axis=1)\n",
    "df_monitorpd_transformed_same_shape_0.shape"
   ],
   "metadata": {
    "collapsed": false,
    "ExecuteTime": {
     "end_time": "2023-10-23T21:35:20.504969Z",
     "start_time": "2023-10-23T21:35:20.472146Z"
    }
   },
   "id": "bc22f2492d277a7"
  },
  {
   "cell_type": "code",
   "execution_count": 12,
   "outputs": [
    {
     "data": {
      "text/plain": "(1746, 3)"
     },
     "execution_count": 12,
     "metadata": {},
     "output_type": "execute_result"
    }
   ],
   "source": [
    "df_monitorpd_transformed_same_shape_1 = df_monitorpd_transformed[df_monitorpd_transformed['utc_'].isin(list(common_utc_1))].reset_index()\n",
    "df_monitorpd_transformed_same_shape_1 = df_monitorpd_transformed_same_shape_1.drop('index', axis=1)\n",
    "df_monitorpd_transformed_same_shape_1.shape"
   ],
   "metadata": {
    "collapsed": false,
    "ExecuteTime": {
     "end_time": "2023-10-23T21:35:20.505083Z",
     "start_time": "2023-10-23T21:35:20.482898Z"
    }
   },
   "id": "6cc1a67f2c6fa9fd"
  },
  {
   "cell_type": "markdown",
   "source": [
    "##### [02-03]: Adjust 'hypernets' dataset by common 'wavelength' and 'utc'"
   ],
   "metadata": {
    "collapsed": false
   },
   "id": "29eabe801575ea39"
  },
  {
   "cell_type": "code",
   "execution_count": 13,
   "outputs": [
    {
     "data": {
      "text/plain": "(1757, 82)"
     },
     "execution_count": 13,
     "metadata": {},
     "output_type": "execute_result"
    }
   ],
   "source": [
    "df_nc_transform_same_shape_0 = df_nc_transform_0[list(common_columns)]\n",
    "df_nc_transform_same_shape_0 = df_nc_transform_same_shape_0[df_nc_transform_same_shape_0['utc_'].isin(list(common_utc))]\n",
    "df_nc_transform_same_shape_0 = df_nc_transform_same_shape_0\n",
    "df_nc_transform_same_shape_0.shape"
   ],
   "metadata": {
    "collapsed": false,
    "ExecuteTime": {
     "end_time": "2023-10-23T21:35:20.505169Z",
     "start_time": "2023-10-23T21:35:20.491431Z"
    }
   },
   "id": "109bf508d2953846"
  },
  {
   "cell_type": "code",
   "execution_count": 14,
   "outputs": [
    {
     "data": {
      "text/plain": "(1746, 82)"
     },
     "execution_count": 14,
     "metadata": {},
     "output_type": "execute_result"
    }
   ],
   "source": [
    "df_nc_transform_same_shape_1 = df_nc_transform_1[list(common_columns)]\n",
    "df_nc_transform_same_shape_1 = df_nc_transform_same_shape_1[df_nc_transform_same_shape_1['utc_'].isin(list(common_utc))]\n",
    "df_nc_transform_same_shape_1 = df_nc_transform_same_shape_1\n",
    "df_nc_transform_same_shape_1.shape"
   ],
   "metadata": {
    "collapsed": false,
    "ExecuteTime": {
     "end_time": "2023-10-23T21:35:20.505263Z",
     "start_time": "2023-10-23T21:35:20.495447Z"
    }
   },
   "id": "3a92d82b788859db"
  },
  {
   "cell_type": "markdown",
   "source": [
    "##### [02-04]: Save 'index-utc' combination"
   ],
   "metadata": {
    "collapsed": false
   },
   "id": "4cd588ba87183c25"
  },
  {
   "cell_type": "code",
   "execution_count": 15,
   "outputs": [
    {
     "data": {
      "text/plain": "(1757, 2)"
     },
     "execution_count": 15,
     "metadata": {},
     "output_type": "execute_result"
    }
   ],
   "source": [
    "df_nc_index_utc_0 = df_nc_transform_same_shape_0[['utc_']].copy()\n",
    "df_nc_index_utc_0['index_'] = df_nc_index_utc_0.index\n",
    "df_nc_index_utc_0.set_index('utc_')\n",
    "df_nc_index_utc_0.shape"
   ],
   "metadata": {
    "collapsed": false,
    "ExecuteTime": {
     "end_time": "2023-10-23T21:35:20.505394Z",
     "start_time": "2023-10-23T21:35:20.500675Z"
    }
   },
   "id": "b1dfb145da055253"
  },
  {
   "cell_type": "code",
   "execution_count": 16,
   "outputs": [
    {
     "data": {
      "text/plain": "(1746, 2)"
     },
     "execution_count": 16,
     "metadata": {},
     "output_type": "execute_result"
    }
   ],
   "source": [
    "df_nc_index_utc_1 = df_nc_transform_same_shape_1[['utc_']].copy()\n",
    "df_nc_index_utc_1['index_'] = df_nc_index_utc_1.index\n",
    "df_nc_index_utc_1.set_index('utc_')\n",
    "df_nc_index_utc_1.shape"
   ],
   "metadata": {
    "collapsed": false,
    "ExecuteTime": {
     "end_time": "2023-10-23T21:35:20.533781Z",
     "start_time": "2023-10-23T21:35:20.503338Z"
    }
   },
   "id": "1de6255eae882ac1"
  },
  {
   "cell_type": "markdown",
   "source": [
    "##### [02-05]: Get Ed0 ratio"
   ],
   "metadata": {
    "collapsed": false
   },
   "id": "a34d546ed8a6ec3d"
  },
  {
   "cell_type": "code",
   "execution_count": 17,
   "outputs": [
    {
     "data": {
      "text/plain": "         utc_  index_         lx__x    lx__y   lx_inv_    ratio_\n0  1689915676       0  10288.083922  20098.5  0.000050  0.511883\n1  1689916575       1  12160.575194  25260.2  0.000040  0.481412\n2  1689917475       2  12661.611588  26873.7  0.000037  0.471153",
      "text/html": "<div>\n<style scoped>\n    .dataframe tbody tr th:only-of-type {\n        vertical-align: middle;\n    }\n\n    .dataframe tbody tr th {\n        vertical-align: top;\n    }\n\n    .dataframe thead th {\n        text-align: right;\n    }\n</style>\n<table border=\"1\" class=\"dataframe\">\n  <thead>\n    <tr style=\"text-align: right;\">\n      <th></th>\n      <th>utc_</th>\n      <th>index_</th>\n      <th>lx__x</th>\n      <th>lx__y</th>\n      <th>lx_inv_</th>\n      <th>ratio_</th>\n    </tr>\n  </thead>\n  <tbody>\n    <tr>\n      <th>0</th>\n      <td>1689915676</td>\n      <td>0</td>\n      <td>10288.083922</td>\n      <td>20098.5</td>\n      <td>0.000050</td>\n      <td>0.511883</td>\n    </tr>\n    <tr>\n      <th>1</th>\n      <td>1689916575</td>\n      <td>1</td>\n      <td>12160.575194</td>\n      <td>25260.2</td>\n      <td>0.000040</td>\n      <td>0.481412</td>\n    </tr>\n    <tr>\n      <th>2</th>\n      <td>1689917475</td>\n      <td>2</td>\n      <td>12661.611588</td>\n      <td>26873.7</td>\n      <td>0.000037</td>\n      <td>0.471153</td>\n    </tr>\n  </tbody>\n</table>\n</div>"
     },
     "execution_count": 17,
     "metadata": {},
     "output_type": "execute_result"
    }
   ],
   "source": [
    "result = df_photopic_transformed[common_numeric_columns].values * df_nc_transform_same_shape_0[common_numeric_columns].values\n",
    "df_result = pd.DataFrame(result, columns=common_numeric_columns)\n",
    "df_result['utc_'] = df_nc_transform_same_shape_0['utc_']\n",
    "df_result['lx_'] = df_result[common_numeric_columns].sum(axis=1)\n",
    "Ed_0 = df_result.drop(columns=common_numeric_columns)\n",
    "Ed_0 = df_nc_index_utc_0.merge(Ed_0, on='utc_', how='left')\n",
    "Ed_0 = Ed_0.merge(df_monitorpd_transformed, on='utc_', how='left')\n",
    "Ed_0['ratio_'] = Ed_0['lx__x'] / Ed_0['lx__y']\n",
    "Ed_0.head(3)"
   ],
   "metadata": {
    "collapsed": false,
    "ExecuteTime": {
     "end_time": "2023-10-23T21:35:20.585387Z",
     "start_time": "2023-10-23T21:35:20.507286Z"
    }
   },
   "id": "109d9bcbc319fb5f"
  },
  {
   "cell_type": "markdown",
   "source": [
    "##### [02-06]: Get Ed1 ratio"
   ],
   "metadata": {
    "collapsed": false
   },
   "id": "a5fa891ded9abbca"
  },
  {
   "cell_type": "code",
   "execution_count": 18,
   "outputs": [
    {
     "data": {
      "text/plain": "         utc_  index_         lx__x    lx__y   lx_inv_    ratio_\n0  1689915754       0  10340.337894  20698.5  0.000048  0.499569\n1  1689916652       1  12164.250095  25301.7  0.000040  0.480768\n2  1689917550       2  12693.590911  28441.6  0.000035  0.446304",
      "text/html": "<div>\n<style scoped>\n    .dataframe tbody tr th:only-of-type {\n        vertical-align: middle;\n    }\n\n    .dataframe tbody tr th {\n        vertical-align: top;\n    }\n\n    .dataframe thead th {\n        text-align: right;\n    }\n</style>\n<table border=\"1\" class=\"dataframe\">\n  <thead>\n    <tr style=\"text-align: right;\">\n      <th></th>\n      <th>utc_</th>\n      <th>index_</th>\n      <th>lx__x</th>\n      <th>lx__y</th>\n      <th>lx_inv_</th>\n      <th>ratio_</th>\n    </tr>\n  </thead>\n  <tbody>\n    <tr>\n      <th>0</th>\n      <td>1689915754</td>\n      <td>0</td>\n      <td>10340.337894</td>\n      <td>20698.5</td>\n      <td>0.000048</td>\n      <td>0.499569</td>\n    </tr>\n    <tr>\n      <th>1</th>\n      <td>1689916652</td>\n      <td>1</td>\n      <td>12164.250095</td>\n      <td>25301.7</td>\n      <td>0.000040</td>\n      <td>0.480768</td>\n    </tr>\n    <tr>\n      <th>2</th>\n      <td>1689917550</td>\n      <td>2</td>\n      <td>12693.590911</td>\n      <td>28441.6</td>\n      <td>0.000035</td>\n      <td>0.446304</td>\n    </tr>\n  </tbody>\n</table>\n</div>"
     },
     "execution_count": 18,
     "metadata": {},
     "output_type": "execute_result"
    }
   ],
   "source": [
    "result = df_photopic_transformed[common_numeric_columns].values * df_nc_transform_same_shape_1[common_numeric_columns].values\n",
    "df_result = pd.DataFrame(result, columns=common_numeric_columns)\n",
    "df_result['utc_'] = df_nc_transform_same_shape_1['utc_']\n",
    "df_result['lx_'] = df_result[common_numeric_columns].sum(axis=1)\n",
    "Ed_1 = df_result.drop(columns=common_numeric_columns)\n",
    "Ed_1 = df_nc_index_utc_1.merge(Ed_1, on='utc_', how='left')\n",
    "Ed_1 = Ed_1.merge(df_monitorpd_transformed, on='utc_', how='left')\n",
    "Ed_1['ratio_'] = Ed_1['lx__x'] / Ed_1['lx__y']\n",
    "Ed_1.head(3)"
   ],
   "metadata": {
    "collapsed": false,
    "ExecuteTime": {
     "end_time": "2023-10-23T21:35:20.596155Z",
     "start_time": "2023-10-23T21:35:20.546489Z"
    }
   },
   "id": "afad2d0bb89b2b8b"
  },
  {
   "cell_type": "markdown",
   "source": [
    "##### [02-07]: Adjust Ed0 and Ed1 to common shape"
   ],
   "metadata": {
    "collapsed": false
   },
   "id": "34d92d5a4e6cb7c8"
  },
  {
   "cell_type": "code",
   "execution_count": 19,
   "outputs": [
    {
     "name": "stdout",
     "output_type": "stream",
     "text": [
      "Common index_: 1730\n"
     ]
    }
   ],
   "source": [
    "common_index = set(Ed_0['index_']).intersection(set(Ed_1['index_']))\n",
    "print(f\"Common index_: {len(common_index)}\")"
   ],
   "metadata": {
    "collapsed": false,
    "ExecuteTime": {
     "end_time": "2023-10-23T21:35:20.596472Z",
     "start_time": "2023-10-23T21:35:20.582430Z"
    }
   },
   "id": "bf14868df7a75482"
  },
  {
   "cell_type": "code",
   "execution_count": 20,
   "outputs": [
    {
     "data": {
      "text/plain": "(1730, 5)"
     },
     "execution_count": 20,
     "metadata": {},
     "output_type": "execute_result"
    }
   ],
   "source": [
    "Ed0_same_shape = Ed_0[Ed_0['index_'].isin(list(common_index))].set_index('index_')\n",
    "Ed0_same_shape.shape"
   ],
   "metadata": {
    "collapsed": false,
    "ExecuteTime": {
     "end_time": "2023-10-23T21:35:20.598351Z",
     "start_time": "2023-10-23T21:35:20.584648Z"
    }
   },
   "id": "97635a7e41e8d538"
  },
  {
   "cell_type": "code",
   "execution_count": 21,
   "outputs": [
    {
     "data": {
      "text/plain": "(1730, 5)"
     },
     "execution_count": 21,
     "metadata": {},
     "output_type": "execute_result"
    }
   ],
   "source": [
    "Ed1_same_shape = Ed_1[Ed_1['index_'].isin(list(common_index))].set_index('index_')\n",
    "Ed1_same_shape.shape"
   ],
   "metadata": {
    "collapsed": false,
    "ExecuteTime": {
     "end_time": "2023-10-23T21:35:20.598610Z",
     "start_time": "2023-10-23T21:35:20.589067Z"
    }
   },
   "id": "f530528e96ef9460"
  },
  {
   "cell_type": "markdown",
   "source": [
    "#### [03]: Calculate correlation between Ed0 and Ed1 ratios"
   ],
   "metadata": {
    "collapsed": false
   },
   "id": "e76c7c3b1cc38086"
  },
  {
   "cell_type": "code",
   "execution_count": 22,
   "outputs": [
    {
     "name": "stdout",
     "output_type": "stream",
     "text": [
      "Correlation between Ed0_ratio and Ed1_ratio: 0.6375715715784863\n"
     ]
    }
   ],
   "source": [
    "# Calculate the Pearson correlation between Set1 and Set2 features\n",
    "correlation = Ed0_same_shape['ratio_'].corr(Ed1_same_shape['ratio_'], method='pearson')\n",
    "print(f\"Correlation between Ed0_ratio and Ed1_ratio: {correlation}\")"
   ],
   "metadata": {
    "collapsed": false,
    "ExecuteTime": {
     "end_time": "2023-10-23T21:35:20.598751Z",
     "start_time": "2023-10-23T21:35:20.593467Z"
    }
   },
   "id": "c31507811c169875"
  },
  {
   "cell_type": "markdown",
   "source": [
    "#### [04]: Plot the relationship between Ed0 and Ed1 ratios"
   ],
   "metadata": {
    "collapsed": false
   },
   "id": "e434298e404cee53"
  },
  {
   "cell_type": "code",
   "execution_count": 23,
   "outputs": [
    {
     "data": {
      "text/plain": "<Figure size 640x480 with 1 Axes>",
      "image/png": "[encoded data removed]"
     },
     "metadata": {},
     "output_type": "display_data"
    }
   ],
   "source": [
    "import seaborn as sns\n",
    "import matplotlib.pyplot as plt\n",
    "import numpy as np\n",
    "\n",
    "# Set the Seaborn theme\n",
    "sns.set_theme(style=\"darkgrid\", palette=\"bright\")\n",
    "\n",
    "sns.scatterplot(x=Ed0_same_shape['ratio_'], y=Ed1_same_shape['ratio_'])\n",
    "plt.title(f\"r={round(correlation,2)}\")\n",
    "plt.xlabel('Ed0_ratio')\n",
    "plt.ylabel('Ed1_ratio')\n",
    "\n",
    "plt.show()"
   ],
   "metadata": {
    "collapsed": false,
    "ExecuteTime": {
     "end_time": "2023-10-23T21:35:20.738275Z",
     "start_time": "2023-10-23T21:35:20.598266Z"
    }
   },
   "id": "e44b49162ec9aad8"
  }
 ],
 "metadata": {
  "kernelspec": {
   "display_name": "Python 3",
   "language": "python",
   "name": "python3"
  },
  "language_info": {
   "codemirror_mode": {
    "name": "ipython",
    "version": 2
   },
   "file_extension": ".py",
   "mimetype": "text/x-python",
   "name": "python",
   "nbconvert_exporter": "python",
   "pygments_lexer": "ipython2",
   "version": "2.7.6"
  }
 },
 "nbformat": 4,
 "nbformat_minor": 5
}

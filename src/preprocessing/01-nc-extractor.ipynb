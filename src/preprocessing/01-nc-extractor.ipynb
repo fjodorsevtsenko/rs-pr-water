{
 "cells": [
  {
   "attachments": {},
   "cell_type": "markdown",
   "metadata": {},
   "source": [
    "## 01 - nc-extractor.ipynb"
   ]
  },
  {
   "attachments": {},
   "cell_type": "markdown",
   "metadata": {},
   "source": [
    "### Table of content\n",
    "\n",
    "[01-01]: Iterate over raw data\n",
    "\n",
    "[01-02]: Save extracted data"
   ]
  },
  {
   "cell_type": "code",
   "execution_count": 5,
   "metadata": {},
   "outputs": [],
   "source": [
    "import netCDF4 as nc"
   ]
  },
  {
   "cell_type": "code",
   "execution_count": 26,
   "metadata": {},
   "outputs": [
    {
     "name": "stdout",
     "output_type": "stream",
     "text": [
      "{'type': 'dataset', 'abstract': 'The HYPERNETS project (Horizon 2020 research and innovation, grant agreement No 775983) has the overall aim to provide high quality in situ measurements tosupport the (visible/SWIR) optical Copernicus products. Therefore a new multi-head hyperspectral spectroradiometer dedicated to land and water surface reflectance validation with instrument pointing capabilities and embedded calibration device has been established. The instrument has been deployed at 24 sites covering a range of water and land types and a range of climatic andlogistic conditions (www.hypernets.eu).', 'conventions': 'CFv72, NVS2.0', 'format_version': 'v01.0', 'netcdf_version': '1.6', 'processor_name': 'hypernets_processor', 'processor_version': '0.1', 'processor_atbd': 'TBD', 'product_name': 'HYPERNETS_W_LVES_L2A_REF_20230506T0502_20230509T0031_v1.0', 'data_created': '05/09/2023, 00:31:52', 'references': 'https://hypernets-processor.readthedocs.io/en/latest/', 'source': 'surface observation', 'comment': 'Any free-format text is appropriate.', 'easting': 'longitude', 'northing': 'latitude', 'acknowledgement': 'HYPERNETS project is funded by Horizon 2020 research and innovation program, Grand Agreement No 775993. Consortium of project  of the Hypernets test sites, .... are greatly acknowledged.', 'project_name': 'H2020 HYPERNETS GN 775993', 'language': 'English', 'operational_status': 'operational', 'limitations': 'no limitations to public access', 'licence': 'Attribution-NonCommercial-NoDerivs CC BY-NC-ND', 'conformity': 'notEvaluated', 'lineage': 'Quality assured following www.hypernets.eu/docs/QC/', 'instrument_configuration_file': 'TBD', 'history': 'TBD', 'processor_configuration_file': 'TBD', 'sequence_id': 'SEQ20230506T050252', 'system_id': 'HYPSTAR_122241', 'site_id': 'LVES', 'site_latitude': 58.211082, 'site_longitude': 26.107643, 'source_file': 'SEQ20230506T050252', 'system_temperature': 4.76, 'system_pressure': 1028.4, 'illuminance': 21919.5, 'system_relative_humidity': 53.9, 'instrument_id': '122241', 'pointing_system_id': 'TBD', 'calibration_device_id': 'TBD', 'irr_vis_head_id': 'TBD', 'rad_vis_head_id': 'TBD', 'rain_sensor_id': 'TBD', 'rgb_camera_id': 'TBD', 'topic_category': 'oceans, environment, inland waters, geoscientific information', 'keyword': 'Environmental monitoring Facilities (INSPIRE Spatial Data Theme), reflectance (http://aims.fao.org/aos/agrovoc/c_28538), optical properties(http://aims.fao.org/aos/agrovoc/c_5371),inland waters (http://www.eionet.europa.eu/gemet/concept/4333), sea (http://www.eionet.europa.eu/gemet/concept/7495)', 'locator': 'https://github.com/HYPERNETS/hypernets_processor/', 'responsible_party': 'Royal Belgian Institute for Natural Sciences, Directorate Natural Environment, REMSEM', 'creator_name': 'TBD', 'creator_email': 'TBD', 'fresnel_option': 'Mobley', 'similarity_waveref': 670, 'similarity_wavethres': 0.05, 'similarity_wavelen1': 720, 'similarity_wavelen2': 780, 'similarity_alpha': 2.35, 'title': 'HYPSTAR Water network dataset of spectral surface reflectance', 'instrument_calibration_file_rad': 'HYPERNETS_CAL_HYPSTAR_122241_RAD_v0.1.nc', 'instrument_calibration_file_irr': 'HYPERNETS_CAL_HYPSTAR_122241_IRR_v0.1.nc', 'IRR_acceleration_x_mean': '-9.307428359985352', 'IRR_acceleration_x_std': '0.026816812343895435', 'ss_res': '0.008036297383264918', 'nlu': 'NaN', 'nld': 'NaN', 'ned': 'NaN', 'product_level': 'W_L2A'}\n"
     ]
    }
   ],
   "source": [
    "fn_ = '../_data/waterhypernet/hypstar/processed20230317/LVES/2023/05/06/SEQ20230506T050252/HYPERNETS_W_LVES_L2A_REF_20230506T0502_20230509T0031_v1.0.nc'\n",
    "ds_ = nc.Dataset(fn_)\n",
    "print(ds_.__dict__)"
   ]
  },
  {
   "cell_type": "code",
   "execution_count": 27,
   "metadata": {},
   "outputs": [
    {
     "name": "stdout",
     "output_type": "stream",
     "text": [
      "dict_keys(['wavelength', 'bandwidth', 'viewing_azimuth_angle', 'viewing_zenith_angle', 'solar_azimuth_angle', 'solar_zenith_angle', 'acquisition_time', 'series_id', 'vaa_ref', 'vaa_abs', 'vaa_ask', 'quality_flag', 'reflectance', 'water_leaving_radiance', 'reflectance_nosc', 'u_rel_random_water_leaving_radiance', 'u_rel_systematic_water_leaving_radiance', 'corr_random_water_leaving_radiance', 'corr_systematic_water_leaving_radiance', 'u_rel_random_reflectance', 'u_rel_systematic_reflectance', 'corr_random_reflectance', 'corr_systematic_reflectance', 'u_rel_random_reflectance_nosc', 'u_rel_systematic_reflectance_nosc', 'corr_random_reflectance_nosc', 'corr_systematic_reflectance_nosc', 'epsilon', 'u_rel_random_epsilon', 'u_rel_systematic_epsilon', 'rhof', 'fresnel_wind', 'reflectance_std', 'water_leaving_radiance_std', 'reflectance_nosc_std'])\n"
     ]
    }
   ],
   "source": [
    "print(ds_.variables.keys())"
   ]
  },
  {
   "attachments": {},
   "cell_type": "markdown",
   "metadata": {},
   "source": [
    "#### [01-01]: Iterate over raw data"
   ]
  },
  {
   "cell_type": "code",
   "execution_count": 29,
   "metadata": {},
   "outputs": [],
   "source": [
    "# _nc_files % find ../waterhypernet -type f -name \"*.nc\" -exec cp {} .\\;\n",
    "\n",
    "import pandas as pd\n",
    "import os\n",
    "\n",
    "directory_path = \"/Volumes/RND_1/DataScience214386/LTT0.00.027 - Data Science in Remote Sensing/2023/_project/_data/_nc_files\"\n",
    "\n",
    "df_all_metadata = pd.DataFrame()\n",
    "df_all_data = pd.DataFrame()\n",
    "for filename in os.listdir(directory_path):\n",
    "    filepath = os.path.join(directory_path, filename)\n",
    "    if os.path.isfile(filepath) and filename[0] != '.':\n",
    "        ds = nc.Dataset(filepath)\n",
    "        df_all_metadata__ = pd.DataFrame(ds.__dict__, index=[0])\n",
    "        metadata = ['data_created', 'sequence_id', 'system_id', 'site_id', 'site_latitude', 'site_longitude', 'source_file', 'system_temperature', 'system_pressure', 'illuminance', 'system_relative_humidity','fresnel_option', 'similarity_waveref', 'similarity_wavethres', 'similarity_wavelen1', 'similarity_wavelen2', 'similarity_alpha', 'title', 'instrument_calibration_file_rad', 'IRR_acceleration_x_mean', 'IRR_acceleration_x_std', 'ss_res', 'product_level']\n",
    "        df_all_metadata__ = df_all_metadata__[metadata]\n",
    "        sequence_id = str(df_all_metadata__['sequence_id'][0])\n",
    "        system_id = str(df_all_metadata__['system_id'][0])\n",
    "        site_id = str(df_all_metadata__['site_id'][0])\n",
    "        source_file = str(df_all_metadata__['source_file'][0])\n",
    "        data_created = pd.to_datetime(str(df_all_metadata__['data_created'][0]), format='%m/%d/%Y, %H:%M:%S')\n",
    "        df_all_metadata__['data_created'] = data_created\n",
    "\n",
    "        df_all_data__ = pd.DataFrame()\n",
    "        #variables = ['wavelength', 'bandwidth', 'viewing_azimuth_angle', 'viewing_zenith_angle', 'solar_azimuth_angle', 'solar_zenith_angle', 'acquisition_time', 'series_id', 'vaa_ref', 'vaa_abs', 'vaa_ask', 'quality_flag', 'reflectance', 'water_leaving_radiance', 'reflectance_nosc', 'u_rel_random_water_leaving_radiance', 'u_rel_systematic_water_leaving_radiance', 'corr_random_water_leaving_radiance', 'corr_systematic_water_leaving_radiance', 'u_rel_random_reflectance', 'u_rel_systematic_reflectance', 'corr_random_reflectance', 'corr_systematic_reflectance', 'u_rel_random_reflectance_nosc', 'u_rel_systematic_reflectance_nosc', 'corr_random_reflectance_nosc', 'corr_systematic_reflectance_nosc', 'epsilon', 'u_rel_random_epsilon', 'u_rel_systematic_epsilon', 'rhof', 'fresnel_wind', 'reflectance_std', 'water_leaving_radiance_std', 'reflectance_nosc_std']\n",
    "        variables = ['wavelength', 'reflectance']\n",
    "        for variable in variables:\n",
    "            var_array_ = ds.variables[f'{variable}']\n",
    "            if (var_array_.ndim == 1 and len(var_array_) == 1):\n",
    "                df_all_metadata__[f'{variable}'] = ds.variables[f'{variable}'][:][0]\n",
    "            elif (var_array_.ndim == 1 and len(var_array_) > 1):\n",
    "                df_all_data__[f'{variable}'] = ds.variables[f'{variable}'][:]\n",
    "            elif (var_array_.ndim == 2 and var_array_.shape[1] == 1):\n",
    "                df_all_data__[f'{variable}'] = ds.variables[f'{variable}'][:]\n",
    "            else:\n",
    "                print(f'skipped: {variable}')\n",
    "\n",
    "        df_all_metadata = pd.concat([df_all_metadata, df_all_metadata__], ignore_index=True)\n",
    "        df_all_data__['data_created'] = data_created\n",
    "        df_all_data__['sequence_id'] = sequence_id\n",
    "        df_all_data__['system_id'] = system_id\n",
    "        df_all_data__['site_id'] = site_id\n",
    "        df_all_data__['source_file'] = source_file\n",
    "        df_all_data = pd.concat([df_all_data, df_all_data__], ignore_index=True)"
   ]
  },
  {
   "cell_type": "code",
   "execution_count": 30,
   "metadata": {},
   "outputs": [
    {
     "data": {
      "text/html": [
       "<div>\n",
       "<style scoped>\n",
       "    .dataframe tbody tr th:only-of-type {\n",
       "        vertical-align: middle;\n",
       "    }\n",
       "\n",
       "    .dataframe tbody tr th {\n",
       "        vertical-align: top;\n",
       "    }\n",
       "\n",
       "    .dataframe thead th {\n",
       "        text-align: right;\n",
       "    }\n",
       "</style>\n",
       "<table border=\"1\" class=\"dataframe\">\n",
       "  <thead>\n",
       "    <tr style=\"text-align: right;\">\n",
       "      <th></th>\n",
       "      <th>data_created</th>\n",
       "      <th>sequence_id</th>\n",
       "      <th>system_id</th>\n",
       "      <th>site_id</th>\n",
       "      <th>site_latitude</th>\n",
       "      <th>site_longitude</th>\n",
       "      <th>source_file</th>\n",
       "      <th>system_temperature</th>\n",
       "      <th>system_pressure</th>\n",
       "      <th>illuminance</th>\n",
       "      <th>...</th>\n",
       "      <th>similarity_wavethres</th>\n",
       "      <th>similarity_wavelen1</th>\n",
       "      <th>similarity_wavelen2</th>\n",
       "      <th>similarity_alpha</th>\n",
       "      <th>title</th>\n",
       "      <th>instrument_calibration_file_rad</th>\n",
       "      <th>IRR_acceleration_x_mean</th>\n",
       "      <th>IRR_acceleration_x_std</th>\n",
       "      <th>ss_res</th>\n",
       "      <th>product_level</th>\n",
       "    </tr>\n",
       "  </thead>\n",
       "  <tbody>\n",
       "    <tr>\n",
       "      <th>0</th>\n",
       "      <td>2023-05-20 16:16:40</td>\n",
       "      <td>SEQ20230520T140039</td>\n",
       "      <td>HYPSTAR_122241</td>\n",
       "      <td>LVES</td>\n",
       "      <td>58.211082</td>\n",
       "      <td>26.107643</td>\n",
       "      <td>SEQ20230520T140039</td>\n",
       "      <td>23.61</td>\n",
       "      <td>1027.81</td>\n",
       "      <td>40113.9</td>\n",
       "      <td>...</td>\n",
       "      <td>0.05</td>\n",
       "      <td>720</td>\n",
       "      <td>780</td>\n",
       "      <td>2.35</td>\n",
       "      <td>HYPSTAR Water network dataset of spectral surf...</td>\n",
       "      <td>HYPERNETS_CAL_HYPSTAR_122241_RAD_v0.1.nc</td>\n",
       "      <td>-9.099373817443848</td>\n",
       "      <td>0.03329671360552311</td>\n",
       "      <td>0.000988841544155856</td>\n",
       "      <td>W_L2A</td>\n",
       "    </tr>\n",
       "    <tr>\n",
       "      <th>1</th>\n",
       "      <td>2023-05-20 17:46:25</td>\n",
       "      <td>SEQ20230520T153043</td>\n",
       "      <td>HYPSTAR_122241</td>\n",
       "      <td>LVES</td>\n",
       "      <td>58.211082</td>\n",
       "      <td>26.107643</td>\n",
       "      <td>SEQ20230520T153043</td>\n",
       "      <td>24.46</td>\n",
       "      <td>1026.99</td>\n",
       "      <td>5208.3</td>\n",
       "      <td>...</td>\n",
       "      <td>0.05</td>\n",
       "      <td>720</td>\n",
       "      <td>780</td>\n",
       "      <td>2.35</td>\n",
       "      <td>HYPSTAR Water network dataset of spectral surf...</td>\n",
       "      <td>HYPERNETS_CAL_HYPSTAR_122241_RAD_v0.1.nc</td>\n",
       "      <td>-9.091597557067871</td>\n",
       "      <td>0.03200073167681694</td>\n",
       "      <td>0.0039103342352075745</td>\n",
       "      <td>W_L2A</td>\n",
       "    </tr>\n",
       "  </tbody>\n",
       "</table>\n",
       "<p>2 rows × 23 columns</p>\n",
       "</div>"
      ],
      "text/plain": [
       "         data_created         sequence_id       system_id site_id  \\\n",
       "0 2023-05-20 16:16:40  SEQ20230520T140039  HYPSTAR_122241    LVES   \n",
       "1 2023-05-20 17:46:25  SEQ20230520T153043  HYPSTAR_122241    LVES   \n",
       "\n",
       "   site_latitude  site_longitude         source_file  system_temperature  \\\n",
       "0      58.211082       26.107643  SEQ20230520T140039               23.61   \n",
       "1      58.211082       26.107643  SEQ20230520T153043               24.46   \n",
       "\n",
       "   system_pressure  illuminance  ...  similarity_wavethres  \\\n",
       "0          1027.81      40113.9  ...                  0.05   \n",
       "1          1026.99       5208.3  ...                  0.05   \n",
       "\n",
       "  similarity_wavelen1  similarity_wavelen2  similarity_alpha  \\\n",
       "0                 720                  780              2.35   \n",
       "1                 720                  780              2.35   \n",
       "\n",
       "                                               title  \\\n",
       "0  HYPSTAR Water network dataset of spectral surf...   \n",
       "1  HYPSTAR Water network dataset of spectral surf...   \n",
       "\n",
       "            instrument_calibration_file_rad  IRR_acceleration_x_mean  \\\n",
       "0  HYPERNETS_CAL_HYPSTAR_122241_RAD_v0.1.nc       -9.099373817443848   \n",
       "1  HYPERNETS_CAL_HYPSTAR_122241_RAD_v0.1.nc       -9.091597557067871   \n",
       "\n",
       "  IRR_acceleration_x_std                 ss_res product_level  \n",
       "0    0.03329671360552311   0.000988841544155856         W_L2A  \n",
       "1    0.03200073167681694  0.0039103342352075745         W_L2A  \n",
       "\n",
       "[2 rows x 23 columns]"
      ]
     },
     "execution_count": 30,
     "metadata": {},
     "output_type": "execute_result"
    }
   ],
   "source": [
    "df_all_metadata.head(2)"
   ]
  },
  {
   "cell_type": "code",
   "execution_count": 31,
   "metadata": {},
   "outputs": [
    {
     "data": {
      "text/html": [
       "<div>\n",
       "<style scoped>\n",
       "    .dataframe tbody tr th:only-of-type {\n",
       "        vertical-align: middle;\n",
       "    }\n",
       "\n",
       "    .dataframe tbody tr th {\n",
       "        vertical-align: top;\n",
       "    }\n",
       "\n",
       "    .dataframe thead th {\n",
       "        text-align: right;\n",
       "    }\n",
       "</style>\n",
       "<table border=\"1\" class=\"dataframe\">\n",
       "  <thead>\n",
       "    <tr style=\"text-align: right;\">\n",
       "      <th></th>\n",
       "      <th>wavelength</th>\n",
       "      <th>reflectance</th>\n",
       "      <th>data_created</th>\n",
       "      <th>sequence_id</th>\n",
       "      <th>system_id</th>\n",
       "      <th>site_id</th>\n",
       "    </tr>\n",
       "  </thead>\n",
       "  <tbody>\n",
       "    <tr>\n",
       "      <th>0</th>\n",
       "      <td>350.45</td>\n",
       "      <td>-0.051876</td>\n",
       "      <td>2023-05-20 16:16:40</td>\n",
       "      <td>SEQ20230520T140039</td>\n",
       "      <td>HYPSTAR_122241</td>\n",
       "      <td>LVES</td>\n",
       "    </tr>\n",
       "    <tr>\n",
       "      <th>1</th>\n",
       "      <td>350.91</td>\n",
       "      <td>-0.050752</td>\n",
       "      <td>2023-05-20 16:16:40</td>\n",
       "      <td>SEQ20230520T140039</td>\n",
       "      <td>HYPSTAR_122241</td>\n",
       "      <td>LVES</td>\n",
       "    </tr>\n",
       "  </tbody>\n",
       "</table>\n",
       "</div>"
      ],
      "text/plain": [
       "   wavelength  reflectance        data_created         sequence_id  \\\n",
       "0      350.45    -0.051876 2023-05-20 16:16:40  SEQ20230520T140039   \n",
       "1      350.91    -0.050752 2023-05-20 16:16:40  SEQ20230520T140039   \n",
       "\n",
       "        system_id site_id  \n",
       "0  HYPSTAR_122241    LVES  \n",
       "1  HYPSTAR_122241    LVES  "
      ]
     },
     "execution_count": 31,
     "metadata": {},
     "output_type": "execute_result"
    }
   ],
   "source": [
    "df_all_data.head(2)"
   ]
  },
  {
   "attachments": {},
   "cell_type": "markdown",
   "metadata": {},
   "source": [
    "#### [01-02]: Save extracted data"
   ]
  },
  {
   "cell_type": "code",
   "execution_count": 32,
   "metadata": {},
   "outputs": [],
   "source": [
    "df_all_metadata = df_all_metadata.sort_values(by='data_created')\n",
    "df_all_metadata.to_csv(\"/Volumes/RND_1/DataScience214386/LTT0.00.027 - Data Science in Remote Sensing/2023/_project/_data/_nc_extracts/metadata_extracted.csv\", index=False)\n",
    "\n",
    "df_all_data = df_all_data.sort_values(by='data_created')\n",
    "df_all_data.to_csv(\"/Volumes/RND_1/DataScience214386/LTT0.00.027 - Data Science in Remote Sensing/2023/_project/_data/_nc_extracts/data_extracted.csv\", index=False)"
   ]
  }
 ],
 "metadata": {
  "kernelspec": {
   "display_name": "rs",
   "language": "python",
   "name": "python3"
  },
  "language_info": {
   "codemirror_mode": {
    "name": "ipython",
    "version": 3
   },
   "file_extension": ".py",
   "mimetype": "text/x-python",
   "name": "python",
   "nbconvert_exporter": "python",
   "pygments_lexer": "ipython3",
   "version": "3.11.5"
  },
  "orig_nbformat": 4,
  "vscode": {
   "interpreter": {
    "hash": "213aaac24d4adead45603facc7ab00d980567e02ff00b66ea0d1d6bf6234e96f"
   }
  }
 },
 "nbformat": 4,
 "nbformat_minor": 2
}

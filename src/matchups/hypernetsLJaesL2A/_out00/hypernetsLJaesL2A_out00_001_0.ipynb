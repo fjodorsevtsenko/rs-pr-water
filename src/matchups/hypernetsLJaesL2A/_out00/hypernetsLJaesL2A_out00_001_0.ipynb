{
 "cells": [
  {
   "cell_type": "code",
   "execution_count": 1,
   "outputs": [],
   "source": [
    "import pandas as pd\n",
    "import warnings\n",
    "warnings.filterwarnings('ignore')\n",
    "\n",
    "from models.datamanager.hypernetsLJaesL2A.__lib._util import util as _utilLocal\n",
    "from models.datamanager.__lib._util import util as _util"
   ],
   "metadata": {
    "collapsed": false,
    "ExecuteTime": {
     "end_time": "2023-11-21T10:29:06.420351Z",
     "start_time": "2023-11-21T10:29:06.044518Z"
    }
   },
   "id": "695d58e2033c27a3"
  },
  {
   "cell_type": "code",
   "execution_count": 2,
   "outputs": [],
   "source": [
    "# Load helpers\n",
    "helperUtil = _util.HelperUtil()\n",
    "helperUtilLocal = _utilLocal.HelperUtil()"
   ],
   "metadata": {
    "collapsed": false,
    "ExecuteTime": {
     "end_time": "2023-11-21T10:29:06.423504Z",
     "start_time": "2023-11-21T10:29:06.421467Z"
    }
   },
   "id": "6385010767e0d1cf"
  },
  {
   "cell_type": "code",
   "execution_count": 3,
   "outputs": [],
   "source": [
    "PATH_TO_HYPERNETS_NC_FOLDER = \"../../../../data/hypernetsLJaesL2A/_inp/_nc/\"\n",
    "PATH_TO_HYPERNETS_NC_FILE = f\"{PATH_TO_HYPERNETS_NC_FOLDER}HYPERNETS_L_JAES_L2A_REF_20230501T0701_20230909T0204_v1.0.nc\"\n",
    "PATH_OUTPUT = \"../../../../data/hypernetsLJaesL2A/_out00/hypernetsLJaesL2A_out00_001_0.parquet\""
   ],
   "metadata": {
    "collapsed": false,
    "ExecuteTime": {
     "end_time": "2023-11-21T10:29:06.425861Z",
     "start_time": "2023-11-21T10:29:06.424301Z"
    }
   },
   "id": "e7572d61a7651ed7"
  },
  {
   "cell_type": "code",
   "execution_count": 4,
   "outputs": [],
   "source": [
    "# Test calls\n",
    "#links = helperUtil.get_all_filepaths_by_extension(\"../../../../data/hypernetsLJaesL2A/_inp/_nc\", \"nc\")\n",
    "#df_wavelength = helperUtilLocal.get_nc_wavelength(PATH_TO_HYPERNETS_NC_FILE)\n",
    "#df_relectance = helperUtilLocal.get_nc_reflectance(PATH_TO_HYPERNETS_NC_FILE)\n",
    "#int_acquisitiontime = helperUtilLocal.get_nc_acquisition_time(PATH_TO_HYPERNETS_NC_FILE)\n",
    "#helperUtilLocal.get_nc_combined_and_transformed(df_wavelength, df_relectance, int_acquisitiontime)\n",
    "#helperUtilLocal.get_nc_transformed(PATH_TO_HYPERNETS_NC_FILE)\n"
   ],
   "metadata": {
    "collapsed": false,
    "ExecuteTime": {
     "end_time": "2023-11-21T10:29:06.428162Z",
     "start_time": "2023-11-21T10:29:06.426776Z"
    }
   },
   "id": "ccab85a7e8c2746b"
  },
  {
   "cell_type": "code",
   "execution_count": 5,
   "outputs": [
    {
     "data": {
      "text/plain": "            utc_  viewing_azimuth_angle_  viewing_zenith_angle_       350  \\\n288   1682924544                     293                     30  0.012570   \n1206  1682928256                     293                     30  0.012720   \n15    1682931840                     293                     30  0.013713   \n\n           351       352       353       354       355       356  ...  \\\n288   0.013626  0.013652  0.013176  0.013831  0.012573  0.012878  ...   \n1206  0.012076  0.012637  0.012446  0.012464  0.011680  0.012052  ...   \n15    0.013225  0.014141  0.013572  0.013605  0.012874  0.013195  ...   \n\n          1663      1665      1668      1670      1673      1675      1678  \\\n288   0.151796  0.153363  0.153376  0.152922  0.153307  0.153620  0.152973   \n1206  0.124117  0.124184  0.124784  0.124066  0.123818  0.124145  0.124165   \n15    0.143013  0.143919  0.143942  0.143402  0.143390  0.142059  0.143875   \n\n          1681      1683      1686  \n288   0.153170  0.151986  0.150545  \n1206  0.123896  0.124254  0.123691  \n15    0.144043  0.142242  0.141879  \n\n[3 rows x 876 columns]",
      "text/html": "<div>\n<style scoped>\n    .dataframe tbody tr th:only-of-type {\n        vertical-align: middle;\n    }\n\n    .dataframe tbody tr th {\n        vertical-align: top;\n    }\n\n    .dataframe thead th {\n        text-align: right;\n    }\n</style>\n<table border=\"1\" class=\"dataframe\">\n  <thead>\n    <tr style=\"text-align: right;\">\n      <th></th>\n      <th>utc_</th>\n      <th>viewing_azimuth_angle_</th>\n      <th>viewing_zenith_angle_</th>\n      <th>350</th>\n      <th>351</th>\n      <th>352</th>\n      <th>353</th>\n      <th>354</th>\n      <th>355</th>\n      <th>356</th>\n      <th>...</th>\n      <th>1663</th>\n      <th>1665</th>\n      <th>1668</th>\n      <th>1670</th>\n      <th>1673</th>\n      <th>1675</th>\n      <th>1678</th>\n      <th>1681</th>\n      <th>1683</th>\n      <th>1686</th>\n    </tr>\n  </thead>\n  <tbody>\n    <tr>\n      <th>288</th>\n      <td>1682924544</td>\n      <td>293</td>\n      <td>30</td>\n      <td>0.012570</td>\n      <td>0.013626</td>\n      <td>0.013652</td>\n      <td>0.013176</td>\n      <td>0.013831</td>\n      <td>0.012573</td>\n      <td>0.012878</td>\n      <td>...</td>\n      <td>0.151796</td>\n      <td>0.153363</td>\n      <td>0.153376</td>\n      <td>0.152922</td>\n      <td>0.153307</td>\n      <td>0.153620</td>\n      <td>0.152973</td>\n      <td>0.153170</td>\n      <td>0.151986</td>\n      <td>0.150545</td>\n    </tr>\n    <tr>\n      <th>1206</th>\n      <td>1682928256</td>\n      <td>293</td>\n      <td>30</td>\n      <td>0.012720</td>\n      <td>0.012076</td>\n      <td>0.012637</td>\n      <td>0.012446</td>\n      <td>0.012464</td>\n      <td>0.011680</td>\n      <td>0.012052</td>\n      <td>...</td>\n      <td>0.124117</td>\n      <td>0.124184</td>\n      <td>0.124784</td>\n      <td>0.124066</td>\n      <td>0.123818</td>\n      <td>0.124145</td>\n      <td>0.124165</td>\n      <td>0.123896</td>\n      <td>0.124254</td>\n      <td>0.123691</td>\n    </tr>\n    <tr>\n      <th>15</th>\n      <td>1682931840</td>\n      <td>293</td>\n      <td>30</td>\n      <td>0.013713</td>\n      <td>0.013225</td>\n      <td>0.014141</td>\n      <td>0.013572</td>\n      <td>0.013605</td>\n      <td>0.012874</td>\n      <td>0.013195</td>\n      <td>...</td>\n      <td>0.143013</td>\n      <td>0.143919</td>\n      <td>0.143942</td>\n      <td>0.143402</td>\n      <td>0.143390</td>\n      <td>0.142059</td>\n      <td>0.143875</td>\n      <td>0.144043</td>\n      <td>0.142242</td>\n      <td>0.141879</td>\n    </tr>\n  </tbody>\n</table>\n<p>3 rows × 876 columns</p>\n</div>"
     },
     "execution_count": 5,
     "metadata": {},
     "output_type": "execute_result"
    }
   ],
   "source": [
    "hypernetsLJaesL2A_out00_001_0 = pd.concat(\n",
    "    map(helperUtilLocal.get_nc_transformed, helperUtil.get_all_filepaths_by_extension(PATH_TO_HYPERNETS_NC_FOLDER, \"nc\")\n",
    "), ignore_index=True)\n",
    "\n",
    "hypernetsLJaesL2A_out00_001_0.sort_values(by='utc_', ascending=True).head(3)\n",
    "#df_nc_transform_0.to_parquet(f\"{PATH_TO_EXPORT}_01_df_nc_transformed_0.parquet\", index=False)"
   ],
   "metadata": {
    "collapsed": false,
    "ExecuteTime": {
     "end_time": "2023-11-21T10:29:46.340087Z",
     "start_time": "2023-11-21T10:29:06.430044Z"
    }
   },
   "id": "f092e4560480a638"
  },
  {
   "cell_type": "code",
   "execution_count": 6,
   "outputs": [
    {
     "data": {
      "text/plain": "         utc_  viewing_azimuth_angle_  viewing_zenith_angle_       350  \\\n0  1686584064                     293                     30  0.004625   \n1  1692866048                     293                     30  0.006182   \n2  1691820160                     293                     30  0.010155   \n\n        351       352       353       354       355       356  ...      1663  \\\n0  0.004307  0.004540  0.004497  0.004145  0.003909  0.004103  ...  0.014135   \n1  0.005801  0.005869  0.005559  0.005401  0.005406  0.005297  ...  0.061748   \n2  0.010084  0.010552  0.010096  0.009040  0.008312  0.009141  ...  0.122593   \n\n       1665      1668      1670      1673      1675      1678      1681  \\\n0  0.013998  0.014228  0.014129  0.013977  0.013785  0.013783  0.014484   \n1  0.062347  0.062733  0.061653  0.062367  0.062205  0.062450  0.061626   \n2  0.123089  0.124041  0.123140  0.123814  0.122610  0.122189  0.120850   \n\n       1683      1686  \n0  0.013635  0.013047  \n1  0.062690  0.060976  \n2  0.123345  0.121677  \n\n[3 rows x 876 columns]",
      "text/html": "<div>\n<style scoped>\n    .dataframe tbody tr th:only-of-type {\n        vertical-align: middle;\n    }\n\n    .dataframe tbody tr th {\n        vertical-align: top;\n    }\n\n    .dataframe thead th {\n        text-align: right;\n    }\n</style>\n<table border=\"1\" class=\"dataframe\">\n  <thead>\n    <tr style=\"text-align: right;\">\n      <th></th>\n      <th>utc_</th>\n      <th>viewing_azimuth_angle_</th>\n      <th>viewing_zenith_angle_</th>\n      <th>350</th>\n      <th>351</th>\n      <th>352</th>\n      <th>353</th>\n      <th>354</th>\n      <th>355</th>\n      <th>356</th>\n      <th>...</th>\n      <th>1663</th>\n      <th>1665</th>\n      <th>1668</th>\n      <th>1670</th>\n      <th>1673</th>\n      <th>1675</th>\n      <th>1678</th>\n      <th>1681</th>\n      <th>1683</th>\n      <th>1686</th>\n    </tr>\n  </thead>\n  <tbody>\n    <tr>\n      <th>0</th>\n      <td>1686584064</td>\n      <td>293</td>\n      <td>30</td>\n      <td>0.004625</td>\n      <td>0.004307</td>\n      <td>0.004540</td>\n      <td>0.004497</td>\n      <td>0.004145</td>\n      <td>0.003909</td>\n      <td>0.004103</td>\n      <td>...</td>\n      <td>0.014135</td>\n      <td>0.013998</td>\n      <td>0.014228</td>\n      <td>0.014129</td>\n      <td>0.013977</td>\n      <td>0.013785</td>\n      <td>0.013783</td>\n      <td>0.014484</td>\n      <td>0.013635</td>\n      <td>0.013047</td>\n    </tr>\n    <tr>\n      <th>1</th>\n      <td>1692866048</td>\n      <td>293</td>\n      <td>30</td>\n      <td>0.006182</td>\n      <td>0.005801</td>\n      <td>0.005869</td>\n      <td>0.005559</td>\n      <td>0.005401</td>\n      <td>0.005406</td>\n      <td>0.005297</td>\n      <td>...</td>\n      <td>0.061748</td>\n      <td>0.062347</td>\n      <td>0.062733</td>\n      <td>0.061653</td>\n      <td>0.062367</td>\n      <td>0.062205</td>\n      <td>0.062450</td>\n      <td>0.061626</td>\n      <td>0.062690</td>\n      <td>0.060976</td>\n    </tr>\n    <tr>\n      <th>2</th>\n      <td>1691820160</td>\n      <td>293</td>\n      <td>30</td>\n      <td>0.010155</td>\n      <td>0.010084</td>\n      <td>0.010552</td>\n      <td>0.010096</td>\n      <td>0.009040</td>\n      <td>0.008312</td>\n      <td>0.009141</td>\n      <td>...</td>\n      <td>0.122593</td>\n      <td>0.123089</td>\n      <td>0.124041</td>\n      <td>0.123140</td>\n      <td>0.123814</td>\n      <td>0.122610</td>\n      <td>0.122189</td>\n      <td>0.120850</td>\n      <td>0.123345</td>\n      <td>0.121677</td>\n    </tr>\n  </tbody>\n</table>\n<p>3 rows × 876 columns</p>\n</div>"
     },
     "execution_count": 6,
     "metadata": {},
     "output_type": "execute_result"
    }
   ],
   "source": [
    "hypernetsLJaesL2A_out00_001_0.to_parquet(PATH_OUTPUT)\n",
    "pd.read_parquet(PATH_OUTPUT).head(3)"
   ],
   "metadata": {
    "collapsed": false,
    "ExecuteTime": {
     "end_time": "2023-11-21T10:29:46.598058Z",
     "start_time": "2023-11-21T10:29:46.340659Z"
    }
   },
   "id": "d5c55fabab13069b"
  }
 ],
 "metadata": {
  "kernelspec": {
   "display_name": "Python 3",
   "language": "python",
   "name": "python3"
  },
  "language_info": {
   "codemirror_mode": {
    "name": "ipython",
    "version": 2
   },
   "file_extension": ".py",
   "mimetype": "text/x-python",
   "name": "python",
   "nbconvert_exporter": "python",
   "pygments_lexer": "ipython2",
   "version": "2.7.6"
  }
 },
 "nbformat": 4,
 "nbformat_minor": 5
}

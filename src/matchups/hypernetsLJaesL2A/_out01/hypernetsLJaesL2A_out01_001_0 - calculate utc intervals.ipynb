{
 "cells": [
  {
   "cell_type": "code",
   "execution_count": 1,
   "id": "initial_id",
   "metadata": {
    "collapsed": true,
    "ExecuteTime": {
     "end_time": "2023-11-22T12:47:31.262162Z",
     "start_time": "2023-11-22T12:47:30.967685Z"
    }
   },
   "outputs": [],
   "source": [
    "import pandas as pd\n",
    "import numpy as np\n",
    "import warnings\n",
    "import datetime\n",
    "warnings.filterwarnings('ignore')"
   ]
  },
  {
   "cell_type": "code",
   "execution_count": 2,
   "outputs": [
    {
     "data": {
      "text/plain": "         utc_  viewing_azimuth_angle_  viewing_zenith_angle_       350  \\\n0  1686584064                     293                     30  0.004625   \n1  1692866048                     293                     30  0.006182   \n2  1691820160                     293                     30  0.010155   \n\n        351       352       353       354       355       356  ...      1663  \\\n0  0.004307  0.004540  0.004497  0.004145  0.003909  0.004103  ...  0.014135   \n1  0.005801  0.005869  0.005559  0.005401  0.005406  0.005297  ...  0.061748   \n2  0.010084  0.010552  0.010096  0.009040  0.008312  0.009141  ...  0.122593   \n\n       1665      1668      1670      1673      1675      1678      1681  \\\n0  0.013998  0.014228  0.014129  0.013977  0.013785  0.013783  0.014484   \n1  0.062347  0.062733  0.061653  0.062367  0.062205  0.062450  0.061626   \n2  0.123089  0.124041  0.123140  0.123814  0.122610  0.122189  0.120850   \n\n       1683      1686  \n0  0.013635  0.013047  \n1  0.062690  0.060976  \n2  0.123345  0.121677  \n\n[3 rows x 876 columns]",
      "text/html": "<div>\n<style scoped>\n    .dataframe tbody tr th:only-of-type {\n        vertical-align: middle;\n    }\n\n    .dataframe tbody tr th {\n        vertical-align: top;\n    }\n\n    .dataframe thead th {\n        text-align: right;\n    }\n</style>\n<table border=\"1\" class=\"dataframe\">\n  <thead>\n    <tr style=\"text-align: right;\">\n      <th></th>\n      <th>utc_</th>\n      <th>viewing_azimuth_angle_</th>\n      <th>viewing_zenith_angle_</th>\n      <th>350</th>\n      <th>351</th>\n      <th>352</th>\n      <th>353</th>\n      <th>354</th>\n      <th>355</th>\n      <th>356</th>\n      <th>...</th>\n      <th>1663</th>\n      <th>1665</th>\n      <th>1668</th>\n      <th>1670</th>\n      <th>1673</th>\n      <th>1675</th>\n      <th>1678</th>\n      <th>1681</th>\n      <th>1683</th>\n      <th>1686</th>\n    </tr>\n  </thead>\n  <tbody>\n    <tr>\n      <th>0</th>\n      <td>1686584064</td>\n      <td>293</td>\n      <td>30</td>\n      <td>0.004625</td>\n      <td>0.004307</td>\n      <td>0.004540</td>\n      <td>0.004497</td>\n      <td>0.004145</td>\n      <td>0.003909</td>\n      <td>0.004103</td>\n      <td>...</td>\n      <td>0.014135</td>\n      <td>0.013998</td>\n      <td>0.014228</td>\n      <td>0.014129</td>\n      <td>0.013977</td>\n      <td>0.013785</td>\n      <td>0.013783</td>\n      <td>0.014484</td>\n      <td>0.013635</td>\n      <td>0.013047</td>\n    </tr>\n    <tr>\n      <th>1</th>\n      <td>1692866048</td>\n      <td>293</td>\n      <td>30</td>\n      <td>0.006182</td>\n      <td>0.005801</td>\n      <td>0.005869</td>\n      <td>0.005559</td>\n      <td>0.005401</td>\n      <td>0.005406</td>\n      <td>0.005297</td>\n      <td>...</td>\n      <td>0.061748</td>\n      <td>0.062347</td>\n      <td>0.062733</td>\n      <td>0.061653</td>\n      <td>0.062367</td>\n      <td>0.062205</td>\n      <td>0.062450</td>\n      <td>0.061626</td>\n      <td>0.062690</td>\n      <td>0.060976</td>\n    </tr>\n    <tr>\n      <th>2</th>\n      <td>1691820160</td>\n      <td>293</td>\n      <td>30</td>\n      <td>0.010155</td>\n      <td>0.010084</td>\n      <td>0.010552</td>\n      <td>0.010096</td>\n      <td>0.009040</td>\n      <td>0.008312</td>\n      <td>0.009141</td>\n      <td>...</td>\n      <td>0.122593</td>\n      <td>0.123089</td>\n      <td>0.124041</td>\n      <td>0.123140</td>\n      <td>0.123814</td>\n      <td>0.122610</td>\n      <td>0.122189</td>\n      <td>0.120850</td>\n      <td>0.123345</td>\n      <td>0.121677</td>\n    </tr>\n  </tbody>\n</table>\n<p>3 rows × 876 columns</p>\n</div>"
     },
     "execution_count": 2,
     "metadata": {},
     "output_type": "execute_result"
    }
   ],
   "source": [
    "# Get hyperspectral data\n",
    "PATH_TO_HYPERNETSLJAESL2A_PARQUET = \"../../../../data/hypernetsLJaesL2A/_out00/hypernetsLJaesL2A_out00_001_0.parquet\"\n",
    "hypernetsLJaesL2A_out00_001_0 = pd.read_parquet(PATH_TO_HYPERNETSLJAESL2A_PARQUET)\n",
    "hypernetsLJaesL2A_out00_001_0.head(3)"
   ],
   "metadata": {
    "collapsed": false,
    "ExecuteTime": {
     "end_time": "2023-11-22T12:47:31.319907Z",
     "start_time": "2023-11-22T12:47:31.263023Z"
    }
   },
   "id": "1f8e7743cad5aaa1"
  },
  {
   "cell_type": "code",
   "execution_count": 3,
   "outputs": [],
   "source": [
    "# Function to convert UTC to formatted datetime strings\n",
    "def utc_to_formatted_datetime(utc_timestamp):\n",
    "    dt = pd.to_datetime(utc_timestamp, unit='s')\n",
    "    return dt.strftime('%Y.%m.%d %H:%M:%S')"
   ],
   "metadata": {
    "collapsed": false,
    "ExecuteTime": {
     "end_time": "2023-11-22T12:47:31.324979Z",
     "start_time": "2023-11-22T12:47:31.321656Z"
    }
   },
   "id": "dea232e30d96c6ee"
  },
  {
   "cell_type": "code",
   "execution_count": 4,
   "outputs": [],
   "source": [
    "# Function to calculate delta 1/2 hour\n",
    "def calculate_shift_minus_hour(attribute, h):\n",
    "    return attribute - h * 3600 #/ 30\n",
    "\n",
    "def calculate_shift_plus_hour(attribute, h):\n",
    "    return attribute + h * 3600 #/ 30"
   ],
   "metadata": {
    "collapsed": false,
    "ExecuteTime": {
     "end_time": "2023-11-22T12:47:31.325674Z",
     "start_time": "2023-11-22T12:47:31.324246Z"
    }
   },
   "id": "e94a4d630610f5cc"
  },
  {
   "cell_type": "code",
   "execution_count": 5,
   "outputs": [
    {
     "data": {
      "text/plain": "         utc_  viewing_azimuth_angle_  viewing_zenith_angle_  \\\n0  1686584064                     293                     30   \n1  1692866048                     293                     30   \n2  1691820160                     293                     30   \n\n                utc_dt  utc_minus_1u  utc_plus_1u      utc_minus_1u_dt  \\\n0  2023.06.12 15:34:24    1686580464   1686587664  2023.06.12 14:34:24   \n1  2023.08.24 08:34:08    1692862448   1692869648  2023.08.24 07:34:08   \n2  2023.08.12 06:02:40    1691816560   1691823760  2023.08.12 05:02:40   \n\n        utc_plus_1u_dt  utc_minus_2u  utc_plus_2u  utc_minus_3u  utc_plus_3u  \\\n0  2023.06.12 16:34:24    1686576864   1686591264    1686573264   1686594864   \n1  2023.08.24 09:34:08    1692858848   1692873248    1692855248   1692876848   \n2  2023.08.12 07:02:40    1691812960   1691827360    1691809360   1691830960   \n\n   utc_minus_4u  utc_plus_4u  \n0    1686566064   1686602064  \n1    1692848048   1692884048  \n2    1691802160   1691838160  ",
      "text/html": "<div>\n<style scoped>\n    .dataframe tbody tr th:only-of-type {\n        vertical-align: middle;\n    }\n\n    .dataframe tbody tr th {\n        vertical-align: top;\n    }\n\n    .dataframe thead th {\n        text-align: right;\n    }\n</style>\n<table border=\"1\" class=\"dataframe\">\n  <thead>\n    <tr style=\"text-align: right;\">\n      <th></th>\n      <th>utc_</th>\n      <th>viewing_azimuth_angle_</th>\n      <th>viewing_zenith_angle_</th>\n      <th>utc_dt</th>\n      <th>utc_minus_1u</th>\n      <th>utc_plus_1u</th>\n      <th>utc_minus_1u_dt</th>\n      <th>utc_plus_1u_dt</th>\n      <th>utc_minus_2u</th>\n      <th>utc_plus_2u</th>\n      <th>utc_minus_3u</th>\n      <th>utc_plus_3u</th>\n      <th>utc_minus_4u</th>\n      <th>utc_plus_4u</th>\n    </tr>\n  </thead>\n  <tbody>\n    <tr>\n      <th>0</th>\n      <td>1686584064</td>\n      <td>293</td>\n      <td>30</td>\n      <td>2023.06.12 15:34:24</td>\n      <td>1686580464</td>\n      <td>1686587664</td>\n      <td>2023.06.12 14:34:24</td>\n      <td>2023.06.12 16:34:24</td>\n      <td>1686576864</td>\n      <td>1686591264</td>\n      <td>1686573264</td>\n      <td>1686594864</td>\n      <td>1686566064</td>\n      <td>1686602064</td>\n    </tr>\n    <tr>\n      <th>1</th>\n      <td>1692866048</td>\n      <td>293</td>\n      <td>30</td>\n      <td>2023.08.24 08:34:08</td>\n      <td>1692862448</td>\n      <td>1692869648</td>\n      <td>2023.08.24 07:34:08</td>\n      <td>2023.08.24 09:34:08</td>\n      <td>1692858848</td>\n      <td>1692873248</td>\n      <td>1692855248</td>\n      <td>1692876848</td>\n      <td>1692848048</td>\n      <td>1692884048</td>\n    </tr>\n    <tr>\n      <th>2</th>\n      <td>1691820160</td>\n      <td>293</td>\n      <td>30</td>\n      <td>2023.08.12 06:02:40</td>\n      <td>1691816560</td>\n      <td>1691823760</td>\n      <td>2023.08.12 05:02:40</td>\n      <td>2023.08.12 07:02:40</td>\n      <td>1691812960</td>\n      <td>1691827360</td>\n      <td>1691809360</td>\n      <td>1691830960</td>\n      <td>1691802160</td>\n      <td>1691838160</td>\n    </tr>\n  </tbody>\n</table>\n</div>"
     },
     "execution_count": 5,
     "metadata": {},
     "output_type": "execute_result"
    }
   ],
   "source": [
    "hypernetsLJaesL2A_out01_001_0 = pd.DataFrame(hypernetsLJaesL2A_out00_001_0[['utc_', 'viewing_azimuth_angle_', 'viewing_zenith_angle_']])\n",
    "hypernetsLJaesL2A_out01_001_0 = (hypernetsLJaesL2A_out01_001_0\n",
    "                    .assign(utc_dt = hypernetsLJaesL2A_out00_001_0['utc_'].apply(lambda x: utc_to_formatted_datetime(x)))\n",
    "                    .assign(utc_minus_1u = hypernetsLJaesL2A_out00_001_0['utc_'].apply(lambda x: calculate_shift_minus_hour(x, 1)))\n",
    "                    .assign(utc_plus_1u = hypernetsLJaesL2A_out00_001_0['utc_'].apply(lambda x: calculate_shift_plus_hour(x, 1)))\n",
    "                    .assign(utc_minus_1u_dt = lambda e: e['utc_minus_1u'].apply(lambda x: utc_to_formatted_datetime(x)))\n",
    "                    .assign(utc_plus_1u_dt = lambda e: e['utc_plus_1u'].apply(lambda x: utc_to_formatted_datetime(x)))\n",
    "                    .assign(utc_minus_2u = hypernetsLJaesL2A_out00_001_0['utc_'].apply(lambda x: calculate_shift_minus_hour(x, 2)))\n",
    "                    .assign(utc_plus_2u = hypernetsLJaesL2A_out00_001_0['utc_'].apply(lambda x: calculate_shift_plus_hour(x, 2)))\n",
    "                    .assign(utc_minus_3u = hypernetsLJaesL2A_out00_001_0['utc_'].apply(lambda x: calculate_shift_minus_hour(x, 3)))\n",
    "                    .assign(utc_plus_3u = hypernetsLJaesL2A_out00_001_0['utc_'].apply(lambda x: calculate_shift_plus_hour(x, 3)))\n",
    "                    .assign(utc_minus_4u = hypernetsLJaesL2A_out00_001_0['utc_'].apply(lambda x: calculate_shift_minus_hour(x, 5)))\n",
    "                    .assign(utc_plus_4u = hypernetsLJaesL2A_out00_001_0['utc_'].apply(lambda x: calculate_shift_plus_hour(x, 5)))\n",
    "                    )\n",
    "hypernetsLJaesL2A_out01_001_0.head(3)"
   ],
   "metadata": {
    "collapsed": false,
    "ExecuteTime": {
     "end_time": "2023-11-22T12:47:31.574201Z",
     "start_time": "2023-11-22T12:47:31.409685Z"
    }
   },
   "id": "b61d409493c7ceb1"
  },
  {
   "cell_type": "code",
   "execution_count": 6,
   "outputs": [
    {
     "data": {
      "text/plain": "         utc_  viewing_azimuth_angle_  viewing_zenith_angle_  \\\n0  1686584064                     293                     30   \n1  1692866048                     293                     30   \n2  1691820160                     293                     30   \n\n                utc_dt  utc_minus_1u  utc_plus_1u      utc_minus_1u_dt  \\\n0  2023.06.12 15:34:24    1686580464   1686587664  2023.06.12 14:34:24   \n1  2023.08.24 08:34:08    1692862448   1692869648  2023.08.24 07:34:08   \n2  2023.08.12 06:02:40    1691816560   1691823760  2023.08.12 05:02:40   \n\n        utc_plus_1u_dt  utc_minus_2u  utc_plus_2u  utc_minus_3u  utc_plus_3u  \\\n0  2023.06.12 16:34:24    1686576864   1686591264    1686573264   1686594864   \n1  2023.08.24 09:34:08    1692858848   1692873248    1692855248   1692876848   \n2  2023.08.12 07:02:40    1691812960   1691827360    1691809360   1691830960   \n\n   utc_minus_4u  utc_plus_4u  \n0    1686566064   1686602064  \n1    1692848048   1692884048  \n2    1691802160   1691838160  ",
      "text/html": "<div>\n<style scoped>\n    .dataframe tbody tr th:only-of-type {\n        vertical-align: middle;\n    }\n\n    .dataframe tbody tr th {\n        vertical-align: top;\n    }\n\n    .dataframe thead th {\n        text-align: right;\n    }\n</style>\n<table border=\"1\" class=\"dataframe\">\n  <thead>\n    <tr style=\"text-align: right;\">\n      <th></th>\n      <th>utc_</th>\n      <th>viewing_azimuth_angle_</th>\n      <th>viewing_zenith_angle_</th>\n      <th>utc_dt</th>\n      <th>utc_minus_1u</th>\n      <th>utc_plus_1u</th>\n      <th>utc_minus_1u_dt</th>\n      <th>utc_plus_1u_dt</th>\n      <th>utc_minus_2u</th>\n      <th>utc_plus_2u</th>\n      <th>utc_minus_3u</th>\n      <th>utc_plus_3u</th>\n      <th>utc_minus_4u</th>\n      <th>utc_plus_4u</th>\n    </tr>\n  </thead>\n  <tbody>\n    <tr>\n      <th>0</th>\n      <td>1686584064</td>\n      <td>293</td>\n      <td>30</td>\n      <td>2023.06.12 15:34:24</td>\n      <td>1686580464</td>\n      <td>1686587664</td>\n      <td>2023.06.12 14:34:24</td>\n      <td>2023.06.12 16:34:24</td>\n      <td>1686576864</td>\n      <td>1686591264</td>\n      <td>1686573264</td>\n      <td>1686594864</td>\n      <td>1686566064</td>\n      <td>1686602064</td>\n    </tr>\n    <tr>\n      <th>1</th>\n      <td>1692866048</td>\n      <td>293</td>\n      <td>30</td>\n      <td>2023.08.24 08:34:08</td>\n      <td>1692862448</td>\n      <td>1692869648</td>\n      <td>2023.08.24 07:34:08</td>\n      <td>2023.08.24 09:34:08</td>\n      <td>1692858848</td>\n      <td>1692873248</td>\n      <td>1692855248</td>\n      <td>1692876848</td>\n      <td>1692848048</td>\n      <td>1692884048</td>\n    </tr>\n    <tr>\n      <th>2</th>\n      <td>1691820160</td>\n      <td>293</td>\n      <td>30</td>\n      <td>2023.08.12 06:02:40</td>\n      <td>1691816560</td>\n      <td>1691823760</td>\n      <td>2023.08.12 05:02:40</td>\n      <td>2023.08.12 07:02:40</td>\n      <td>1691812960</td>\n      <td>1691827360</td>\n      <td>1691809360</td>\n      <td>1691830960</td>\n      <td>1691802160</td>\n      <td>1691838160</td>\n    </tr>\n  </tbody>\n</table>\n</div>"
     },
     "execution_count": 6,
     "metadata": {},
     "output_type": "execute_result"
    }
   ],
   "source": [
    "PATH_OUTPUT = \"../../../../data/hypernetsLJaesL2A/_out01/hypernetsLJaesL2A_out01_001_0.parquet\"\n",
    "hypernetsLJaesL2A_out01_001_0.to_parquet(PATH_OUTPUT)\n",
    "pd.read_parquet(PATH_OUTPUT).head(3)"
   ],
   "metadata": {
    "collapsed": false,
    "ExecuteTime": {
     "end_time": "2023-11-22T12:47:31.587397Z",
     "start_time": "2023-11-22T12:47:31.571680Z"
    }
   },
   "id": "3492c948380c5c8a"
  },
  {
   "cell_type": "code",
   "execution_count": 6,
   "outputs": [],
   "source": [],
   "metadata": {
    "collapsed": false,
    "ExecuteTime": {
     "end_time": "2023-11-22T12:47:31.587481Z",
     "start_time": "2023-11-22T12:47:31.584873Z"
    }
   },
   "id": "4d055dab7d1392f4"
  }
 ],
 "metadata": {
  "kernelspec": {
   "display_name": "Python 3",
   "language": "python",
   "name": "python3"
  },
  "language_info": {
   "codemirror_mode": {
    "name": "ipython",
    "version": 2
   },
   "file_extension": ".py",
   "mimetype": "text/x-python",
   "name": "python",
   "nbconvert_exporter": "python",
   "pygments_lexer": "ipython2",
   "version": "2.7.6"
  }
 },
 "nbformat": 4,
 "nbformat_minor": 5
}

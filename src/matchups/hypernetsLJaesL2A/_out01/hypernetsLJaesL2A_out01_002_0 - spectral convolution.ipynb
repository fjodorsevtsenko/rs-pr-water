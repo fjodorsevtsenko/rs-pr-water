{
 "cells": [
  {
   "cell_type": "code",
   "execution_count": 1,
   "outputs": [],
   "source": [
    "import pandas as pd\n",
    "import numpy as np\n",
    "import warnings\n",
    "warnings.filterwarnings('ignore')"
   ],
   "metadata": {
    "collapsed": false,
    "ExecuteTime": {
     "end_time": "2023-11-22T12:48:06.424367Z",
     "start_time": "2023-11-22T12:48:06.180349Z"
    }
   },
   "id": "568cad736e52e09b"
  },
  {
   "cell_type": "code",
   "execution_count": 2,
   "outputs": [
    {
     "data": {
      "text/plain": "         utc_  viewing_azimuth_angle_  viewing_zenith_angle_       350  \\\n0  1686584064                     293                     30  0.004625   \n1  1692866048                     293                     30  0.006182   \n2  1691820160                     293                     30  0.010155   \n\n        351       352       353       354       355       356  ...      1663  \\\n0  0.004307  0.004540  0.004497  0.004145  0.003909  0.004103  ...  0.014135   \n1  0.005801  0.005869  0.005559  0.005401  0.005406  0.005297  ...  0.061748   \n2  0.010084  0.010552  0.010096  0.009040  0.008312  0.009141  ...  0.122593   \n\n       1665      1668      1670      1673      1675      1678      1681  \\\n0  0.013998  0.014228  0.014129  0.013977  0.013785  0.013783  0.014484   \n1  0.062347  0.062733  0.061653  0.062367  0.062205  0.062450  0.061626   \n2  0.123089  0.124041  0.123140  0.123814  0.122610  0.122189  0.120850   \n\n       1683      1686  \n0  0.013635  0.013047  \n1  0.062690  0.060976  \n2  0.123345  0.121677  \n\n[3 rows x 876 columns]",
      "text/html": "<div>\n<style scoped>\n    .dataframe tbody tr th:only-of-type {\n        vertical-align: middle;\n    }\n\n    .dataframe tbody tr th {\n        vertical-align: top;\n    }\n\n    .dataframe thead th {\n        text-align: right;\n    }\n</style>\n<table border=\"1\" class=\"dataframe\">\n  <thead>\n    <tr style=\"text-align: right;\">\n      <th></th>\n      <th>utc_</th>\n      <th>viewing_azimuth_angle_</th>\n      <th>viewing_zenith_angle_</th>\n      <th>350</th>\n      <th>351</th>\n      <th>352</th>\n      <th>353</th>\n      <th>354</th>\n      <th>355</th>\n      <th>356</th>\n      <th>...</th>\n      <th>1663</th>\n      <th>1665</th>\n      <th>1668</th>\n      <th>1670</th>\n      <th>1673</th>\n      <th>1675</th>\n      <th>1678</th>\n      <th>1681</th>\n      <th>1683</th>\n      <th>1686</th>\n    </tr>\n  </thead>\n  <tbody>\n    <tr>\n      <th>0</th>\n      <td>1686584064</td>\n      <td>293</td>\n      <td>30</td>\n      <td>0.004625</td>\n      <td>0.004307</td>\n      <td>0.004540</td>\n      <td>0.004497</td>\n      <td>0.004145</td>\n      <td>0.003909</td>\n      <td>0.004103</td>\n      <td>...</td>\n      <td>0.014135</td>\n      <td>0.013998</td>\n      <td>0.014228</td>\n      <td>0.014129</td>\n      <td>0.013977</td>\n      <td>0.013785</td>\n      <td>0.013783</td>\n      <td>0.014484</td>\n      <td>0.013635</td>\n      <td>0.013047</td>\n    </tr>\n    <tr>\n      <th>1</th>\n      <td>1692866048</td>\n      <td>293</td>\n      <td>30</td>\n      <td>0.006182</td>\n      <td>0.005801</td>\n      <td>0.005869</td>\n      <td>0.005559</td>\n      <td>0.005401</td>\n      <td>0.005406</td>\n      <td>0.005297</td>\n      <td>...</td>\n      <td>0.061748</td>\n      <td>0.062347</td>\n      <td>0.062733</td>\n      <td>0.061653</td>\n      <td>0.062367</td>\n      <td>0.062205</td>\n      <td>0.062450</td>\n      <td>0.061626</td>\n      <td>0.062690</td>\n      <td>0.060976</td>\n    </tr>\n    <tr>\n      <th>2</th>\n      <td>1691820160</td>\n      <td>293</td>\n      <td>30</td>\n      <td>0.010155</td>\n      <td>0.010084</td>\n      <td>0.010552</td>\n      <td>0.010096</td>\n      <td>0.009040</td>\n      <td>0.008312</td>\n      <td>0.009141</td>\n      <td>...</td>\n      <td>0.122593</td>\n      <td>0.123089</td>\n      <td>0.124041</td>\n      <td>0.123140</td>\n      <td>0.123814</td>\n      <td>0.122610</td>\n      <td>0.122189</td>\n      <td>0.120850</td>\n      <td>0.123345</td>\n      <td>0.121677</td>\n    </tr>\n  </tbody>\n</table>\n<p>3 rows × 876 columns</p>\n</div>"
     },
     "execution_count": 2,
     "metadata": {},
     "output_type": "execute_result"
    }
   ],
   "source": [
    "# Get hyperspectral data\n",
    "hypernetsLJaesL2A_out00_001_0 = pd.read_parquet(\"../../../../data/hypernetsLJaesL2A/_out00/hypernetsLJaesL2A_out00_001_0.parquet\")\n",
    "hypernetsLJaesL2A_out00_001_0.head(3)"
   ],
   "metadata": {
    "collapsed": false,
    "ExecuteTime": {
     "end_time": "2023-11-22T12:48:06.503250Z",
     "start_time": "2023-11-22T12:48:06.428271Z"
    }
   },
   "id": "4b50487e18db824a"
  },
  {
   "cell_type": "code",
   "execution_count": 3,
   "outputs": [],
   "source": [
    "# Function to get dataframe columns within a given interval\n",
    "def get_columns_within_closed_interval(df, start, end):   \n",
    "    # Check if all column names can be converted to integers\n",
    "    are_column_names_integers = all(is_integer(col) for col in df.columns)\n",
    "    assert are_column_names_integers, \"Not all columns can be converted to integers\"\n",
    "\n",
    "    column_names_int_ = df.columns.astype(int)\n",
    "    mask_ = (column_names_int_ >= start) & (column_names_int_ <= end)\n",
    "    return df.loc[:, mask_].columns\n",
    "\n",
    "def is_integer(s):\n",
    "    try:\n",
    "        int(s)\n",
    "        return True\n",
    "    except ValueError:\n",
    "        return False"
   ],
   "metadata": {
    "collapsed": false,
    "ExecuteTime": {
     "end_time": "2023-11-22T12:48:06.503892Z",
     "start_time": "2023-11-22T12:48:06.502392Z"
    }
   },
   "id": "9c2c130a564eb98c"
  },
  {
   "cell_type": "code",
   "execution_count": 4,
   "outputs": [
    {
     "data": {
      "text/plain": "   band_number  central_wl  bandwidth  bandwidth_left  bandwidth_right  \\\n0           B1       442.7         20             433              453   \n1           B2       492.7         65             460              525   \n2           B3       559.8         35             542              577   \n3           B4       664.6         30             650              680   \n4           B5       704.1         14             697              711   \n5           B6       740.5         14             734              748   \n6           B7       782.8         14             776              790   \n7           B8       832.8        105             780              885   \n8          B8A       864.7         21             854              875   \n9           B9       945.1         19             936              955   \n10         B11      1613.7         90            1569             1659   \n\n    control                                    bandwidth_range  \\\n0      True  [433, 434, 435, 436, 437, 438, 439, 440, 441, ...   \n1      True  [460, 461, 462, 463, 464, 465, 466, 467, 468, ...   \n2      True  [542, 543, 544, 545, 546, 547, 548, 549, 550, ...   \n3      True  [650, 651, 652, 653, 654, 655, 656, 657, 658, ...   \n4      True  [697, 698, 699, 700, 701, 702, 703, 704, 705, ...   \n5      True  [734, 735, 736, 737, 738, 739, 740, 741, 742, ...   \n6      True  [776, 777, 778, 779, 780, 781, 782, 783, 784, ...   \n7      True  [780, 781, 782, 783, 784, 785, 786, 787, 788, ...   \n8      True  [854, 855, 856, 857, 858, 859, 860, 861, 862, ...   \n9      True  [936, 937, 938, 939, 940, 941, 942, 943, 944, ...   \n10     True  [1571, 1574, 1576, 1579, 1582, 1585, 1588, 159...   \n\n                                              weights  \n0   [1, 1, 1, 1, 1, 1, 1, 1, 1, 1, 1, 1, 1, 1, 1, ...  \n1   [1, 1, 1, 1, 1, 1, 1, 1, 1, 1, 1, 1, 1, 1, 1, ...  \n2   [1, 1, 1, 1, 1, 1, 1, 1, 1, 1, 1, 1, 1, 1, 1, ...  \n3   [1, 1, 1, 1, 1, 1, 1, 1, 1, 1, 1, 1, 1, 1, 1, ...  \n4       [1, 1, 1, 1, 1, 1, 1, 1, 1, 1, 1, 1, 1, 1, 1]  \n5       [1, 1, 1, 1, 1, 1, 1, 1, 1, 1, 1, 1, 1, 1, 1]  \n6       [1, 1, 1, 1, 1, 1, 1, 1, 1, 1, 1, 1, 1, 1, 1]  \n7   [1, 1, 1, 1, 1, 1, 1, 1, 1, 1, 1, 1, 1, 1, 1, ...  \n8   [1, 1, 1, 1, 1, 1, 1, 1, 1, 1, 1, 1, 1, 1, 1, ...  \n9   [1, 1, 1, 1, 1, 1, 1, 1, 1, 1, 1, 1, 1, 1, 1, ...  \n10  [1, 1, 1, 1, 1, 1, 1, 1, 1, 1, 1, 1, 1, 1, 1, ...  ",
      "text/html": "<div>\n<style scoped>\n    .dataframe tbody tr th:only-of-type {\n        vertical-align: middle;\n    }\n\n    .dataframe tbody tr th {\n        vertical-align: top;\n    }\n\n    .dataframe thead th {\n        text-align: right;\n    }\n</style>\n<table border=\"1\" class=\"dataframe\">\n  <thead>\n    <tr style=\"text-align: right;\">\n      <th></th>\n      <th>band_number</th>\n      <th>central_wl</th>\n      <th>bandwidth</th>\n      <th>bandwidth_left</th>\n      <th>bandwidth_right</th>\n      <th>control</th>\n      <th>bandwidth_range</th>\n      <th>weights</th>\n    </tr>\n  </thead>\n  <tbody>\n    <tr>\n      <th>0</th>\n      <td>B1</td>\n      <td>442.7</td>\n      <td>20</td>\n      <td>433</td>\n      <td>453</td>\n      <td>True</td>\n      <td>[433, 434, 435, 436, 437, 438, 439, 440, 441, ...</td>\n      <td>[1, 1, 1, 1, 1, 1, 1, 1, 1, 1, 1, 1, 1, 1, 1, ...</td>\n    </tr>\n    <tr>\n      <th>1</th>\n      <td>B2</td>\n      <td>492.7</td>\n      <td>65</td>\n      <td>460</td>\n      <td>525</td>\n      <td>True</td>\n      <td>[460, 461, 462, 463, 464, 465, 466, 467, 468, ...</td>\n      <td>[1, 1, 1, 1, 1, 1, 1, 1, 1, 1, 1, 1, 1, 1, 1, ...</td>\n    </tr>\n    <tr>\n      <th>2</th>\n      <td>B3</td>\n      <td>559.8</td>\n      <td>35</td>\n      <td>542</td>\n      <td>577</td>\n      <td>True</td>\n      <td>[542, 543, 544, 545, 546, 547, 548, 549, 550, ...</td>\n      <td>[1, 1, 1, 1, 1, 1, 1, 1, 1, 1, 1, 1, 1, 1, 1, ...</td>\n    </tr>\n    <tr>\n      <th>3</th>\n      <td>B4</td>\n      <td>664.6</td>\n      <td>30</td>\n      <td>650</td>\n      <td>680</td>\n      <td>True</td>\n      <td>[650, 651, 652, 653, 654, 655, 656, 657, 658, ...</td>\n      <td>[1, 1, 1, 1, 1, 1, 1, 1, 1, 1, 1, 1, 1, 1, 1, ...</td>\n    </tr>\n    <tr>\n      <th>4</th>\n      <td>B5</td>\n      <td>704.1</td>\n      <td>14</td>\n      <td>697</td>\n      <td>711</td>\n      <td>True</td>\n      <td>[697, 698, 699, 700, 701, 702, 703, 704, 705, ...</td>\n      <td>[1, 1, 1, 1, 1, 1, 1, 1, 1, 1, 1, 1, 1, 1, 1]</td>\n    </tr>\n    <tr>\n      <th>5</th>\n      <td>B6</td>\n      <td>740.5</td>\n      <td>14</td>\n      <td>734</td>\n      <td>748</td>\n      <td>True</td>\n      <td>[734, 735, 736, 737, 738, 739, 740, 741, 742, ...</td>\n      <td>[1, 1, 1, 1, 1, 1, 1, 1, 1, 1, 1, 1, 1, 1, 1]</td>\n    </tr>\n    <tr>\n      <th>6</th>\n      <td>B7</td>\n      <td>782.8</td>\n      <td>14</td>\n      <td>776</td>\n      <td>790</td>\n      <td>True</td>\n      <td>[776, 777, 778, 779, 780, 781, 782, 783, 784, ...</td>\n      <td>[1, 1, 1, 1, 1, 1, 1, 1, 1, 1, 1, 1, 1, 1, 1]</td>\n    </tr>\n    <tr>\n      <th>7</th>\n      <td>B8</td>\n      <td>832.8</td>\n      <td>105</td>\n      <td>780</td>\n      <td>885</td>\n      <td>True</td>\n      <td>[780, 781, 782, 783, 784, 785, 786, 787, 788, ...</td>\n      <td>[1, 1, 1, 1, 1, 1, 1, 1, 1, 1, 1, 1, 1, 1, 1, ...</td>\n    </tr>\n    <tr>\n      <th>8</th>\n      <td>B8A</td>\n      <td>864.7</td>\n      <td>21</td>\n      <td>854</td>\n      <td>875</td>\n      <td>True</td>\n      <td>[854, 855, 856, 857, 858, 859, 860, 861, 862, ...</td>\n      <td>[1, 1, 1, 1, 1, 1, 1, 1, 1, 1, 1, 1, 1, 1, 1, ...</td>\n    </tr>\n    <tr>\n      <th>9</th>\n      <td>B9</td>\n      <td>945.1</td>\n      <td>19</td>\n      <td>936</td>\n      <td>955</td>\n      <td>True</td>\n      <td>[936, 937, 938, 939, 940, 941, 942, 943, 944, ...</td>\n      <td>[1, 1, 1, 1, 1, 1, 1, 1, 1, 1, 1, 1, 1, 1, 1, ...</td>\n    </tr>\n    <tr>\n      <th>10</th>\n      <td>B11</td>\n      <td>1613.7</td>\n      <td>90</td>\n      <td>1569</td>\n      <td>1659</td>\n      <td>True</td>\n      <td>[1571, 1574, 1576, 1579, 1582, 1585, 1588, 159...</td>\n      <td>[1, 1, 1, 1, 1, 1, 1, 1, 1, 1, 1, 1, 1, 1, 1, ...</td>\n    </tr>\n  </tbody>\n</table>\n</div>"
     },
     "execution_count": 4,
     "metadata": {},
     "output_type": "execute_result"
    }
   ],
   "source": [
    "# Sentinel 2 MSI L2 A - spectral resolution\n",
    "# Reference: https://sentinels.copernicus.eu/web/sentinel/user-guides/sentinel-2-msi/resolutions/spectral\n",
    "sentinel2MsiL2a_sr = {\n",
    "    \"band_number\": [\"B1\", \"B2\", \"B3\", \"B4\", \"B5\", \"B6\", \"B7\", \"B8\", \"B8A\", \"B9\", \"B11\"],\n",
    "    \"central_wl\": [442.7, 492.7, 559.8, 664.6, 704.1, 740.5, 782.8, 832.8, 864.7, 945.1, 1613.7],\n",
    "    \"bandwidth\": [20, 65, 35, 30, 14, 14, 14, 105, 21, 19, 90]\n",
    "}\n",
    "\n",
    "df_sentinel2MsiL2a_sr = (\n",
    "    pd.DataFrame(sentinel2MsiL2a_sr)\n",
    "    .assign(bandwidth_left = lambda x: np.round(x[\"central_wl\"] - x[\"bandwidth\"]/2).astype(int))\n",
    "    .assign(bandwidth_right = lambda x: np.round(x[\"central_wl\"] + x[\"bandwidth\"]/2).astype(int))\n",
    "    .assign(control = lambda x: (np.round(x[\"bandwidth_right\"] - x[\"bandwidth_left\"]) == x[\"bandwidth\"]))\n",
    "    .assign(bandwidth_range = '')\n",
    "    .assign(weights = '')\n",
    ")\n",
    "\n",
    "# acceptable only if dataframe is tiny\n",
    "for index, row in df_sentinel2MsiL2a_sr.iterrows():\n",
    "    bandwidth_range = list(get_columns_within_closed_interval(\n",
    "        hypernetsLJaesL2A_out00_001_0.drop(columns=['utc_', 'viewing_azimuth_angle_', 'viewing_zenith_angle_']), \n",
    "        row['bandwidth_left'], row['bandwidth_right']))\n",
    "    df_sentinel2MsiL2a_sr.at[index, 'bandwidth_range'] = bandwidth_range\n",
    "    df_sentinel2MsiL2a_sr.at[index, 'weights'] = np.repeat([1], len(bandwidth_range))\n",
    "    \n",
    "df_sentinel2MsiL2a_sr"
   ],
   "metadata": {
    "collapsed": false,
    "ExecuteTime": {
     "end_time": "2023-11-22T12:48:06.566227Z",
     "start_time": "2023-11-22T12:48:06.507800Z"
    }
   },
   "id": "bb3c12cd526f54ee"
  },
  {
   "cell_type": "code",
   "execution_count": 5,
   "outputs": [],
   "source": [
    "# Define functions to perform spectral convolution operation\n",
    "def get_wavelength_weights_for_conv_op(df_sentinel, band_number):\n",
    "    df_ = df_sentinel.query(f\"band_number == '{band_number}'\")\n",
    "    dict_ = {\n",
    "        \"wavelength\": list(map(str, df_.loc[df_.index[0], \"bandwidth_range\"])),\n",
    "        \"weights\": list(map(float, df_.loc[df_.index[0], \"weights\"]))\n",
    "    }\n",
    "    return pd.DataFrame(dict_).pivot_table(columns='wavelength', values='weights')\n",
    "\n",
    "def get_sentinel_band_reflectance(df_sentinel, df_hypernets, band_number):\n",
    "    df_weights_ = get_wavelength_weights_for_conv_op(df_sentinel, band_number)\n",
    "    df_weights_sum_ = df_weights_.sum(axis=1)\n",
    "    df_hypernets_ = df_hypernets.filter(items=(get_wavelength_weights_for_conv_op(df_sentinel, band_number)))\n",
    "    df_mult_ = pd.DataFrame((df_hypernets_ * df_weights_.values).sum(axis=1))\n",
    "    df_mult_.rename(columns={0: band_number}, inplace=True)\n",
    "    df_mean_weighted_ = df_mult_ / df_weights_sum_.values\n",
    "    return df_mean_weighted_"
   ],
   "metadata": {
    "collapsed": false,
    "ExecuteTime": {
     "end_time": "2023-11-22T12:48:06.566327Z",
     "start_time": "2023-11-22T12:48:06.533666Z"
    }
   },
   "id": "c6f76d5facb3efb0"
  },
  {
   "cell_type": "code",
   "execution_count": 6,
   "outputs": [
    {
     "data": {
      "text/plain": "         utc_  viewing_azimuth_angle_  viewing_zenith_angle_        B1  \\\n0  1686584064                     293                     30  0.003088   \n1  1692866048                     293                     30  0.006597   \n2  1691820160                     293                     30  0.012875   \n\n         B2        B3        B4        B5        B6        B7        B8  \\\n0  0.003402  0.007357  0.002229  0.010125  0.068818  0.094357  0.100217   \n1  0.008938  0.020109  0.009941  0.033847  0.173287  0.231642  0.247409   \n2  0.018907  0.044951  0.022655  0.077591  0.325047  0.415350  0.439412   \n\n        B8A        B9       B11  \n0  0.102854  0.096867  0.012242  \n1  0.254389  0.247647  0.055356  \n2  0.451397  0.430170  0.111166  ",
      "text/html": "<div>\n<style scoped>\n    .dataframe tbody tr th:only-of-type {\n        vertical-align: middle;\n    }\n\n    .dataframe tbody tr th {\n        vertical-align: top;\n    }\n\n    .dataframe thead th {\n        text-align: right;\n    }\n</style>\n<table border=\"1\" class=\"dataframe\">\n  <thead>\n    <tr style=\"text-align: right;\">\n      <th></th>\n      <th>utc_</th>\n      <th>viewing_azimuth_angle_</th>\n      <th>viewing_zenith_angle_</th>\n      <th>B1</th>\n      <th>B2</th>\n      <th>B3</th>\n      <th>B4</th>\n      <th>B5</th>\n      <th>B6</th>\n      <th>B7</th>\n      <th>B8</th>\n      <th>B8A</th>\n      <th>B9</th>\n      <th>B11</th>\n    </tr>\n  </thead>\n  <tbody>\n    <tr>\n      <th>0</th>\n      <td>1686584064</td>\n      <td>293</td>\n      <td>30</td>\n      <td>0.003088</td>\n      <td>0.003402</td>\n      <td>0.007357</td>\n      <td>0.002229</td>\n      <td>0.010125</td>\n      <td>0.068818</td>\n      <td>0.094357</td>\n      <td>0.100217</td>\n      <td>0.102854</td>\n      <td>0.096867</td>\n      <td>0.012242</td>\n    </tr>\n    <tr>\n      <th>1</th>\n      <td>1692866048</td>\n      <td>293</td>\n      <td>30</td>\n      <td>0.006597</td>\n      <td>0.008938</td>\n      <td>0.020109</td>\n      <td>0.009941</td>\n      <td>0.033847</td>\n      <td>0.173287</td>\n      <td>0.231642</td>\n      <td>0.247409</td>\n      <td>0.254389</td>\n      <td>0.247647</td>\n      <td>0.055356</td>\n    </tr>\n    <tr>\n      <th>2</th>\n      <td>1691820160</td>\n      <td>293</td>\n      <td>30</td>\n      <td>0.012875</td>\n      <td>0.018907</td>\n      <td>0.044951</td>\n      <td>0.022655</td>\n      <td>0.077591</td>\n      <td>0.325047</td>\n      <td>0.415350</td>\n      <td>0.439412</td>\n      <td>0.451397</td>\n      <td>0.430170</td>\n      <td>0.111166</td>\n    </tr>\n  </tbody>\n</table>\n</div>"
     },
     "execution_count": 6,
     "metadata": {},
     "output_type": "execute_result"
    }
   ],
   "source": [
    "# Perform spectral convolution operation\n",
    "df_B1 = get_sentinel_band_reflectance(df_sentinel2MsiL2a_sr, hypernetsLJaesL2A_out00_001_0, \"B1\")\n",
    "df_B2 = get_sentinel_band_reflectance(df_sentinel2MsiL2a_sr, hypernetsLJaesL2A_out00_001_0, \"B2\")\n",
    "df_B3 = get_sentinel_band_reflectance(df_sentinel2MsiL2a_sr, hypernetsLJaesL2A_out00_001_0, \"B3\")\n",
    "df_B4 = get_sentinel_band_reflectance(df_sentinel2MsiL2a_sr, hypernetsLJaesL2A_out00_001_0, \"B4\")\n",
    "df_B5 = get_sentinel_band_reflectance(df_sentinel2MsiL2a_sr, hypernetsLJaesL2A_out00_001_0, \"B5\")\n",
    "df_B6 = get_sentinel_band_reflectance(df_sentinel2MsiL2a_sr, hypernetsLJaesL2A_out00_001_0, \"B6\")\n",
    "df_B7 = get_sentinel_band_reflectance(df_sentinel2MsiL2a_sr, hypernetsLJaesL2A_out00_001_0, \"B7\")\n",
    "df_B8 = get_sentinel_band_reflectance(df_sentinel2MsiL2a_sr, hypernetsLJaesL2A_out00_001_0, \"B8\")\n",
    "df_B8A = get_sentinel_band_reflectance(df_sentinel2MsiL2a_sr, hypernetsLJaesL2A_out00_001_0, \"B8A\")\n",
    "df_B9 = get_sentinel_band_reflectance(df_sentinel2MsiL2a_sr, hypernetsLJaesL2A_out00_001_0, \"B9\")\n",
    "df_B11 = get_sentinel_band_reflectance(df_sentinel2MsiL2a_sr, hypernetsLJaesL2A_out00_001_0, \"B11\")\n",
    "hypernetsLJaesL2A_out01_002_0 = pd.concat([pd.DataFrame(hypernetsLJaesL2A_out00_001_0[['utc_', 'viewing_azimuth_angle_', 'viewing_zenith_angle_']]),\n",
    "                                           df_B1, df_B2, df_B3, df_B4, df_B5, df_B6, df_B7, df_B8, df_B8A, df_B9, df_B11], axis=1)\n",
    "hypernetsLJaesL2A_out01_002_0.head(3)"
   ],
   "metadata": {
    "collapsed": false,
    "ExecuteTime": {
     "end_time": "2023-11-22T12:48:06.601754Z",
     "start_time": "2023-11-22T12:48:06.542157Z"
    }
   },
   "id": "c92a6cf3e9344358"
  },
  {
   "cell_type": "code",
   "execution_count": 7,
   "outputs": [
    {
     "name": "stdout",
     "output_type": "stream",
     "text": [
      "(1885, 12)\n",
      "unique in-situ dates (1885,) from 2023.05.01 07:02:24 to 2023.08.31 15:34:24\n"
     ]
    },
    {
     "data": {
      "text/plain": "         utc_               utc_dt  utc_minus_1u  utc_plus_1u  \\\n0  1686584064  2023.06.12 15:34:24    1686580464   1686587664   \n1  1692866048  2023.08.24 08:34:08    1692862448   1692869648   \n2  1691820160  2023.08.12 06:02:40    1691816560   1691823760   \n\n       utc_minus_1u_dt       utc_plus_1u_dt  utc_minus_2u  utc_plus_2u  \\\n0  2023.06.12 14:34:24  2023.06.12 16:34:24    1686576864   1686591264   \n1  2023.08.24 07:34:08  2023.08.24 09:34:08    1692858848   1692873248   \n2  2023.08.12 05:02:40  2023.08.12 07:02:40    1691812960   1691827360   \n\n   utc_minus_3u  utc_plus_3u  utc_minus_4u  utc_plus_4u  \n0    1686573264   1686594864    1686566064   1686602064  \n1    1692855248   1692876848    1692848048   1692884048  \n2    1691809360   1691830960    1691802160   1691838160  ",
      "text/html": "<div>\n<style scoped>\n    .dataframe tbody tr th:only-of-type {\n        vertical-align: middle;\n    }\n\n    .dataframe tbody tr th {\n        vertical-align: top;\n    }\n\n    .dataframe thead th {\n        text-align: right;\n    }\n</style>\n<table border=\"1\" class=\"dataframe\">\n  <thead>\n    <tr style=\"text-align: right;\">\n      <th></th>\n      <th>utc_</th>\n      <th>utc_dt</th>\n      <th>utc_minus_1u</th>\n      <th>utc_plus_1u</th>\n      <th>utc_minus_1u_dt</th>\n      <th>utc_plus_1u_dt</th>\n      <th>utc_minus_2u</th>\n      <th>utc_plus_2u</th>\n      <th>utc_minus_3u</th>\n      <th>utc_plus_3u</th>\n      <th>utc_minus_4u</th>\n      <th>utc_plus_4u</th>\n    </tr>\n  </thead>\n  <tbody>\n    <tr>\n      <th>0</th>\n      <td>1686584064</td>\n      <td>2023.06.12 15:34:24</td>\n      <td>1686580464</td>\n      <td>1686587664</td>\n      <td>2023.06.12 14:34:24</td>\n      <td>2023.06.12 16:34:24</td>\n      <td>1686576864</td>\n      <td>1686591264</td>\n      <td>1686573264</td>\n      <td>1686594864</td>\n      <td>1686566064</td>\n      <td>1686602064</td>\n    </tr>\n    <tr>\n      <th>1</th>\n      <td>1692866048</td>\n      <td>2023.08.24 08:34:08</td>\n      <td>1692862448</td>\n      <td>1692869648</td>\n      <td>2023.08.24 07:34:08</td>\n      <td>2023.08.24 09:34:08</td>\n      <td>1692858848</td>\n      <td>1692873248</td>\n      <td>1692855248</td>\n      <td>1692876848</td>\n      <td>1692848048</td>\n      <td>1692884048</td>\n    </tr>\n    <tr>\n      <th>2</th>\n      <td>1691820160</td>\n      <td>2023.08.12 06:02:40</td>\n      <td>1691816560</td>\n      <td>1691823760</td>\n      <td>2023.08.12 05:02:40</td>\n      <td>2023.08.12 07:02:40</td>\n      <td>1691812960</td>\n      <td>1691827360</td>\n      <td>1691809360</td>\n      <td>1691830960</td>\n      <td>1691802160</td>\n      <td>1691838160</td>\n    </tr>\n  </tbody>\n</table>\n</div>"
     },
     "execution_count": 7,
     "metadata": {},
     "output_type": "execute_result"
    }
   ],
   "source": [
    "# Load data\n",
    "PATH_OUTPUT_HYP_UTC_INT = \"../../../../data/hypernetsLJaesL2A/_out01/hypernetsLJaesL2A_out01_001_0.parquet\"\n",
    "df_hypernetsLJaesL2A_out01_001_0 = (pd.read_parquet(PATH_OUTPUT_HYP_UTC_INT).drop_duplicates()\n",
    "                                    .drop(columns=['viewing_azimuth_angle_', 'viewing_zenith_angle_']))\n",
    "print(df_hypernetsLJaesL2A_out01_001_0.shape)\n",
    "print(f\"unique in-situ dates {df_hypernetsLJaesL2A_out01_001_0['utc_dt'].unique().shape} from \"\n",
    "      f\"{df_hypernetsLJaesL2A_out01_001_0['utc_dt'].min()} to \"\n",
    "      f\"{df_hypernetsLJaesL2A_out01_001_0['utc_dt'].max()}\")\n",
    "df_hypernetsLJaesL2A_out01_001_0.head(3)"
   ],
   "metadata": {
    "collapsed": false,
    "ExecuteTime": {
     "end_time": "2023-11-22T12:48:06.702801Z",
     "start_time": "2023-11-22T12:48:06.591344Z"
    }
   },
   "id": "5fe2efa9a148c9f9"
  },
  {
   "cell_type": "code",
   "execution_count": 8,
   "outputs": [
    {
     "data": {
      "text/plain": "         utc_  viewing_azimuth_angle_  viewing_zenith_angle_        B1  \\\n0  1686584064                     293                     30  0.003088   \n1  1692866048                     293                     30  0.006597   \n2  1691820160                     293                     30  0.012875   \n\n         B2        B3        B4        B5        B6        B7        B8  \\\n0  0.003402  0.007357  0.002229  0.010125  0.068818  0.094357  0.100217   \n1  0.008938  0.020109  0.009941  0.033847  0.173287  0.231642  0.247409   \n2  0.018907  0.044951  0.022655  0.077591  0.325047  0.415350  0.439412   \n\n        B8A        B9       B11  \n0  0.102854  0.096867  0.012242  \n1  0.254389  0.247647  0.055356  \n2  0.451397  0.430170  0.111166  ",
      "text/html": "<div>\n<style scoped>\n    .dataframe tbody tr th:only-of-type {\n        vertical-align: middle;\n    }\n\n    .dataframe tbody tr th {\n        vertical-align: top;\n    }\n\n    .dataframe thead th {\n        text-align: right;\n    }\n</style>\n<table border=\"1\" class=\"dataframe\">\n  <thead>\n    <tr style=\"text-align: right;\">\n      <th></th>\n      <th>utc_</th>\n      <th>viewing_azimuth_angle_</th>\n      <th>viewing_zenith_angle_</th>\n      <th>B1</th>\n      <th>B2</th>\n      <th>B3</th>\n      <th>B4</th>\n      <th>B5</th>\n      <th>B6</th>\n      <th>B7</th>\n      <th>B8</th>\n      <th>B8A</th>\n      <th>B9</th>\n      <th>B11</th>\n    </tr>\n  </thead>\n  <tbody>\n    <tr>\n      <th>0</th>\n      <td>1686584064</td>\n      <td>293</td>\n      <td>30</td>\n      <td>0.003088</td>\n      <td>0.003402</td>\n      <td>0.007357</td>\n      <td>0.002229</td>\n      <td>0.010125</td>\n      <td>0.068818</td>\n      <td>0.094357</td>\n      <td>0.100217</td>\n      <td>0.102854</td>\n      <td>0.096867</td>\n      <td>0.012242</td>\n    </tr>\n    <tr>\n      <th>1</th>\n      <td>1692866048</td>\n      <td>293</td>\n      <td>30</td>\n      <td>0.006597</td>\n      <td>0.008938</td>\n      <td>0.020109</td>\n      <td>0.009941</td>\n      <td>0.033847</td>\n      <td>0.173287</td>\n      <td>0.231642</td>\n      <td>0.247409</td>\n      <td>0.254389</td>\n      <td>0.247647</td>\n      <td>0.055356</td>\n    </tr>\n    <tr>\n      <th>2</th>\n      <td>1691820160</td>\n      <td>293</td>\n      <td>30</td>\n      <td>0.012875</td>\n      <td>0.018907</td>\n      <td>0.044951</td>\n      <td>0.022655</td>\n      <td>0.077591</td>\n      <td>0.325047</td>\n      <td>0.415350</td>\n      <td>0.439412</td>\n      <td>0.451397</td>\n      <td>0.430170</td>\n      <td>0.111166</td>\n    </tr>\n  </tbody>\n</table>\n</div>"
     },
     "execution_count": 8,
     "metadata": {},
     "output_type": "execute_result"
    }
   ],
   "source": [
    "# Merge with utc intervals\n",
    "df_hypernetsLJaesL2A_out01_002_0 = (\n",
    "    pd.merge(hypernetsLJaesL2A_out01_002_0, df_hypernetsLJaesL2A_out01_001_0, on='utc_', how='left')\n",
    ")\n",
    "hypernetsLJaesL2A_out01_002_0.head(3)"
   ],
   "metadata": {
    "collapsed": false,
    "ExecuteTime": {
     "end_time": "2023-11-22T12:48:06.703090Z",
     "start_time": "2023-11-22T12:48:06.675988Z"
    }
   },
   "id": "c0b2e12a4a60151d"
  },
  {
   "cell_type": "code",
   "execution_count": 9,
   "outputs": [
    {
     "name": "stdout",
     "output_type": "stream",
     "text": [
      "(1905, 25)\n",
      "unique in-situ dates (1885,) from 2023.05.01 07:02:24 to 2023.08.31 15:34:24\n"
     ]
    },
    {
     "data": {
      "text/plain": "         utc_  viewing_azimuth_angle_  viewing_zenith_angle_        B1  \\\n0  1686584064                     293                     30  0.003088   \n1  1692866048                     293                     30  0.006597   \n2  1691820160                     293                     30  0.012875   \n\n         B2        B3        B4        B5        B6        B7  ...  \\\n0  0.003402  0.007357  0.002229  0.010125  0.068818  0.094357  ...   \n1  0.008938  0.020109  0.009941  0.033847  0.173287  0.231642  ...   \n2  0.018907  0.044951  0.022655  0.077591  0.325047  0.415350  ...   \n\n   utc_minus_1u  utc_plus_1u      utc_minus_1u_dt       utc_plus_1u_dt  \\\n0    1686580464   1686587664  2023.06.12 14:34:24  2023.06.12 16:34:24   \n1    1692862448   1692869648  2023.08.24 07:34:08  2023.08.24 09:34:08   \n2    1691816560   1691823760  2023.08.12 05:02:40  2023.08.12 07:02:40   \n\n  utc_minus_2u  utc_plus_2u  utc_minus_3u utc_plus_3u utc_minus_4u  \\\n0   1686576864   1686591264    1686573264  1686594864   1686566064   \n1   1692858848   1692873248    1692855248  1692876848   1692848048   \n2   1691812960   1691827360    1691809360  1691830960   1691802160   \n\n   utc_plus_4u  \n0   1686602064  \n1   1692884048  \n2   1691838160  \n\n[3 rows x 25 columns]",
      "text/html": "<div>\n<style scoped>\n    .dataframe tbody tr th:only-of-type {\n        vertical-align: middle;\n    }\n\n    .dataframe tbody tr th {\n        vertical-align: top;\n    }\n\n    .dataframe thead th {\n        text-align: right;\n    }\n</style>\n<table border=\"1\" class=\"dataframe\">\n  <thead>\n    <tr style=\"text-align: right;\">\n      <th></th>\n      <th>utc_</th>\n      <th>viewing_azimuth_angle_</th>\n      <th>viewing_zenith_angle_</th>\n      <th>B1</th>\n      <th>B2</th>\n      <th>B3</th>\n      <th>B4</th>\n      <th>B5</th>\n      <th>B6</th>\n      <th>B7</th>\n      <th>...</th>\n      <th>utc_minus_1u</th>\n      <th>utc_plus_1u</th>\n      <th>utc_minus_1u_dt</th>\n      <th>utc_plus_1u_dt</th>\n      <th>utc_minus_2u</th>\n      <th>utc_plus_2u</th>\n      <th>utc_minus_3u</th>\n      <th>utc_plus_3u</th>\n      <th>utc_minus_4u</th>\n      <th>utc_plus_4u</th>\n    </tr>\n  </thead>\n  <tbody>\n    <tr>\n      <th>0</th>\n      <td>1686584064</td>\n      <td>293</td>\n      <td>30</td>\n      <td>0.003088</td>\n      <td>0.003402</td>\n      <td>0.007357</td>\n      <td>0.002229</td>\n      <td>0.010125</td>\n      <td>0.068818</td>\n      <td>0.094357</td>\n      <td>...</td>\n      <td>1686580464</td>\n      <td>1686587664</td>\n      <td>2023.06.12 14:34:24</td>\n      <td>2023.06.12 16:34:24</td>\n      <td>1686576864</td>\n      <td>1686591264</td>\n      <td>1686573264</td>\n      <td>1686594864</td>\n      <td>1686566064</td>\n      <td>1686602064</td>\n    </tr>\n    <tr>\n      <th>1</th>\n      <td>1692866048</td>\n      <td>293</td>\n      <td>30</td>\n      <td>0.006597</td>\n      <td>0.008938</td>\n      <td>0.020109</td>\n      <td>0.009941</td>\n      <td>0.033847</td>\n      <td>0.173287</td>\n      <td>0.231642</td>\n      <td>...</td>\n      <td>1692862448</td>\n      <td>1692869648</td>\n      <td>2023.08.24 07:34:08</td>\n      <td>2023.08.24 09:34:08</td>\n      <td>1692858848</td>\n      <td>1692873248</td>\n      <td>1692855248</td>\n      <td>1692876848</td>\n      <td>1692848048</td>\n      <td>1692884048</td>\n    </tr>\n    <tr>\n      <th>2</th>\n      <td>1691820160</td>\n      <td>293</td>\n      <td>30</td>\n      <td>0.012875</td>\n      <td>0.018907</td>\n      <td>0.044951</td>\n      <td>0.022655</td>\n      <td>0.077591</td>\n      <td>0.325047</td>\n      <td>0.415350</td>\n      <td>...</td>\n      <td>1691816560</td>\n      <td>1691823760</td>\n      <td>2023.08.12 05:02:40</td>\n      <td>2023.08.12 07:02:40</td>\n      <td>1691812960</td>\n      <td>1691827360</td>\n      <td>1691809360</td>\n      <td>1691830960</td>\n      <td>1691802160</td>\n      <td>1691838160</td>\n    </tr>\n  </tbody>\n</table>\n<p>3 rows × 25 columns</p>\n</div>"
     },
     "execution_count": 9,
     "metadata": {},
     "output_type": "execute_result"
    }
   ],
   "source": [
    "PATH_OUTPUT = \"../../../../data/hypernetsLJaesL2A/_out01/hypernetsLJaesL2A_out01_002_0.parquet\"\n",
    "df_hypernetsLJaesL2A_out01_002_0.to_parquet(PATH_OUTPUT)\n",
    "print(df_hypernetsLJaesL2A_out01_002_0.shape)\n",
    "print(f\"unique in-situ dates {df_hypernetsLJaesL2A_out01_002_0['utc_dt'].unique().shape} from \"\n",
    "      f\"{df_hypernetsLJaesL2A_out01_002_0['utc_dt'].min()} to \"\n",
    "      f\"{df_hypernetsLJaesL2A_out01_002_0['utc_dt'].max()}\")\n",
    "pd.read_parquet(PATH_OUTPUT).head(3)"
   ],
   "metadata": {
    "collapsed": false,
    "ExecuteTime": {
     "end_time": "2023-11-22T12:48:06.742015Z",
     "start_time": "2023-11-22T12:48:06.683736Z"
    }
   },
   "id": "594ffbf836e74718"
  },
  {
   "cell_type": "code",
   "execution_count": 9,
   "outputs": [],
   "source": [],
   "metadata": {
    "collapsed": false,
    "ExecuteTime": {
     "end_time": "2023-11-22T12:48:06.742135Z",
     "start_time": "2023-11-22T12:48:06.721015Z"
    }
   },
   "id": "9c2a2dd1e18b4155"
  }
 ],
 "metadata": {
  "kernelspec": {
   "display_name": "Python 3",
   "language": "python",
   "name": "python3"
  },
  "language_info": {
   "codemirror_mode": {
    "name": "ipython",
    "version": 2
   },
   "file_extension": ".py",
   "mimetype": "text/x-python",
   "name": "python",
   "nbconvert_exporter": "python",
   "pygments_lexer": "ipython2",
   "version": "2.7.6"
  }
 },
 "nbformat": 4,
 "nbformat_minor": 5
}

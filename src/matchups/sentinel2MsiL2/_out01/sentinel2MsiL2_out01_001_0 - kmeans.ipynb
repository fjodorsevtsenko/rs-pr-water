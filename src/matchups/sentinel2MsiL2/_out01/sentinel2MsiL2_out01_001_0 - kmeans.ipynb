{
 "cells": [
  {
   "cell_type": "code",
   "execution_count": 26,
   "id": "initial_id",
   "metadata": {
    "collapsed": true,
    "ExecuteTime": {
     "end_time": "2023-11-27T14:45:24.796813Z",
     "start_time": "2023-11-27T14:45:24.695418Z"
    }
   },
   "outputs": [],
   "source": [
    "from models.datamanager.__lib._util import visual as _visual\n",
    "from models.datamanager.__lib._util import visual_rs as _visual_rs\n",
    "import numpy as np\n",
    "import pandas as pd\n",
    "from sklearn.cluster import KMeans\n",
    "from sklearn.preprocessing import StandardScaler\n",
    "import warnings\n",
    "warnings.filterwarnings('ignore')"
   ]
  },
  {
   "cell_type": "code",
   "execution_count": 27,
   "outputs": [],
   "source": [
    "# Load helpers\n",
    "helperVisual = _visual.HelperVisual()\n",
    "helperVisualRS = _visual_rs.HelperVisualRS()"
   ],
   "metadata": {
    "collapsed": false,
    "ExecuteTime": {
     "end_time": "2023-11-27T14:45:24.797107Z",
     "start_time": "2023-11-27T14:45:24.699492Z"
    }
   },
   "id": "36886d008f5a9081"
  },
  {
   "cell_type": "code",
   "execution_count": 28,
   "outputs": [
    {
     "name": "stdout",
     "output_type": "stream",
     "text": [
      "(2325, 59)\n",
      "unique satellite dates (90,) from 2023-05-01 09:30:31 to 2023-09-30 09:17:09\n"
     ]
    },
    {
     "data": {
      "text/plain": "           _dde                                         CalvalusID  \\\n17750  20231108  000002_S2A_MSIL2A_20230501T093031_N9999_R136_T...   \n17751  20231108  000002_S2A_MSIL2A_20230501T093031_N9999_R136_T...   \n17752  20231108  000002_S2A_MSIL2A_20230501T093031_N9999_R136_T...   \n\n                     Date_   Latitude Longitude  \\\n17750  2023-05-01 00:00:00  58.281975  27.31296   \n17751  2023-05-01 00:00:00  58.281975  27.31296   \n17752  2023-05-01 00:00:00  58.281975  27.31296   \n\n                                              SourceName            PixelTime  \\\n17750  S2A_MSIL2A_20230501T093031_N9999_R136_T35VNE_2...  2023-05-01 09:30:31   \n17751  S2A_MSIL2A_20230501T093031_N9999_R136_T35VNE_2...  2023-05-01 09:30:31   \n17752  S2A_MSIL2A_20230501T093031_N9999_R136_T35VNE_2...  2023-05-01 09:30:31   \n\n      PixelX  PixelY   PixelLat  ... ViewAzimuthB8A ViewZenithB9  \\\n17750  916.0  1992.0  58.282368  ...        134.524      3.97687   \n17751  916.0  1993.0   58.28219  ...        134.524      3.97687   \n17752  916.0  1994.0  58.282005  ...        134.524      3.97687   \n\n      ViewAzimuthB9 ViewZenithB10 ViewAzimuthB10 ViewZenithB11 ViewAzimuthB11  \\\n17750       138.285        3.5991        125.533       3.71408        130.444   \n17751       138.285        3.5991        125.533       3.71408        130.444   \n17752       138.285        3.5991        125.533       3.71408        130.444   \n\n      ViewZenithB12 ViewAzimuthB12 ExclusionReason  \n17750       3.85522        135.048            None  \n17751       3.85522        135.048            None  \n17752       3.85522        135.048            None  \n\n[3 rows x 59 columns]",
      "text/html": "<div>\n<style scoped>\n    .dataframe tbody tr th:only-of-type {\n        vertical-align: middle;\n    }\n\n    .dataframe tbody tr th {\n        vertical-align: top;\n    }\n\n    .dataframe thead th {\n        text-align: right;\n    }\n</style>\n<table border=\"1\" class=\"dataframe\">\n  <thead>\n    <tr style=\"text-align: right;\">\n      <th></th>\n      <th>_dde</th>\n      <th>CalvalusID</th>\n      <th>Date_</th>\n      <th>Latitude</th>\n      <th>Longitude</th>\n      <th>SourceName</th>\n      <th>PixelTime</th>\n      <th>PixelX</th>\n      <th>PixelY</th>\n      <th>PixelLat</th>\n      <th>...</th>\n      <th>ViewAzimuthB8A</th>\n      <th>ViewZenithB9</th>\n      <th>ViewAzimuthB9</th>\n      <th>ViewZenithB10</th>\n      <th>ViewAzimuthB10</th>\n      <th>ViewZenithB11</th>\n      <th>ViewAzimuthB11</th>\n      <th>ViewZenithB12</th>\n      <th>ViewAzimuthB12</th>\n      <th>ExclusionReason</th>\n    </tr>\n  </thead>\n  <tbody>\n    <tr>\n      <th>17750</th>\n      <td>20231108</td>\n      <td>000002_S2A_MSIL2A_20230501T093031_N9999_R136_T...</td>\n      <td>2023-05-01 00:00:00</td>\n      <td>58.281975</td>\n      <td>27.31296</td>\n      <td>S2A_MSIL2A_20230501T093031_N9999_R136_T35VNE_2...</td>\n      <td>2023-05-01 09:30:31</td>\n      <td>916.0</td>\n      <td>1992.0</td>\n      <td>58.282368</td>\n      <td>...</td>\n      <td>134.524</td>\n      <td>3.97687</td>\n      <td>138.285</td>\n      <td>3.5991</td>\n      <td>125.533</td>\n      <td>3.71408</td>\n      <td>130.444</td>\n      <td>3.85522</td>\n      <td>135.048</td>\n      <td>None</td>\n    </tr>\n    <tr>\n      <th>17751</th>\n      <td>20231108</td>\n      <td>000002_S2A_MSIL2A_20230501T093031_N9999_R136_T...</td>\n      <td>2023-05-01 00:00:00</td>\n      <td>58.281975</td>\n      <td>27.31296</td>\n      <td>S2A_MSIL2A_20230501T093031_N9999_R136_T35VNE_2...</td>\n      <td>2023-05-01 09:30:31</td>\n      <td>916.0</td>\n      <td>1993.0</td>\n      <td>58.28219</td>\n      <td>...</td>\n      <td>134.524</td>\n      <td>3.97687</td>\n      <td>138.285</td>\n      <td>3.5991</td>\n      <td>125.533</td>\n      <td>3.71408</td>\n      <td>130.444</td>\n      <td>3.85522</td>\n      <td>135.048</td>\n      <td>None</td>\n    </tr>\n    <tr>\n      <th>17752</th>\n      <td>20231108</td>\n      <td>000002_S2A_MSIL2A_20230501T093031_N9999_R136_T...</td>\n      <td>2023-05-01 00:00:00</td>\n      <td>58.281975</td>\n      <td>27.31296</td>\n      <td>S2A_MSIL2A_20230501T093031_N9999_R136_T35VNE_2...</td>\n      <td>2023-05-01 09:30:31</td>\n      <td>916.0</td>\n      <td>1994.0</td>\n      <td>58.282005</td>\n      <td>...</td>\n      <td>134.524</td>\n      <td>3.97687</td>\n      <td>138.285</td>\n      <td>3.5991</td>\n      <td>125.533</td>\n      <td>3.71408</td>\n      <td>130.444</td>\n      <td>3.85522</td>\n      <td>135.048</td>\n      <td>None</td>\n    </tr>\n  </tbody>\n</table>\n<p>3 rows × 59 columns</p>\n</div>"
     },
     "execution_count": 28,
     "metadata": {},
     "output_type": "execute_result"
    }
   ],
   "source": [
    "PATH_TO_MSIL2_FILE_PARQUET = \"../../../../data/sentinel2MsiL2/_out00/sentinel2MsiL2_out00_003 - records_all_annotated.parquet\"\n",
    "df_out00_003_0_records_all_annotated_view = pd.read_parquet(PATH_TO_MSIL2_FILE_PARQUET)\n",
    "\n",
    "# Filter out duplicates\n",
    "df_out00_003_0_records_all_annotated_view = (df_out00_003_0_records_all_annotated_view[\n",
    "    pd.to_datetime(df_out00_003_0_records_all_annotated_view['Date_']).dt.date == pd.to_datetime(df_out00_003_0_records_all_annotated_view['PixelTime']).dt.date\n",
    "])\n",
    "print(df_out00_003_0_records_all_annotated_view.shape)\n",
    "print(f\"unique satellite dates {df_out00_003_0_records_all_annotated_view['PixelTime'].unique().shape} from \"\n",
    "      f\"{df_out00_003_0_records_all_annotated_view['PixelTime'].min()} to \"\n",
    "      f\"{df_out00_003_0_records_all_annotated_view['PixelTime'].max()}\")\n",
    "df_out00_003_0_records_all_annotated_view.head(3)"
   ],
   "metadata": {
    "collapsed": false,
    "ExecuteTime": {
     "end_time": "2023-11-27T14:45:26.718776Z",
     "start_time": "2023-11-27T14:45:24.703863Z"
    }
   },
   "id": "77820c97ecb57fec"
  },
  {
   "cell_type": "code",
   "execution_count": 29,
   "outputs": [
    {
     "name": "stdout",
     "output_type": "stream",
     "text": [
      "(2325, 60)\n"
     ]
    },
    {
     "data": {
      "text/plain": "       _dde                                         CalvalusID  \\\n0  20231108  000002_S2A_MSIL2A_20230501T093031_N9999_R136_T...   \n1  20231108  000002_S2A_MSIL2A_20230501T093031_N9999_R136_T...   \n2  20231108  000002_S2A_MSIL2A_20230501T093031_N9999_R136_T...   \n\n                 Date_   Latitude Longitude  \\\n0  2023-05-01 00:00:00  58.281975  27.31296   \n1  2023-05-01 00:00:00  58.281975  27.31296   \n2  2023-05-01 00:00:00  58.281975  27.31296   \n\n                                          SourceName            PixelTime  \\\n0  S2A_MSIL2A_20230501T093031_N9999_R136_T35VNE_2...  2023-05-01 09:30:31   \n1  S2A_MSIL2A_20230501T093031_N9999_R136_T35VNE_2...  2023-05-01 09:30:31   \n2  S2A_MSIL2A_20230501T093031_N9999_R136_T35VNE_2...  2023-05-01 09:30:31   \n\n  PixelX  PixelY   PixelLat  ... ViewZenithB9 ViewAzimuthB9 ViewZenithB10  \\\n0  916.0  1992.0  58.282368  ...      3.97687       138.285        3.5991   \n1  916.0  1993.0   58.28219  ...      3.97687       138.285        3.5991   \n2  916.0  1994.0  58.282005  ...      3.97687       138.285        3.5991   \n\n  ViewAzimuthB10 ViewZenithB11 ViewAzimuthB11 ViewZenithB12 ViewAzimuthB12  \\\n0        125.533       3.71408        130.444       3.85522        135.048   \n1        125.533       3.71408        130.444       3.85522        135.048   \n2        125.533       3.71408        130.444       3.85522        135.048   \n\n  ExclusionReason QualitySceneClassificationName  \n0            None         Cloud high probability  \n1            None         Cloud high probability  \n2            None         Cloud high probability  \n\n[3 rows x 60 columns]",
      "text/html": "<div>\n<style scoped>\n    .dataframe tbody tr th:only-of-type {\n        vertical-align: middle;\n    }\n\n    .dataframe tbody tr th {\n        vertical-align: top;\n    }\n\n    .dataframe thead th {\n        text-align: right;\n    }\n</style>\n<table border=\"1\" class=\"dataframe\">\n  <thead>\n    <tr style=\"text-align: right;\">\n      <th></th>\n      <th>_dde</th>\n      <th>CalvalusID</th>\n      <th>Date_</th>\n      <th>Latitude</th>\n      <th>Longitude</th>\n      <th>SourceName</th>\n      <th>PixelTime</th>\n      <th>PixelX</th>\n      <th>PixelY</th>\n      <th>PixelLat</th>\n      <th>...</th>\n      <th>ViewZenithB9</th>\n      <th>ViewAzimuthB9</th>\n      <th>ViewZenithB10</th>\n      <th>ViewAzimuthB10</th>\n      <th>ViewZenithB11</th>\n      <th>ViewAzimuthB11</th>\n      <th>ViewZenithB12</th>\n      <th>ViewAzimuthB12</th>\n      <th>ExclusionReason</th>\n      <th>QualitySceneClassificationName</th>\n    </tr>\n  </thead>\n  <tbody>\n    <tr>\n      <th>0</th>\n      <td>20231108</td>\n      <td>000002_S2A_MSIL2A_20230501T093031_N9999_R136_T...</td>\n      <td>2023-05-01 00:00:00</td>\n      <td>58.281975</td>\n      <td>27.31296</td>\n      <td>S2A_MSIL2A_20230501T093031_N9999_R136_T35VNE_2...</td>\n      <td>2023-05-01 09:30:31</td>\n      <td>916.0</td>\n      <td>1992.0</td>\n      <td>58.282368</td>\n      <td>...</td>\n      <td>3.97687</td>\n      <td>138.285</td>\n      <td>3.5991</td>\n      <td>125.533</td>\n      <td>3.71408</td>\n      <td>130.444</td>\n      <td>3.85522</td>\n      <td>135.048</td>\n      <td>None</td>\n      <td>Cloud high probability</td>\n    </tr>\n    <tr>\n      <th>1</th>\n      <td>20231108</td>\n      <td>000002_S2A_MSIL2A_20230501T093031_N9999_R136_T...</td>\n      <td>2023-05-01 00:00:00</td>\n      <td>58.281975</td>\n      <td>27.31296</td>\n      <td>S2A_MSIL2A_20230501T093031_N9999_R136_T35VNE_2...</td>\n      <td>2023-05-01 09:30:31</td>\n      <td>916.0</td>\n      <td>1993.0</td>\n      <td>58.28219</td>\n      <td>...</td>\n      <td>3.97687</td>\n      <td>138.285</td>\n      <td>3.5991</td>\n      <td>125.533</td>\n      <td>3.71408</td>\n      <td>130.444</td>\n      <td>3.85522</td>\n      <td>135.048</td>\n      <td>None</td>\n      <td>Cloud high probability</td>\n    </tr>\n    <tr>\n      <th>2</th>\n      <td>20231108</td>\n      <td>000002_S2A_MSIL2A_20230501T093031_N9999_R136_T...</td>\n      <td>2023-05-01 00:00:00</td>\n      <td>58.281975</td>\n      <td>27.31296</td>\n      <td>S2A_MSIL2A_20230501T093031_N9999_R136_T35VNE_2...</td>\n      <td>2023-05-01 09:30:31</td>\n      <td>916.0</td>\n      <td>1994.0</td>\n      <td>58.282005</td>\n      <td>...</td>\n      <td>3.97687</td>\n      <td>138.285</td>\n      <td>3.5991</td>\n      <td>125.533</td>\n      <td>3.71408</td>\n      <td>130.444</td>\n      <td>3.85522</td>\n      <td>135.048</td>\n      <td>None</td>\n      <td>Cloud high probability</td>\n    </tr>\n  </tbody>\n</table>\n<p>3 rows × 60 columns</p>\n</div>"
     },
     "execution_count": 29,
     "metadata": {},
     "output_type": "execute_result"
    }
   ],
   "source": [
    "# Add QualitySceneClassificationName attribute\n",
    "quality_scene_classification = {\n",
    "    'QualitySceneClassification': [ '0.0', '1.0', '2.0', '3.0', '4.0', '5.0', '6.0', '7.0', '8.0', '9.0', '10.0', '11.0' ],\n",
    "    'QualitySceneClassificationName': [ 'No data', 'Saturated or defective', 'Dark area pixels', 'Cloud shadows', 'Vegetation', 'Not vegetated', 'Water', 'Unclassified', 'Cloud medium probability', 'Cloud high probability', 'Thin cirrus', 'Snow or ice' ]\n",
    "}\n",
    "df_quality_scene_classification = pd.DataFrame(quality_scene_classification)\n",
    "df_out01_003_1_records_all_annotated_view = pd.merge(df_out00_003_0_records_all_annotated_view, df_quality_scene_classification, on='QualitySceneClassification', how='left')\n",
    "print(df_out01_003_1_records_all_annotated_view.shape)\n",
    "df_out01_003_1_records_all_annotated_view.head(3)\n"
   ],
   "metadata": {
    "collapsed": false,
    "ExecuteTime": {
     "end_time": "2023-11-27T14:45:26.730372Z",
     "start_time": "2023-11-27T14:45:26.719925Z"
    }
   },
   "id": "244b1db7a4c97a7"
  },
  {
   "cell_type": "code",
   "execution_count": 30,
   "outputs": [
    {
     "name": "stdout",
     "output_type": "stream",
     "text": [
      "(2325, 61)\n"
     ]
    },
    {
     "data": {
      "text/plain": "       _dde                                         CalvalusID  \\\n0  20231108  000002_S2A_MSIL2A_20230501T093031_N9999_R136_T...   \n1  20231108  000002_S2A_MSIL2A_20230501T093031_N9999_R136_T...   \n2  20231108  000002_S2A_MSIL2A_20230501T093031_N9999_R136_T...   \n\n                 Date_   Latitude Longitude  \\\n0  2023-05-01 00:00:00  58.281975  27.31296   \n1  2023-05-01 00:00:00  58.281975  27.31296   \n2  2023-05-01 00:00:00  58.281975  27.31296   \n\n                                          SourceName            PixelTime  \\\n0  S2A_MSIL2A_20230501T093031_N9999_R136_T35VNE_2...  2023-05-01 09:30:31   \n1  S2A_MSIL2A_20230501T093031_N9999_R136_T35VNE_2...  2023-05-01 09:30:31   \n2  S2A_MSIL2A_20230501T093031_N9999_R136_T35VNE_2...  2023-05-01 09:30:31   \n\n  PixelX  PixelY   PixelLat  ... ViewAzimuthB9 ViewZenithB10 ViewAzimuthB10  \\\n0  916.0  1992.0  58.282368  ...       138.285        3.5991        125.533   \n1  916.0  1993.0   58.28219  ...       138.285        3.5991        125.533   \n2  916.0  1994.0  58.282005  ...       138.285        3.5991        125.533   \n\n  ViewZenithB11 ViewAzimuthB11 ViewZenithB12 ViewAzimuthB12 ExclusionReason  \\\n0       3.71408        130.444       3.85522        135.048            None   \n1       3.71408        130.444       3.85522        135.048            None   \n2       3.71408        130.444       3.85522        135.048            None   \n\n  QualitySceneClassificationName PixelTimeUtc  \n0         Cloud high probability   1682933431  \n1         Cloud high probability   1682933431  \n2         Cloud high probability   1682933431  \n\n[3 rows x 61 columns]",
      "text/html": "<div>\n<style scoped>\n    .dataframe tbody tr th:only-of-type {\n        vertical-align: middle;\n    }\n\n    .dataframe tbody tr th {\n        vertical-align: top;\n    }\n\n    .dataframe thead th {\n        text-align: right;\n    }\n</style>\n<table border=\"1\" class=\"dataframe\">\n  <thead>\n    <tr style=\"text-align: right;\">\n      <th></th>\n      <th>_dde</th>\n      <th>CalvalusID</th>\n      <th>Date_</th>\n      <th>Latitude</th>\n      <th>Longitude</th>\n      <th>SourceName</th>\n      <th>PixelTime</th>\n      <th>PixelX</th>\n      <th>PixelY</th>\n      <th>PixelLat</th>\n      <th>...</th>\n      <th>ViewAzimuthB9</th>\n      <th>ViewZenithB10</th>\n      <th>ViewAzimuthB10</th>\n      <th>ViewZenithB11</th>\n      <th>ViewAzimuthB11</th>\n      <th>ViewZenithB12</th>\n      <th>ViewAzimuthB12</th>\n      <th>ExclusionReason</th>\n      <th>QualitySceneClassificationName</th>\n      <th>PixelTimeUtc</th>\n    </tr>\n  </thead>\n  <tbody>\n    <tr>\n      <th>0</th>\n      <td>20231108</td>\n      <td>000002_S2A_MSIL2A_20230501T093031_N9999_R136_T...</td>\n      <td>2023-05-01 00:00:00</td>\n      <td>58.281975</td>\n      <td>27.31296</td>\n      <td>S2A_MSIL2A_20230501T093031_N9999_R136_T35VNE_2...</td>\n      <td>2023-05-01 09:30:31</td>\n      <td>916.0</td>\n      <td>1992.0</td>\n      <td>58.282368</td>\n      <td>...</td>\n      <td>138.285</td>\n      <td>3.5991</td>\n      <td>125.533</td>\n      <td>3.71408</td>\n      <td>130.444</td>\n      <td>3.85522</td>\n      <td>135.048</td>\n      <td>None</td>\n      <td>Cloud high probability</td>\n      <td>1682933431</td>\n    </tr>\n    <tr>\n      <th>1</th>\n      <td>20231108</td>\n      <td>000002_S2A_MSIL2A_20230501T093031_N9999_R136_T...</td>\n      <td>2023-05-01 00:00:00</td>\n      <td>58.281975</td>\n      <td>27.31296</td>\n      <td>S2A_MSIL2A_20230501T093031_N9999_R136_T35VNE_2...</td>\n      <td>2023-05-01 09:30:31</td>\n      <td>916.0</td>\n      <td>1993.0</td>\n      <td>58.28219</td>\n      <td>...</td>\n      <td>138.285</td>\n      <td>3.5991</td>\n      <td>125.533</td>\n      <td>3.71408</td>\n      <td>130.444</td>\n      <td>3.85522</td>\n      <td>135.048</td>\n      <td>None</td>\n      <td>Cloud high probability</td>\n      <td>1682933431</td>\n    </tr>\n    <tr>\n      <th>2</th>\n      <td>20231108</td>\n      <td>000002_S2A_MSIL2A_20230501T093031_N9999_R136_T...</td>\n      <td>2023-05-01 00:00:00</td>\n      <td>58.281975</td>\n      <td>27.31296</td>\n      <td>S2A_MSIL2A_20230501T093031_N9999_R136_T35VNE_2...</td>\n      <td>2023-05-01 09:30:31</td>\n      <td>916.0</td>\n      <td>1994.0</td>\n      <td>58.282005</td>\n      <td>...</td>\n      <td>138.285</td>\n      <td>3.5991</td>\n      <td>125.533</td>\n      <td>3.71408</td>\n      <td>130.444</td>\n      <td>3.85522</td>\n      <td>135.048</td>\n      <td>None</td>\n      <td>Cloud high probability</td>\n      <td>1682933431</td>\n    </tr>\n  </tbody>\n</table>\n<p>3 rows × 61 columns</p>\n</div>"
     },
     "execution_count": 30,
     "metadata": {},
     "output_type": "execute_result"
    }
   ],
   "source": [
    "# Add PixelTimeUtc\n",
    "\n",
    "def datetime_to_utc(attribute):\n",
    "    return int(pd.to_datetime(attribute).timestamp())\n",
    "\n",
    "# test: datetime_to_utc('2023.05.01 07:02:24') # expected 1682924544\n",
    "# test: datetime_to_utc('2023-05-01 09:30:31') # expected 1682933431\n",
    "\n",
    "df_out01_003_1_records_all_annotated_view = (df_out01_003_1_records_all_annotated_view\n",
    "                                             .assign(PixelTimeUtc = lambda e: (pd.to_datetime(e['PixelTime']).apply(datetime_to_utc)))\n",
    "                                             )\n",
    "print(df_out01_003_1_records_all_annotated_view.shape)\n",
    "df_out01_003_1_records_all_annotated_view.head(3)"
   ],
   "metadata": {
    "collapsed": false,
    "ExecuteTime": {
     "end_time": "2023-11-27T14:45:26.886293Z",
     "start_time": "2023-11-27T14:45:26.732613Z"
    }
   },
   "id": "92199c4d1e24c3d2"
  },
  {
   "cell_type": "code",
   "execution_count": 31,
   "outputs": [],
   "source": [
    "#Inspired by: https://towardsdatascience.com/gaussian-mixture-models-for-clustering-3f62d0da675\n",
    "X = df_out01_003_1_records_all_annotated_view.filter(items=['B1', 'B2', 'B3', 'B4', 'B5', 'B6', 'B7', 'B8', 'B8A', 'B9', 'B11']).dropna()\n",
    "scaler = StandardScaler()\n",
    "X_scaled = X #scaler.fit_transform(X)\n",
    "\n",
    "INERTIAS = [] # Bayesian information criterion\n",
    "CLUSTER_L = 20\n",
    "CLUSTERS = range(2, CLUSTER_L)\n",
    "for cluster in CLUSTERS:\n",
    "    kmeans = KMeans(n_clusters=cluster, init='k-means++')\n",
    "    kmeans.fit(X_scaled)\n",
    "    \n",
    "    # Append the inertia to the respective lists\n",
    "    INERTIAS.append(kmeans.inertia_)\n",
    "\n",
    "# Convert the scores to a DataFrame for plotting\n",
    "dict_data = {\n",
    "    'number_of_clusters': CLUSTERS,\n",
    "    'inertia': INERTIAS\n",
    "}\n",
    "\n",
    "df_elbow = pd.DataFrame(dict_data)"
   ],
   "metadata": {
    "collapsed": false,
    "ExecuteTime": {
     "end_time": "2023-11-27T14:45:30.568866Z",
     "start_time": "2023-11-27T14:45:26.752653Z"
    }
   },
   "id": "c07756548541f222"
  },
  {
   "cell_type": "code",
   "execution_count": 32,
   "outputs": [
    {
     "data": {
      "text/plain": "<Figure size 640x480 with 1 Axes>",
      "image/png": "[encoded data removed]"
     },
     "execution_count": 32,
     "metadata": {
      "image/png": {
       "width": 640,
       "height": 480
      }
     },
     "output_type": "execute_result"
    }
   ],
   "source": [
    "helperVisual.get_line_plot(df=df_elbow,\n",
    "                         x_name='number_of_clusters',\n",
    "                         y_name='inertia',\n",
    "                         xlab_name=\"Number of Clusters\",\n",
    "                         ylab_name=\"Inertia\",\n",
    "                         x_continuous_breaks=np.arange(2, CLUSTER_L, 1)).draw()"
   ],
   "metadata": {
    "collapsed": false,
    "ExecuteTime": {
     "end_time": "2023-11-27T14:45:30.848388Z",
     "start_time": "2023-11-27T14:45:30.718749Z"
    }
   },
   "id": "f994da671980a66e"
  },
  {
   "cell_type": "code",
   "execution_count": 33,
   "outputs": [],
   "source": [
    "# Set the number of clusters as .. and fit the model\n",
    "CLUSTER_SELECTED = 8\n",
    "kmeans = KMeans(n_clusters=CLUSTER_SELECTED, init='k-means++')\n",
    "kmeans.fit(X_scaled)\n",
    "prediction = kmeans.predict(X_scaled)"
   ],
   "metadata": {
    "collapsed": false,
    "ExecuteTime": {
     "end_time": "2023-11-27T14:45:31.098767Z",
     "start_time": "2023-11-27T14:45:30.850440Z"
    }
   },
   "id": "30203b3374fccd84"
  },
  {
   "cell_type": "code",
   "execution_count": 34,
   "outputs": [
    {
     "data": {
      "text/plain": "   Cluster  Band  count      mean       std     min     max           Cluster_\n0        0     1    785  0.135981  0.027674  0.1146  0.3642  Cluster 00, (785)\n1        0     2    785  0.136120  0.027015  0.1133  0.3352  Cluster 00, (785)\n2        0     3    785  0.150252  0.022028  0.1262  0.3000  Cluster 00, (785)",
      "text/html": "<div>\n<style scoped>\n    .dataframe tbody tr th:only-of-type {\n        vertical-align: middle;\n    }\n\n    .dataframe tbody tr th {\n        vertical-align: top;\n    }\n\n    .dataframe thead th {\n        text-align: right;\n    }\n</style>\n<table border=\"1\" class=\"dataframe\">\n  <thead>\n    <tr style=\"text-align: right;\">\n      <th></th>\n      <th>Cluster</th>\n      <th>Band</th>\n      <th>count</th>\n      <th>mean</th>\n      <th>std</th>\n      <th>min</th>\n      <th>max</th>\n      <th>Cluster_</th>\n    </tr>\n  </thead>\n  <tbody>\n    <tr>\n      <th>0</th>\n      <td>0</td>\n      <td>1</td>\n      <td>785</td>\n      <td>0.135981</td>\n      <td>0.027674</td>\n      <td>0.1146</td>\n      <td>0.3642</td>\n      <td>Cluster 00, (785)</td>\n    </tr>\n    <tr>\n      <th>1</th>\n      <td>0</td>\n      <td>2</td>\n      <td>785</td>\n      <td>0.136120</td>\n      <td>0.027015</td>\n      <td>0.1133</td>\n      <td>0.3352</td>\n      <td>Cluster 00, (785)</td>\n    </tr>\n    <tr>\n      <th>2</th>\n      <td>0</td>\n      <td>3</td>\n      <td>785</td>\n      <td>0.150252</td>\n      <td>0.022028</td>\n      <td>0.1262</td>\n      <td>0.3000</td>\n      <td>Cluster 00, (785)</td>\n    </tr>\n  </tbody>\n</table>\n</div>"
     },
     "execution_count": 34,
     "metadata": {},
     "output_type": "execute_result"
    }
   ],
   "source": [
    "bands_mapping_ = { 'B1':'B01', 'B2':'B02', 'B3':'B03', 'B4':'B04', 'B5':'B05', 'B6':'B06', 'B7':'B07', 'B8':'B08', 'B8A':'B08A', 'B9':'B09', 'B11':'B11' }\n",
    "bands_mapping = { 'B1':1, 'B2':2, 'B3':3, 'B4':4, 'B5':5, 'B6':6, 'B7':7, 'B8':8, 'B8A':9, 'B9':10, 'B11':11 }\n",
    "bands_mapping_swapped = { v: k for k, v in bands_mapping.items() }\n",
    "\n",
    "X_scaled_1 = X_scaled.copy().assign(Cluster = prediction)\n",
    "\n",
    "X_melted = (\n",
    "    X_scaled_1\n",
    "    .rename(columns = bands_mapping)\n",
    "    .melt(id_vars=['Cluster'], var_name='Band', value_name='Reflectance')\n",
    "    .assign(Band = lambda x: x['Band'].astype(str).astype(int))\n",
    "    .assign(Reflectance = lambda x: x['Reflectance'].astype(str).astype(float))\n",
    "    .groupby(['Cluster', 'Band'])['Reflectance'].agg(['count', 'mean', 'std', 'min', 'max']).reset_index()\n",
    "    .assign(Cluster_ = lambda x: x['Cluster'].apply(lambda y: f'Cluster {str(y).zfill(2)}') + x['count'].apply(lambda z: f', ({z})'))\n",
    ")\n",
    "X_melted.head(3)"
   ],
   "metadata": {
    "collapsed": false,
    "ExecuteTime": {
     "end_time": "2023-11-27T14:45:31.124061Z",
     "start_time": "2023-11-27T14:45:31.099150Z"
    }
   },
   "id": "8635630746383e5d"
  },
  {
   "cell_type": "code",
   "execution_count": 42,
   "outputs": [
    {
     "data": {
      "text/plain": "<Figure size 640x480 with 8 Axes>",
      "image/png": "[encoded data removed]"
     },
     "execution_count": 42,
     "metadata": {
      "image/png": {
       "width": 640,
       "height": 480
      }
     },
     "output_type": "execute_result"
    }
   ],
   "source": [
    "helperVisualRS.get_reflectance_signature_facets(X_melted,\n",
    "                                                ncol=4,\n",
    "                                                scale_x_continuous_breaks=np.arange(1, 12, 1),\n",
    "                                                scale_y_continuous_breaks=np.arange(0, 2.1, 0.2)).draw()"
   ],
   "metadata": {
    "collapsed": false,
    "ExecuteTime": {
     "end_time": "2023-11-27T14:46:38.639320Z",
     "start_time": "2023-11-27T14:46:37.803206Z"
    }
   },
   "id": "da75e5906f265230"
  },
  {
   "cell_type": "code",
   "execution_count": 36,
   "outputs": [
    {
     "name": "stdout",
     "output_type": "stream",
     "text": [
      "(1500, 62)\n",
      "unique satellite dates (60,) from 2023-05-01 09:30:31 to 2023-09-28 09:30:31\n"
     ]
    },
    {
     "data": {
      "text/plain": "       _dde                                         CalvalusID  \\\n0  20231108  000002_S2A_MSIL2A_20230501T093031_N9999_R136_T...   \n1  20231108  000002_S2A_MSIL2A_20230501T093031_N9999_R136_T...   \n2  20231108  000002_S2A_MSIL2A_20230501T093031_N9999_R136_T...   \n\n                 Date_   Latitude Longitude  \\\n0  2023-05-01 00:00:00  58.281975  27.31296   \n1  2023-05-01 00:00:00  58.281975  27.31296   \n2  2023-05-01 00:00:00  58.281975  27.31296   \n\n                                          SourceName            PixelTime  \\\n0  S2A_MSIL2A_20230501T093031_N9999_R136_T35VNE_2...  2023-05-01 09:30:31   \n1  S2A_MSIL2A_20230501T093031_N9999_R136_T35VNE_2...  2023-05-01 09:30:31   \n2  S2A_MSIL2A_20230501T093031_N9999_R136_T35VNE_2...  2023-05-01 09:30:31   \n\n  PixelX  PixelY   PixelLat  ... ViewZenithB10 ViewAzimuthB10 ViewZenithB11  \\\n0  916.0  1992.0  58.282368  ...        3.5991        125.533       3.71408   \n1  916.0  1993.0   58.28219  ...        3.5991        125.533       3.71408   \n2  916.0  1994.0  58.282005  ...        3.5991        125.533       3.71408   \n\n  ViewAzimuthB11 ViewZenithB12 ViewAzimuthB12 ExclusionReason  \\\n0        130.444       3.85522        135.048            None   \n1        130.444       3.85522        135.048            None   \n2        130.444       3.85522        135.048            None   \n\n  QualitySceneClassificationName PixelTimeUtc Cluster  \n0         Cloud high probability   1682933431       7  \n1         Cloud high probability   1682933431       7  \n2         Cloud high probability   1682933431       7  \n\n[3 rows x 62 columns]",
      "text/html": "<div>\n<style scoped>\n    .dataframe tbody tr th:only-of-type {\n        vertical-align: middle;\n    }\n\n    .dataframe tbody tr th {\n        vertical-align: top;\n    }\n\n    .dataframe thead th {\n        text-align: right;\n    }\n</style>\n<table border=\"1\" class=\"dataframe\">\n  <thead>\n    <tr style=\"text-align: right;\">\n      <th></th>\n      <th>_dde</th>\n      <th>CalvalusID</th>\n      <th>Date_</th>\n      <th>Latitude</th>\n      <th>Longitude</th>\n      <th>SourceName</th>\n      <th>PixelTime</th>\n      <th>PixelX</th>\n      <th>PixelY</th>\n      <th>PixelLat</th>\n      <th>...</th>\n      <th>ViewZenithB10</th>\n      <th>ViewAzimuthB10</th>\n      <th>ViewZenithB11</th>\n      <th>ViewAzimuthB11</th>\n      <th>ViewZenithB12</th>\n      <th>ViewAzimuthB12</th>\n      <th>ExclusionReason</th>\n      <th>QualitySceneClassificationName</th>\n      <th>PixelTimeUtc</th>\n      <th>Cluster</th>\n    </tr>\n  </thead>\n  <tbody>\n    <tr>\n      <th>0</th>\n      <td>20231108</td>\n      <td>000002_S2A_MSIL2A_20230501T093031_N9999_R136_T...</td>\n      <td>2023-05-01 00:00:00</td>\n      <td>58.281975</td>\n      <td>27.31296</td>\n      <td>S2A_MSIL2A_20230501T093031_N9999_R136_T35VNE_2...</td>\n      <td>2023-05-01 09:30:31</td>\n      <td>916.0</td>\n      <td>1992.0</td>\n      <td>58.282368</td>\n      <td>...</td>\n      <td>3.5991</td>\n      <td>125.533</td>\n      <td>3.71408</td>\n      <td>130.444</td>\n      <td>3.85522</td>\n      <td>135.048</td>\n      <td>None</td>\n      <td>Cloud high probability</td>\n      <td>1682933431</td>\n      <td>7</td>\n    </tr>\n    <tr>\n      <th>1</th>\n      <td>20231108</td>\n      <td>000002_S2A_MSIL2A_20230501T093031_N9999_R136_T...</td>\n      <td>2023-05-01 00:00:00</td>\n      <td>58.281975</td>\n      <td>27.31296</td>\n      <td>S2A_MSIL2A_20230501T093031_N9999_R136_T35VNE_2...</td>\n      <td>2023-05-01 09:30:31</td>\n      <td>916.0</td>\n      <td>1993.0</td>\n      <td>58.28219</td>\n      <td>...</td>\n      <td>3.5991</td>\n      <td>125.533</td>\n      <td>3.71408</td>\n      <td>130.444</td>\n      <td>3.85522</td>\n      <td>135.048</td>\n      <td>None</td>\n      <td>Cloud high probability</td>\n      <td>1682933431</td>\n      <td>7</td>\n    </tr>\n    <tr>\n      <th>2</th>\n      <td>20231108</td>\n      <td>000002_S2A_MSIL2A_20230501T093031_N9999_R136_T...</td>\n      <td>2023-05-01 00:00:00</td>\n      <td>58.281975</td>\n      <td>27.31296</td>\n      <td>S2A_MSIL2A_20230501T093031_N9999_R136_T35VNE_2...</td>\n      <td>2023-05-01 09:30:31</td>\n      <td>916.0</td>\n      <td>1994.0</td>\n      <td>58.282005</td>\n      <td>...</td>\n      <td>3.5991</td>\n      <td>125.533</td>\n      <td>3.71408</td>\n      <td>130.444</td>\n      <td>3.85522</td>\n      <td>135.048</td>\n      <td>None</td>\n      <td>Cloud high probability</td>\n      <td>1682933431</td>\n      <td>7</td>\n    </tr>\n  </tbody>\n</table>\n<p>3 rows × 62 columns</p>\n</div>"
     },
     "execution_count": 36,
     "metadata": {},
     "output_type": "execute_result"
    }
   ],
   "source": [
    "# Assign 'Cluster' to initial data. Inner by index of prediction data.\n",
    "df_out01_003_2_records_all_annotated_view = (df_out01_003_1_records_all_annotated_view[df_out01_003_1_records_all_annotated_view.index.isin(X_scaled_1.index)]\n",
    "                                             .assign(Cluster = prediction))\n",
    "print(df_out01_003_2_records_all_annotated_view.shape)\n",
    "print(f\"unique satellite dates {df_out01_003_2_records_all_annotated_view['PixelTime'].unique().shape} from \"\n",
    "      f\"{df_out01_003_2_records_all_annotated_view['PixelTime'].min()} to \"\n",
    "      f\"{df_out01_003_2_records_all_annotated_view['PixelTime'].max()}\")\n",
    "df_out01_003_2_records_all_annotated_view.head(3)"
   ],
   "metadata": {
    "collapsed": false,
    "ExecuteTime": {
     "end_time": "2023-11-27T14:45:32.018158Z",
     "start_time": "2023-11-27T14:45:32.008753Z"
    }
   },
   "id": "5a624db13f696a2d"
  },
  {
   "cell_type": "code",
   "execution_count": 37,
   "outputs": [
    {
     "data": {
      "text/plain": "Cluster                                                        0     1     2  \\\nQualitySceneClassification QualitySceneClassificationName                      \n10.0                       Thin cirrus                      67.0   NaN   NaN   \n3.0                        Cloud shadows                     NaN   NaN   NaN   \n4.0                        Vegetation                      708.0   NaN   NaN   \n5.0                        Not vegetated                     NaN   NaN   NaN   \n7.0                        Unclassified                      9.0   NaN   NaN   \n8.0                        Cloud medium probability          1.0  25.0   2.0   \n9.0                        Cloud high probability            NaN  75.0  88.0   \n\nCluster                                                       3     4     5  \\\nQualitySceneClassification QualitySceneClassificationName                     \n10.0                       Thin cirrus                      NaN   NaN  33.0   \n3.0                        Cloud shadows                    NaN   NaN  29.0   \n4.0                        Vegetation                       NaN   NaN  99.0   \n5.0                        Not vegetated                    NaN   NaN   NaN   \n7.0                        Unclassified                     NaN   NaN   5.0   \n8.0                        Cloud medium probability         NaN   NaN   NaN   \n9.0                        Cloud high probability          75.0  25.0   NaN   \n\nCluster                                                       6      7  \nQualitySceneClassification QualitySceneClassificationName               \n10.0                       Thin cirrus                      NaN    4.0  \n3.0                        Cloud shadows                    NaN    NaN  \n4.0                        Vegetation                       NaN    3.0  \n5.0                        Not vegetated                    NaN    2.0  \n7.0                        Unclassified                     NaN   20.0  \n8.0                        Cloud medium probability        50.0  106.0  \n9.0                        Cloud high probability          32.0   42.0  ",
      "text/html": "<div>\n<style scoped>\n    .dataframe tbody tr th:only-of-type {\n        vertical-align: middle;\n    }\n\n    .dataframe tbody tr th {\n        vertical-align: top;\n    }\n\n    .dataframe thead th {\n        text-align: right;\n    }\n</style>\n<table border=\"1\" class=\"dataframe\">\n  <thead>\n    <tr style=\"text-align: right;\">\n      <th></th>\n      <th>Cluster</th>\n      <th>0</th>\n      <th>1</th>\n      <th>2</th>\n      <th>3</th>\n      <th>4</th>\n      <th>5</th>\n      <th>6</th>\n      <th>7</th>\n    </tr>\n    <tr>\n      <th>QualitySceneClassification</th>\n      <th>QualitySceneClassificationName</th>\n      <th></th>\n      <th></th>\n      <th></th>\n      <th></th>\n      <th></th>\n      <th></th>\n      <th></th>\n      <th></th>\n    </tr>\n  </thead>\n  <tbody>\n    <tr>\n      <th>10.0</th>\n      <th>Thin cirrus</th>\n      <td>67.0</td>\n      <td>NaN</td>\n      <td>NaN</td>\n      <td>NaN</td>\n      <td>NaN</td>\n      <td>33.0</td>\n      <td>NaN</td>\n      <td>4.0</td>\n    </tr>\n    <tr>\n      <th>3.0</th>\n      <th>Cloud shadows</th>\n      <td>NaN</td>\n      <td>NaN</td>\n      <td>NaN</td>\n      <td>NaN</td>\n      <td>NaN</td>\n      <td>29.0</td>\n      <td>NaN</td>\n      <td>NaN</td>\n    </tr>\n    <tr>\n      <th>4.0</th>\n      <th>Vegetation</th>\n      <td>708.0</td>\n      <td>NaN</td>\n      <td>NaN</td>\n      <td>NaN</td>\n      <td>NaN</td>\n      <td>99.0</td>\n      <td>NaN</td>\n      <td>3.0</td>\n    </tr>\n    <tr>\n      <th>5.0</th>\n      <th>Not vegetated</th>\n      <td>NaN</td>\n      <td>NaN</td>\n      <td>NaN</td>\n      <td>NaN</td>\n      <td>NaN</td>\n      <td>NaN</td>\n      <td>NaN</td>\n      <td>2.0</td>\n    </tr>\n    <tr>\n      <th>7.0</th>\n      <th>Unclassified</th>\n      <td>9.0</td>\n      <td>NaN</td>\n      <td>NaN</td>\n      <td>NaN</td>\n      <td>NaN</td>\n      <td>5.0</td>\n      <td>NaN</td>\n      <td>20.0</td>\n    </tr>\n    <tr>\n      <th>8.0</th>\n      <th>Cloud medium probability</th>\n      <td>1.0</td>\n      <td>25.0</td>\n      <td>2.0</td>\n      <td>NaN</td>\n      <td>NaN</td>\n      <td>NaN</td>\n      <td>50.0</td>\n      <td>106.0</td>\n    </tr>\n    <tr>\n      <th>9.0</th>\n      <th>Cloud high probability</th>\n      <td>NaN</td>\n      <td>75.0</td>\n      <td>88.0</td>\n      <td>75.0</td>\n      <td>25.0</td>\n      <td>NaN</td>\n      <td>32.0</td>\n      <td>42.0</td>\n    </tr>\n  </tbody>\n</table>\n</div>"
     },
     "execution_count": 37,
     "metadata": {},
     "output_type": "execute_result"
    }
   ],
   "source": [
    "df_grouped = df_out01_003_2_records_all_annotated_view.groupby(['Cluster', 'QualitySceneClassificationName', 'QualitySceneClassification']).size().reset_index(name='count')\n",
    "df_grouped.pivot(index=['QualitySceneClassification', 'QualitySceneClassificationName'], columns='Cluster', values='count')"
   ],
   "metadata": {
    "collapsed": false,
    "ExecuteTime": {
     "end_time": "2023-11-27T14:45:32.027566Z",
     "start_time": "2023-11-27T14:45:32.018988Z"
    }
   },
   "id": "28e47e9d6a0e8fe3"
  },
  {
   "cell_type": "code",
   "execution_count": 38,
   "outputs": [
    {
     "data": {
      "application/vnd.plotly.v1+json": {
       "data": [
        {
         "hovertemplate": "Cluster=0<br>count=%{r}<br>QualitySceneClassificationName=%{theta}<extra></extra>",
         "legendgroup": "0",
         "line": {
          "color": "#636efa",
          "dash": "solid"
         },
         "marker": {
          "symbol": "circle"
         },
         "mode": "lines",
         "name": "0",
         "r": [
          1,
          67,
          9,
          708,
          1
         ],
         "showlegend": true,
         "subplot": "polar",
         "theta": [
          "Cloud medium probability",
          "Thin cirrus",
          "Unclassified",
          "Vegetation",
          "Cloud medium probability"
         ],
         "type": "scatterpolar"
        },
        {
         "hovertemplate": "Cluster=1<br>count=%{r}<br>QualitySceneClassificationName=%{theta}<extra></extra>",
         "legendgroup": "1",
         "line": {
          "color": "#EF553B",
          "dash": "solid"
         },
         "marker": {
          "symbol": "circle"
         },
         "mode": "lines",
         "name": "1",
         "r": [
          75,
          25,
          75
         ],
         "showlegend": true,
         "subplot": "polar",
         "theta": [
          "Cloud high probability",
          "Cloud medium probability",
          "Cloud high probability"
         ],
         "type": "scatterpolar"
        },
        {
         "hovertemplate": "Cluster=2<br>count=%{r}<br>QualitySceneClassificationName=%{theta}<extra></extra>",
         "legendgroup": "2",
         "line": {
          "color": "#00cc96",
          "dash": "solid"
         },
         "marker": {
          "symbol": "circle"
         },
         "mode": "lines",
         "name": "2",
         "r": [
          88,
          2,
          88
         ],
         "showlegend": true,
         "subplot": "polar",
         "theta": [
          "Cloud high probability",
          "Cloud medium probability",
          "Cloud high probability"
         ],
         "type": "scatterpolar"
        },
        {
         "hovertemplate": "Cluster=3<br>count=%{r}<br>QualitySceneClassificationName=%{theta}<extra></extra>",
         "legendgroup": "3",
         "line": {
          "color": "#ab63fa",
          "dash": "solid"
         },
         "marker": {
          "symbol": "circle"
         },
         "mode": "lines",
         "name": "3",
         "r": [
          75,
          75
         ],
         "showlegend": true,
         "subplot": "polar",
         "theta": [
          "Cloud high probability",
          "Cloud high probability"
         ],
         "type": "scatterpolar"
        },
        {
         "hovertemplate": "Cluster=4<br>count=%{r}<br>QualitySceneClassificationName=%{theta}<extra></extra>",
         "legendgroup": "4",
         "line": {
          "color": "#FFA15A",
          "dash": "solid"
         },
         "marker": {
          "symbol": "circle"
         },
         "mode": "lines",
         "name": "4",
         "r": [
          25,
          25
         ],
         "showlegend": true,
         "subplot": "polar",
         "theta": [
          "Cloud high probability",
          "Cloud high probability"
         ],
         "type": "scatterpolar"
        },
        {
         "hovertemplate": "Cluster=5<br>count=%{r}<br>QualitySceneClassificationName=%{theta}<extra></extra>",
         "legendgroup": "5",
         "line": {
          "color": "#19d3f3",
          "dash": "solid"
         },
         "marker": {
          "symbol": "circle"
         },
         "mode": "lines",
         "name": "5",
         "r": [
          29,
          33,
          5,
          99,
          29
         ],
         "showlegend": true,
         "subplot": "polar",
         "theta": [
          "Cloud shadows",
          "Thin cirrus",
          "Unclassified",
          "Vegetation",
          "Cloud shadows"
         ],
         "type": "scatterpolar"
        },
        {
         "hovertemplate": "Cluster=6<br>count=%{r}<br>QualitySceneClassificationName=%{theta}<extra></extra>",
         "legendgroup": "6",
         "line": {
          "color": "#FF6692",
          "dash": "solid"
         },
         "marker": {
          "symbol": "circle"
         },
         "mode": "lines",
         "name": "6",
         "r": [
          32,
          50,
          32
         ],
         "showlegend": true,
         "subplot": "polar",
         "theta": [
          "Cloud high probability",
          "Cloud medium probability",
          "Cloud high probability"
         ],
         "type": "scatterpolar"
        },
        {
         "hovertemplate": "Cluster=7<br>count=%{r}<br>QualitySceneClassificationName=%{theta}<extra></extra>",
         "legendgroup": "7",
         "line": {
          "color": "#B6E880",
          "dash": "solid"
         },
         "marker": {
          "symbol": "circle"
         },
         "mode": "lines",
         "name": "7",
         "r": [
          42,
          106,
          2,
          4,
          20,
          3,
          42
         ],
         "showlegend": true,
         "subplot": "polar",
         "theta": [
          "Cloud high probability",
          "Cloud medium probability",
          "Not vegetated",
          "Thin cirrus",
          "Unclassified",
          "Vegetation",
          "Cloud high probability"
         ],
         "type": "scatterpolar"
        }
       ],
       "layout": {
        "template": {
         "data": {
          "histogram2dcontour": [
           {
            "type": "histogram2dcontour",
            "colorbar": {
             "outlinewidth": 0,
             "ticks": ""
            },
            "colorscale": [
             [
              0.0,
              "#0d0887"
             ],
             [
              0.1111111111111111,
              "#46039f"
             ],
             [
              0.2222222222222222,
              "#7201a8"
             ],
             [
              0.3333333333333333,
              "#9c179e"
             ],
             [
              0.4444444444444444,
              "#bd3786"
             ],
             [
              0.5555555555555556,
              "#d8576b"
             ],
             [
              0.6666666666666666,
              "#ed7953"
             ],
             [
              0.7777777777777778,
              "#fb9f3a"
             ],
             [
              0.8888888888888888,
              "#fdca26"
             ],
             [
              1.0,
              "#f0f921"
             ]
            ]
           }
          ],
          "choropleth": [
           {
            "type": "choropleth",
            "colorbar": {
             "outlinewidth": 0,
             "ticks": ""
            }
           }
          ],
          "histogram2d": [
           {
            "type": "histogram2d",
            "colorbar": {
             "outlinewidth": 0,
             "ticks": ""
            },
            "colorscale": [
             [
              0.0,
              "#0d0887"
             ],
             [
              0.1111111111111111,
              "#46039f"
             ],
             [
              0.2222222222222222,
              "#7201a8"
             ],
             [
              0.3333333333333333,
              "#9c179e"
             ],
             [
              0.4444444444444444,
              "#bd3786"
             ],
             [
              0.5555555555555556,
              "#d8576b"
             ],
             [
              0.6666666666666666,
              "#ed7953"
             ],
             [
              0.7777777777777778,
              "#fb9f3a"
             ],
             [
              0.8888888888888888,
              "#fdca26"
             ],
             [
              1.0,
              "#f0f921"
             ]
            ]
           }
          ],
          "heatmap": [
           {
            "type": "heatmap",
            "colorbar": {
             "outlinewidth": 0,
             "ticks": ""
            },
            "colorscale": [
             [
              0.0,
              "#0d0887"
             ],
             [
              0.1111111111111111,
              "#46039f"
             ],
             [
              0.2222222222222222,
              "#7201a8"
             ],
             [
              0.3333333333333333,
              "#9c179e"
             ],
             [
              0.4444444444444444,
              "#bd3786"
             ],
             [
              0.5555555555555556,
              "#d8576b"
             ],
             [
              0.6666666666666666,
              "#ed7953"
             ],
             [
              0.7777777777777778,
              "#fb9f3a"
             ],
             [
              0.8888888888888888,
              "#fdca26"
             ],
             [
              1.0,
              "#f0f921"
             ]
            ]
           }
          ],
          "heatmapgl": [
           {
            "type": "heatmapgl",
            "colorbar": {
             "outlinewidth": 0,
             "ticks": ""
            },
            "colorscale": [
             [
              0.0,
              "#0d0887"
             ],
             [
              0.1111111111111111,
              "#46039f"
             ],
             [
              0.2222222222222222,
              "#7201a8"
             ],
             [
              0.3333333333333333,
              "#9c179e"
             ],
             [
              0.4444444444444444,
              "#bd3786"
             ],
             [
              0.5555555555555556,
              "#d8576b"
             ],
             [
              0.6666666666666666,
              "#ed7953"
             ],
             [
              0.7777777777777778,
              "#fb9f3a"
             ],
             [
              0.8888888888888888,
              "#fdca26"
             ],
             [
              1.0,
              "#f0f921"
             ]
            ]
           }
          ],
          "contourcarpet": [
           {
            "type": "contourcarpet",
            "colorbar": {
             "outlinewidth": 0,
             "ticks": ""
            }
           }
          ],
          "contour": [
           {
            "type": "contour",
            "colorbar": {
             "outlinewidth": 0,
             "ticks": ""
            },
            "colorscale": [
             [
              0.0,
              "#0d0887"
             ],
             [
              0.1111111111111111,
              "#46039f"
             ],
             [
              0.2222222222222222,
              "#7201a8"
             ],
             [
              0.3333333333333333,
              "#9c179e"
             ],
             [
              0.4444444444444444,
              "#bd3786"
             ],
             [
              0.5555555555555556,
              "#d8576b"
             ],
             [
              0.6666666666666666,
              "#ed7953"
             ],
             [
              0.7777777777777778,
              "#fb9f3a"
             ],
             [
              0.8888888888888888,
              "#fdca26"
             ],
             [
              1.0,
              "#f0f921"
             ]
            ]
           }
          ],
          "surface": [
           {
            "type": "surface",
            "colorbar": {
             "outlinewidth": 0,
             "ticks": ""
            },
            "colorscale": [
             [
              0.0,
              "#0d0887"
             ],
             [
              0.1111111111111111,
              "#46039f"
             ],
             [
              0.2222222222222222,
              "#7201a8"
             ],
             [
              0.3333333333333333,
              "#9c179e"
             ],
             [
              0.4444444444444444,
              "#bd3786"
             ],
             [
              0.5555555555555556,
              "#d8576b"
             ],
             [
              0.6666666666666666,
              "#ed7953"
             ],
             [
              0.7777777777777778,
              "#fb9f3a"
             ],
             [
              0.8888888888888888,
              "#fdca26"
             ],
             [
              1.0,
              "#f0f921"
             ]
            ]
           }
          ],
          "mesh3d": [
           {
            "type": "mesh3d",
            "colorbar": {
             "outlinewidth": 0,
             "ticks": ""
            }
           }
          ],
          "scatter": [
           {
            "fillpattern": {
             "fillmode": "overlay",
             "size": 10,
             "solidity": 0.2
            },
            "type": "scatter"
           }
          ],
          "parcoords": [
           {
            "type": "parcoords",
            "line": {
             "colorbar": {
              "outlinewidth": 0,
              "ticks": ""
             }
            }
           }
          ],
          "scatterpolargl": [
           {
            "type": "scatterpolargl",
            "marker": {
             "colorbar": {
              "outlinewidth": 0,
              "ticks": ""
             }
            }
           }
          ],
          "bar": [
           {
            "error_x": {
             "color": "#2a3f5f"
            },
            "error_y": {
             "color": "#2a3f5f"
            },
            "marker": {
             "line": {
              "color": "#E5ECF6",
              "width": 0.5
             },
             "pattern": {
              "fillmode": "overlay",
              "size": 10,
              "solidity": 0.2
             }
            },
            "type": "bar"
           }
          ],
          "scattergeo": [
           {
            "type": "scattergeo",
            "marker": {
             "colorbar": {
              "outlinewidth": 0,
              "ticks": ""
             }
            }
           }
          ],
          "scatterpolar": [
           {
            "type": "scatterpolar",
            "marker": {
             "colorbar": {
              "outlinewidth": 0,
              "ticks": ""
             }
            }
           }
          ],
          "histogram": [
           {
            "marker": {
             "pattern": {
              "fillmode": "overlay",
              "size": 10,
              "solidity": 0.2
             }
            },
            "type": "histogram"
           }
          ],
          "scattergl": [
           {
            "type": "scattergl",
            "marker": {
             "colorbar": {
              "outlinewidth": 0,
              "ticks": ""
             }
            }
           }
          ],
          "scatter3d": [
           {
            "type": "scatter3d",
            "line": {
             "colorbar": {
              "outlinewidth": 0,
              "ticks": ""
             }
            },
            "marker": {
             "colorbar": {
              "outlinewidth": 0,
              "ticks": ""
             }
            }
           }
          ],
          "scattermapbox": [
           {
            "type": "scattermapbox",
            "marker": {
             "colorbar": {
              "outlinewidth": 0,
              "ticks": ""
             }
            }
           }
          ],
          "scatterternary": [
           {
            "type": "scatterternary",
            "marker": {
             "colorbar": {
              "outlinewidth": 0,
              "ticks": ""
             }
            }
           }
          ],
          "scattercarpet": [
           {
            "type": "scattercarpet",
            "marker": {
             "colorbar": {
              "outlinewidth": 0,
              "ticks": ""
             }
            }
           }
          ],
          "carpet": [
           {
            "aaxis": {
             "endlinecolor": "#2a3f5f",
             "gridcolor": "white",
             "linecolor": "white",
             "minorgridcolor": "white",
             "startlinecolor": "#2a3f5f"
            },
            "baxis": {
             "endlinecolor": "#2a3f5f",
             "gridcolor": "white",
             "linecolor": "white",
             "minorgridcolor": "white",
             "startlinecolor": "#2a3f5f"
            },
            "type": "carpet"
           }
          ],
          "table": [
           {
            "cells": {
             "fill": {
              "color": "#EBF0F8"
             },
             "line": {
              "color": "white"
             }
            },
            "header": {
             "fill": {
              "color": "#C8D4E3"
             },
             "line": {
              "color": "white"
             }
            },
            "type": "table"
           }
          ],
          "barpolar": [
           {
            "marker": {
             "line": {
              "color": "#E5ECF6",
              "width": 0.5
             },
             "pattern": {
              "fillmode": "overlay",
              "size": 10,
              "solidity": 0.2
             }
            },
            "type": "barpolar"
           }
          ],
          "pie": [
           {
            "automargin": true,
            "type": "pie"
           }
          ]
         },
         "layout": {
          "autotypenumbers": "strict",
          "colorway": [
           "#636efa",
           "#EF553B",
           "#00cc96",
           "#ab63fa",
           "#FFA15A",
           "#19d3f3",
           "#FF6692",
           "#B6E880",
           "#FF97FF",
           "#FECB52"
          ],
          "font": {
           "color": "#2a3f5f"
          },
          "hovermode": "closest",
          "hoverlabel": {
           "align": "left"
          },
          "paper_bgcolor": "white",
          "plot_bgcolor": "#E5ECF6",
          "polar": {
           "bgcolor": "#E5ECF6",
           "angularaxis": {
            "gridcolor": "white",
            "linecolor": "white",
            "ticks": ""
           },
           "radialaxis": {
            "gridcolor": "white",
            "linecolor": "white",
            "ticks": ""
           }
          },
          "ternary": {
           "bgcolor": "#E5ECF6",
           "aaxis": {
            "gridcolor": "white",
            "linecolor": "white",
            "ticks": ""
           },
           "baxis": {
            "gridcolor": "white",
            "linecolor": "white",
            "ticks": ""
           },
           "caxis": {
            "gridcolor": "white",
            "linecolor": "white",
            "ticks": ""
           }
          },
          "coloraxis": {
           "colorbar": {
            "outlinewidth": 0,
            "ticks": ""
           }
          },
          "colorscale": {
           "sequential": [
            [
             0.0,
             "#0d0887"
            ],
            [
             0.1111111111111111,
             "#46039f"
            ],
            [
             0.2222222222222222,
             "#7201a8"
            ],
            [
             0.3333333333333333,
             "#9c179e"
            ],
            [
             0.4444444444444444,
             "#bd3786"
            ],
            [
             0.5555555555555556,
             "#d8576b"
            ],
            [
             0.6666666666666666,
             "#ed7953"
            ],
            [
             0.7777777777777778,
             "#fb9f3a"
            ],
            [
             0.8888888888888888,
             "#fdca26"
            ],
            [
             1.0,
             "#f0f921"
            ]
           ],
           "sequentialminus": [
            [
             0.0,
             "#0d0887"
            ],
            [
             0.1111111111111111,
             "#46039f"
            ],
            [
             0.2222222222222222,
             "#7201a8"
            ],
            [
             0.3333333333333333,
             "#9c179e"
            ],
            [
             0.4444444444444444,
             "#bd3786"
            ],
            [
             0.5555555555555556,
             "#d8576b"
            ],
            [
             0.6666666666666666,
             "#ed7953"
            ],
            [
             0.7777777777777778,
             "#fb9f3a"
            ],
            [
             0.8888888888888888,
             "#fdca26"
            ],
            [
             1.0,
             "#f0f921"
            ]
           ],
           "diverging": [
            [
             0,
             "#8e0152"
            ],
            [
             0.1,
             "#c51b7d"
            ],
            [
             0.2,
             "#de77ae"
            ],
            [
             0.3,
             "#f1b6da"
            ],
            [
             0.4,
             "#fde0ef"
            ],
            [
             0.5,
             "#f7f7f7"
            ],
            [
             0.6,
             "#e6f5d0"
            ],
            [
             0.7,
             "#b8e186"
            ],
            [
             0.8,
             "#7fbc41"
            ],
            [
             0.9,
             "#4d9221"
            ],
            [
             1,
             "#276419"
            ]
           ]
          },
          "xaxis": {
           "gridcolor": "white",
           "linecolor": "white",
           "ticks": "",
           "title": {
            "standoff": 15
           },
           "zerolinecolor": "white",
           "automargin": true,
           "zerolinewidth": 2
          },
          "yaxis": {
           "gridcolor": "white",
           "linecolor": "white",
           "ticks": "",
           "title": {
            "standoff": 15
           },
           "zerolinecolor": "white",
           "automargin": true,
           "zerolinewidth": 2
          },
          "scene": {
           "xaxis": {
            "backgroundcolor": "#E5ECF6",
            "gridcolor": "white",
            "linecolor": "white",
            "showbackground": true,
            "ticks": "",
            "zerolinecolor": "white",
            "gridwidth": 2
           },
           "yaxis": {
            "backgroundcolor": "#E5ECF6",
            "gridcolor": "white",
            "linecolor": "white",
            "showbackground": true,
            "ticks": "",
            "zerolinecolor": "white",
            "gridwidth": 2
           },
           "zaxis": {
            "backgroundcolor": "#E5ECF6",
            "gridcolor": "white",
            "linecolor": "white",
            "showbackground": true,
            "ticks": "",
            "zerolinecolor": "white",
            "gridwidth": 2
           }
          },
          "shapedefaults": {
           "line": {
            "color": "#2a3f5f"
           }
          },
          "annotationdefaults": {
           "arrowcolor": "#2a3f5f",
           "arrowhead": 0,
           "arrowwidth": 1
          },
          "geo": {
           "bgcolor": "white",
           "landcolor": "#E5ECF6",
           "subunitcolor": "white",
           "showland": true,
           "showlakes": true,
           "lakecolor": "white"
          },
          "title": {
           "x": 0.05
          },
          "mapbox": {
           "style": "light"
          }
         }
        },
        "polar": {
         "domain": {
          "x": [
           0.0,
           1.0
          ],
          "y": [
           0.0,
           1.0
          ]
         },
         "angularaxis": {
          "direction": "clockwise",
          "rotation": 90
         }
        },
        "legend": {
         "title": {
          "text": "Cluster"
         },
         "tracegroupgap": 0
        },
        "margin": {
         "t": 60
        }
       },
       "config": {
        "plotlyServerURL": "https://plot.ly"
       }
      },
      "text/html": "<div>                            <div id=\"ec42eacf-6365-4d1b-b252-b75c28dc1f4f\" class=\"plotly-graph-div\" style=\"height:525px; width:100%;\"></div>            <script type=\"text/javascript\">                require([\"plotly\"], function(Plotly) {                    window.PLOTLYENV=window.PLOTLYENV || {};                                    if (document.getElementById(\"ec42eacf-6365-4d1b-b252-b75c28dc1f4f\")) {                    Plotly.newPlot(                        \"ec42eacf-6365-4d1b-b252-b75c28dc1f4f\",                        [{\"hovertemplate\":\"Cluster=0\\u003cbr\\u003ecount=%{r}\\u003cbr\\u003eQualitySceneClassificationName=%{theta}\\u003cextra\\u003e\\u003c\\u002fextra\\u003e\",\"legendgroup\":\"0\",\"line\":{\"color\":\"#636efa\",\"dash\":\"solid\"},\"marker\":{\"symbol\":\"circle\"},\"mode\":\"lines\",\"name\":\"0\",\"r\":[1,67,9,708,1],\"showlegend\":true,\"subplot\":\"polar\",\"theta\":[\"Cloud medium probability\",\"Thin cirrus\",\"Unclassified\",\"Vegetation\",\"Cloud medium probability\"],\"type\":\"scatterpolar\"},{\"hovertemplate\":\"Cluster=1\\u003cbr\\u003ecount=%{r}\\u003cbr\\u003eQualitySceneClassificationName=%{theta}\\u003cextra\\u003e\\u003c\\u002fextra\\u003e\",\"legendgroup\":\"1\",\"line\":{\"color\":\"#EF553B\",\"dash\":\"solid\"},\"marker\":{\"symbol\":\"circle\"},\"mode\":\"lines\",\"name\":\"1\",\"r\":[75,25,75],\"showlegend\":true,\"subplot\":\"polar\",\"theta\":[\"Cloud high probability\",\"Cloud medium probability\",\"Cloud high probability\"],\"type\":\"scatterpolar\"},{\"hovertemplate\":\"Cluster=2\\u003cbr\\u003ecount=%{r}\\u003cbr\\u003eQualitySceneClassificationName=%{theta}\\u003cextra\\u003e\\u003c\\u002fextra\\u003e\",\"legendgroup\":\"2\",\"line\":{\"color\":\"#00cc96\",\"dash\":\"solid\"},\"marker\":{\"symbol\":\"circle\"},\"mode\":\"lines\",\"name\":\"2\",\"r\":[88,2,88],\"showlegend\":true,\"subplot\":\"polar\",\"theta\":[\"Cloud high probability\",\"Cloud medium probability\",\"Cloud high probability\"],\"type\":\"scatterpolar\"},{\"hovertemplate\":\"Cluster=3\\u003cbr\\u003ecount=%{r}\\u003cbr\\u003eQualitySceneClassificationName=%{theta}\\u003cextra\\u003e\\u003c\\u002fextra\\u003e\",\"legendgroup\":\"3\",\"line\":{\"color\":\"#ab63fa\",\"dash\":\"solid\"},\"marker\":{\"symbol\":\"circle\"},\"mode\":\"lines\",\"name\":\"3\",\"r\":[75,75],\"showlegend\":true,\"subplot\":\"polar\",\"theta\":[\"Cloud high probability\",\"Cloud high probability\"],\"type\":\"scatterpolar\"},{\"hovertemplate\":\"Cluster=4\\u003cbr\\u003ecount=%{r}\\u003cbr\\u003eQualitySceneClassificationName=%{theta}\\u003cextra\\u003e\\u003c\\u002fextra\\u003e\",\"legendgroup\":\"4\",\"line\":{\"color\":\"#FFA15A\",\"dash\":\"solid\"},\"marker\":{\"symbol\":\"circle\"},\"mode\":\"lines\",\"name\":\"4\",\"r\":[25,25],\"showlegend\":true,\"subplot\":\"polar\",\"theta\":[\"Cloud high probability\",\"Cloud high probability\"],\"type\":\"scatterpolar\"},{\"hovertemplate\":\"Cluster=5\\u003cbr\\u003ecount=%{r}\\u003cbr\\u003eQualitySceneClassificationName=%{theta}\\u003cextra\\u003e\\u003c\\u002fextra\\u003e\",\"legendgroup\":\"5\",\"line\":{\"color\":\"#19d3f3\",\"dash\":\"solid\"},\"marker\":{\"symbol\":\"circle\"},\"mode\":\"lines\",\"name\":\"5\",\"r\":[29,33,5,99,29],\"showlegend\":true,\"subplot\":\"polar\",\"theta\":[\"Cloud shadows\",\"Thin cirrus\",\"Unclassified\",\"Vegetation\",\"Cloud shadows\"],\"type\":\"scatterpolar\"},{\"hovertemplate\":\"Cluster=6\\u003cbr\\u003ecount=%{r}\\u003cbr\\u003eQualitySceneClassificationName=%{theta}\\u003cextra\\u003e\\u003c\\u002fextra\\u003e\",\"legendgroup\":\"6\",\"line\":{\"color\":\"#FF6692\",\"dash\":\"solid\"},\"marker\":{\"symbol\":\"circle\"},\"mode\":\"lines\",\"name\":\"6\",\"r\":[32,50,32],\"showlegend\":true,\"subplot\":\"polar\",\"theta\":[\"Cloud high probability\",\"Cloud medium probability\",\"Cloud high probability\"],\"type\":\"scatterpolar\"},{\"hovertemplate\":\"Cluster=7\\u003cbr\\u003ecount=%{r}\\u003cbr\\u003eQualitySceneClassificationName=%{theta}\\u003cextra\\u003e\\u003c\\u002fextra\\u003e\",\"legendgroup\":\"7\",\"line\":{\"color\":\"#B6E880\",\"dash\":\"solid\"},\"marker\":{\"symbol\":\"circle\"},\"mode\":\"lines\",\"name\":\"7\",\"r\":[42,106,2,4,20,3,42],\"showlegend\":true,\"subplot\":\"polar\",\"theta\":[\"Cloud high probability\",\"Cloud medium probability\",\"Not vegetated\",\"Thin cirrus\",\"Unclassified\",\"Vegetation\",\"Cloud high probability\"],\"type\":\"scatterpolar\"}],                        {\"template\":{\"data\":{\"histogram2dcontour\":[{\"type\":\"histogram2dcontour\",\"colorbar\":{\"outlinewidth\":0,\"ticks\":\"\"},\"colorscale\":[[0.0,\"#0d0887\"],[0.1111111111111111,\"#46039f\"],[0.2222222222222222,\"#7201a8\"],[0.3333333333333333,\"#9c179e\"],[0.4444444444444444,\"#bd3786\"],[0.5555555555555556,\"#d8576b\"],[0.6666666666666666,\"#ed7953\"],[0.7777777777777778,\"#fb9f3a\"],[0.8888888888888888,\"#fdca26\"],[1.0,\"#f0f921\"]]}],\"choropleth\":[{\"type\":\"choropleth\",\"colorbar\":{\"outlinewidth\":0,\"ticks\":\"\"}}],\"histogram2d\":[{\"type\":\"histogram2d\",\"colorbar\":{\"outlinewidth\":0,\"ticks\":\"\"},\"colorscale\":[[0.0,\"#0d0887\"],[0.1111111111111111,\"#46039f\"],[0.2222222222222222,\"#7201a8\"],[0.3333333333333333,\"#9c179e\"],[0.4444444444444444,\"#bd3786\"],[0.5555555555555556,\"#d8576b\"],[0.6666666666666666,\"#ed7953\"],[0.7777777777777778,\"#fb9f3a\"],[0.8888888888888888,\"#fdca26\"],[1.0,\"#f0f921\"]]}],\"heatmap\":[{\"type\":\"heatmap\",\"colorbar\":{\"outlinewidth\":0,\"ticks\":\"\"},\"colorscale\":[[0.0,\"#0d0887\"],[0.1111111111111111,\"#46039f\"],[0.2222222222222222,\"#7201a8\"],[0.3333333333333333,\"#9c179e\"],[0.4444444444444444,\"#bd3786\"],[0.5555555555555556,\"#d8576b\"],[0.6666666666666666,\"#ed7953\"],[0.7777777777777778,\"#fb9f3a\"],[0.8888888888888888,\"#fdca26\"],[1.0,\"#f0f921\"]]}],\"heatmapgl\":[{\"type\":\"heatmapgl\",\"colorbar\":{\"outlinewidth\":0,\"ticks\":\"\"},\"colorscale\":[[0.0,\"#0d0887\"],[0.1111111111111111,\"#46039f\"],[0.2222222222222222,\"#7201a8\"],[0.3333333333333333,\"#9c179e\"],[0.4444444444444444,\"#bd3786\"],[0.5555555555555556,\"#d8576b\"],[0.6666666666666666,\"#ed7953\"],[0.7777777777777778,\"#fb9f3a\"],[0.8888888888888888,\"#fdca26\"],[1.0,\"#f0f921\"]]}],\"contourcarpet\":[{\"type\":\"contourcarpet\",\"colorbar\":{\"outlinewidth\":0,\"ticks\":\"\"}}],\"contour\":[{\"type\":\"contour\",\"colorbar\":{\"outlinewidth\":0,\"ticks\":\"\"},\"colorscale\":[[0.0,\"#0d0887\"],[0.1111111111111111,\"#46039f\"],[0.2222222222222222,\"#7201a8\"],[0.3333333333333333,\"#9c179e\"],[0.4444444444444444,\"#bd3786\"],[0.5555555555555556,\"#d8576b\"],[0.6666666666666666,\"#ed7953\"],[0.7777777777777778,\"#fb9f3a\"],[0.8888888888888888,\"#fdca26\"],[1.0,\"#f0f921\"]]}],\"surface\":[{\"type\":\"surface\",\"colorbar\":{\"outlinewidth\":0,\"ticks\":\"\"},\"colorscale\":[[0.0,\"#0d0887\"],[0.1111111111111111,\"#46039f\"],[0.2222222222222222,\"#7201a8\"],[0.3333333333333333,\"#9c179e\"],[0.4444444444444444,\"#bd3786\"],[0.5555555555555556,\"#d8576b\"],[0.6666666666666666,\"#ed7953\"],[0.7777777777777778,\"#fb9f3a\"],[0.8888888888888888,\"#fdca26\"],[1.0,\"#f0f921\"]]}],\"mesh3d\":[{\"type\":\"mesh3d\",\"colorbar\":{\"outlinewidth\":0,\"ticks\":\"\"}}],\"scatter\":[{\"fillpattern\":{\"fillmode\":\"overlay\",\"size\":10,\"solidity\":0.2},\"type\":\"scatter\"}],\"parcoords\":[{\"type\":\"parcoords\",\"line\":{\"colorbar\":{\"outlinewidth\":0,\"ticks\":\"\"}}}],\"scatterpolargl\":[{\"type\":\"scatterpolargl\",\"marker\":{\"colorbar\":{\"outlinewidth\":0,\"ticks\":\"\"}}}],\"bar\":[{\"error_x\":{\"color\":\"#2a3f5f\"},\"error_y\":{\"color\":\"#2a3f5f\"},\"marker\":{\"line\":{\"color\":\"#E5ECF6\",\"width\":0.5},\"pattern\":{\"fillmode\":\"overlay\",\"size\":10,\"solidity\":0.2}},\"type\":\"bar\"}],\"scattergeo\":[{\"type\":\"scattergeo\",\"marker\":{\"colorbar\":{\"outlinewidth\":0,\"ticks\":\"\"}}}],\"scatterpolar\":[{\"type\":\"scatterpolar\",\"marker\":{\"colorbar\":{\"outlinewidth\":0,\"ticks\":\"\"}}}],\"histogram\":[{\"marker\":{\"pattern\":{\"fillmode\":\"overlay\",\"size\":10,\"solidity\":0.2}},\"type\":\"histogram\"}],\"scattergl\":[{\"type\":\"scattergl\",\"marker\":{\"colorbar\":{\"outlinewidth\":0,\"ticks\":\"\"}}}],\"scatter3d\":[{\"type\":\"scatter3d\",\"line\":{\"colorbar\":{\"outlinewidth\":0,\"ticks\":\"\"}},\"marker\":{\"colorbar\":{\"outlinewidth\":0,\"ticks\":\"\"}}}],\"scattermapbox\":[{\"type\":\"scattermapbox\",\"marker\":{\"colorbar\":{\"outlinewidth\":0,\"ticks\":\"\"}}}],\"scatterternary\":[{\"type\":\"scatterternary\",\"marker\":{\"colorbar\":{\"outlinewidth\":0,\"ticks\":\"\"}}}],\"scattercarpet\":[{\"type\":\"scattercarpet\",\"marker\":{\"colorbar\":{\"outlinewidth\":0,\"ticks\":\"\"}}}],\"carpet\":[{\"aaxis\":{\"endlinecolor\":\"#2a3f5f\",\"gridcolor\":\"white\",\"linecolor\":\"white\",\"minorgridcolor\":\"white\",\"startlinecolor\":\"#2a3f5f\"},\"baxis\":{\"endlinecolor\":\"#2a3f5f\",\"gridcolor\":\"white\",\"linecolor\":\"white\",\"minorgridcolor\":\"white\",\"startlinecolor\":\"#2a3f5f\"},\"type\":\"carpet\"}],\"table\":[{\"cells\":{\"fill\":{\"color\":\"#EBF0F8\"},\"line\":{\"color\":\"white\"}},\"header\":{\"fill\":{\"color\":\"#C8D4E3\"},\"line\":{\"color\":\"white\"}},\"type\":\"table\"}],\"barpolar\":[{\"marker\":{\"line\":{\"color\":\"#E5ECF6\",\"width\":0.5},\"pattern\":{\"fillmode\":\"overlay\",\"size\":10,\"solidity\":0.2}},\"type\":\"barpolar\"}],\"pie\":[{\"automargin\":true,\"type\":\"pie\"}]},\"layout\":{\"autotypenumbers\":\"strict\",\"colorway\":[\"#636efa\",\"#EF553B\",\"#00cc96\",\"#ab63fa\",\"#FFA15A\",\"#19d3f3\",\"#FF6692\",\"#B6E880\",\"#FF97FF\",\"#FECB52\"],\"font\":{\"color\":\"#2a3f5f\"},\"hovermode\":\"closest\",\"hoverlabel\":{\"align\":\"left\"},\"paper_bgcolor\":\"white\",\"plot_bgcolor\":\"#E5ECF6\",\"polar\":{\"bgcolor\":\"#E5ECF6\",\"angularaxis\":{\"gridcolor\":\"white\",\"linecolor\":\"white\",\"ticks\":\"\"},\"radialaxis\":{\"gridcolor\":\"white\",\"linecolor\":\"white\",\"ticks\":\"\"}},\"ternary\":{\"bgcolor\":\"#E5ECF6\",\"aaxis\":{\"gridcolor\":\"white\",\"linecolor\":\"white\",\"ticks\":\"\"},\"baxis\":{\"gridcolor\":\"white\",\"linecolor\":\"white\",\"ticks\":\"\"},\"caxis\":{\"gridcolor\":\"white\",\"linecolor\":\"white\",\"ticks\":\"\"}},\"coloraxis\":{\"colorbar\":{\"outlinewidth\":0,\"ticks\":\"\"}},\"colorscale\":{\"sequential\":[[0.0,\"#0d0887\"],[0.1111111111111111,\"#46039f\"],[0.2222222222222222,\"#7201a8\"],[0.3333333333333333,\"#9c179e\"],[0.4444444444444444,\"#bd3786\"],[0.5555555555555556,\"#d8576b\"],[0.6666666666666666,\"#ed7953\"],[0.7777777777777778,\"#fb9f3a\"],[0.8888888888888888,\"#fdca26\"],[1.0,\"#f0f921\"]],\"sequentialminus\":[[0.0,\"#0d0887\"],[0.1111111111111111,\"#46039f\"],[0.2222222222222222,\"#7201a8\"],[0.3333333333333333,\"#9c179e\"],[0.4444444444444444,\"#bd3786\"],[0.5555555555555556,\"#d8576b\"],[0.6666666666666666,\"#ed7953\"],[0.7777777777777778,\"#fb9f3a\"],[0.8888888888888888,\"#fdca26\"],[1.0,\"#f0f921\"]],\"diverging\":[[0,\"#8e0152\"],[0.1,\"#c51b7d\"],[0.2,\"#de77ae\"],[0.3,\"#f1b6da\"],[0.4,\"#fde0ef\"],[0.5,\"#f7f7f7\"],[0.6,\"#e6f5d0\"],[0.7,\"#b8e186\"],[0.8,\"#7fbc41\"],[0.9,\"#4d9221\"],[1,\"#276419\"]]},\"xaxis\":{\"gridcolor\":\"white\",\"linecolor\":\"white\",\"ticks\":\"\",\"title\":{\"standoff\":15},\"zerolinecolor\":\"white\",\"automargin\":true,\"zerolinewidth\":2},\"yaxis\":{\"gridcolor\":\"white\",\"linecolor\":\"white\",\"ticks\":\"\",\"title\":{\"standoff\":15},\"zerolinecolor\":\"white\",\"automargin\":true,\"zerolinewidth\":2},\"scene\":{\"xaxis\":{\"backgroundcolor\":\"#E5ECF6\",\"gridcolor\":\"white\",\"linecolor\":\"white\",\"showbackground\":true,\"ticks\":\"\",\"zerolinecolor\":\"white\",\"gridwidth\":2},\"yaxis\":{\"backgroundcolor\":\"#E5ECF6\",\"gridcolor\":\"white\",\"linecolor\":\"white\",\"showbackground\":true,\"ticks\":\"\",\"zerolinecolor\":\"white\",\"gridwidth\":2},\"zaxis\":{\"backgroundcolor\":\"#E5ECF6\",\"gridcolor\":\"white\",\"linecolor\":\"white\",\"showbackground\":true,\"ticks\":\"\",\"zerolinecolor\":\"white\",\"gridwidth\":2}},\"shapedefaults\":{\"line\":{\"color\":\"#2a3f5f\"}},\"annotationdefaults\":{\"arrowcolor\":\"#2a3f5f\",\"arrowhead\":0,\"arrowwidth\":1},\"geo\":{\"bgcolor\":\"white\",\"landcolor\":\"#E5ECF6\",\"subunitcolor\":\"white\",\"showland\":true,\"showlakes\":true,\"lakecolor\":\"white\"},\"title\":{\"x\":0.05},\"mapbox\":{\"style\":\"light\"}}},\"polar\":{\"domain\":{\"x\":[0.0,1.0],\"y\":[0.0,1.0]},\"angularaxis\":{\"direction\":\"clockwise\",\"rotation\":90}},\"legend\":{\"title\":{\"text\":\"Cluster\"},\"tracegroupgap\":0},\"margin\":{\"t\":60}},                        {\"responsive\": true}                    ).then(function(){\n                            \nvar gd = document.getElementById('ec42eacf-6365-4d1b-b252-b75c28dc1f4f');\nvar x = new MutationObserver(function (mutations, observer) {{\n        var display = window.getComputedStyle(gd).display;\n        if (!display || display === 'none') {{\n            console.log([gd, 'removed!']);\n            Plotly.purge(gd);\n            observer.disconnect();\n        }}\n}});\n\n// Listen for the removal of the full notebook cells\nvar notebookContainer = gd.closest('#notebook-container');\nif (notebookContainer) {{\n    x.observe(notebookContainer, {childList: true});\n}}\n\n// Listen for the clearing of the current output cell\nvar outputEl = gd.closest('.output');\nif (outputEl) {{\n    x.observe(outputEl, {childList: true});\n}}\n\n                        })                };                });            </script>        </div>"
     },
     "metadata": {},
     "output_type": "display_data"
    }
   ],
   "source": [
    "import plotly.express as px\n",
    "import pandas as pd\n",
    "\n",
    "fig = px.line_polar(df_grouped, r='count', \n",
    "                    theta='QualitySceneClassificationName', \n",
    "                    color='Cluster',\n",
    "                    line_close=True)\n",
    "fig.show()"
   ],
   "metadata": {
    "collapsed": false,
    "ExecuteTime": {
     "end_time": "2023-11-27T14:45:32.103072Z",
     "start_time": "2023-11-27T14:45:32.055141Z"
    }
   },
   "id": "163fea98c80cecc0"
  },
  {
   "cell_type": "code",
   "execution_count": 39,
   "outputs": [
    {
     "name": "stdout",
     "output_type": "stream",
     "text": [
      "(1500, 62)\n",
      "unique satellite dates (60,) from 2023-05-01 09:30:31 to 2023-09-28 09:30:31\n"
     ]
    },
    {
     "data": {
      "text/plain": "       _dde                                         CalvalusID  \\\n0  20231108  000002_S2A_MSIL2A_20230501T093031_N9999_R136_T...   \n1  20231108  000002_S2A_MSIL2A_20230501T093031_N9999_R136_T...   \n2  20231108  000002_S2A_MSIL2A_20230501T093031_N9999_R136_T...   \n\n                 Date_   Latitude Longitude  \\\n0  2023-05-01 00:00:00  58.281975  27.31296   \n1  2023-05-01 00:00:00  58.281975  27.31296   \n2  2023-05-01 00:00:00  58.281975  27.31296   \n\n                                          SourceName            PixelTime  \\\n0  S2A_MSIL2A_20230501T093031_N9999_R136_T35VNE_2...  2023-05-01 09:30:31   \n1  S2A_MSIL2A_20230501T093031_N9999_R136_T35VNE_2...  2023-05-01 09:30:31   \n2  S2A_MSIL2A_20230501T093031_N9999_R136_T35VNE_2...  2023-05-01 09:30:31   \n\n  PixelX  PixelY   PixelLat  ... ViewZenithB10 ViewAzimuthB10 ViewZenithB11  \\\n0  916.0  1992.0  58.282368  ...        3.5991        125.533       3.71408   \n1  916.0  1993.0   58.28219  ...        3.5991        125.533       3.71408   \n2  916.0  1994.0  58.282005  ...        3.5991        125.533       3.71408   \n\n  ViewAzimuthB11 ViewZenithB12 ViewAzimuthB12 ExclusionReason  \\\n0        130.444       3.85522        135.048            None   \n1        130.444       3.85522        135.048            None   \n2        130.444       3.85522        135.048            None   \n\n  QualitySceneClassificationName PixelTimeUtc Cluster  \n0         Cloud high probability   1682933431       7  \n1         Cloud high probability   1682933431       7  \n2         Cloud high probability   1682933431       7  \n\n[3 rows x 62 columns]",
      "text/html": "<div>\n<style scoped>\n    .dataframe tbody tr th:only-of-type {\n        vertical-align: middle;\n    }\n\n    .dataframe tbody tr th {\n        vertical-align: top;\n    }\n\n    .dataframe thead th {\n        text-align: right;\n    }\n</style>\n<table border=\"1\" class=\"dataframe\">\n  <thead>\n    <tr style=\"text-align: right;\">\n      <th></th>\n      <th>_dde</th>\n      <th>CalvalusID</th>\n      <th>Date_</th>\n      <th>Latitude</th>\n      <th>Longitude</th>\n      <th>SourceName</th>\n      <th>PixelTime</th>\n      <th>PixelX</th>\n      <th>PixelY</th>\n      <th>PixelLat</th>\n      <th>...</th>\n      <th>ViewZenithB10</th>\n      <th>ViewAzimuthB10</th>\n      <th>ViewZenithB11</th>\n      <th>ViewAzimuthB11</th>\n      <th>ViewZenithB12</th>\n      <th>ViewAzimuthB12</th>\n      <th>ExclusionReason</th>\n      <th>QualitySceneClassificationName</th>\n      <th>PixelTimeUtc</th>\n      <th>Cluster</th>\n    </tr>\n  </thead>\n  <tbody>\n    <tr>\n      <th>0</th>\n      <td>20231108</td>\n      <td>000002_S2A_MSIL2A_20230501T093031_N9999_R136_T...</td>\n      <td>2023-05-01 00:00:00</td>\n      <td>58.281975</td>\n      <td>27.31296</td>\n      <td>S2A_MSIL2A_20230501T093031_N9999_R136_T35VNE_2...</td>\n      <td>2023-05-01 09:30:31</td>\n      <td>916.0</td>\n      <td>1992.0</td>\n      <td>58.282368</td>\n      <td>...</td>\n      <td>3.5991</td>\n      <td>125.533</td>\n      <td>3.71408</td>\n      <td>130.444</td>\n      <td>3.85522</td>\n      <td>135.048</td>\n      <td>None</td>\n      <td>Cloud high probability</td>\n      <td>1682933431</td>\n      <td>7</td>\n    </tr>\n    <tr>\n      <th>1</th>\n      <td>20231108</td>\n      <td>000002_S2A_MSIL2A_20230501T093031_N9999_R136_T...</td>\n      <td>2023-05-01 00:00:00</td>\n      <td>58.281975</td>\n      <td>27.31296</td>\n      <td>S2A_MSIL2A_20230501T093031_N9999_R136_T35VNE_2...</td>\n      <td>2023-05-01 09:30:31</td>\n      <td>916.0</td>\n      <td>1993.0</td>\n      <td>58.28219</td>\n      <td>...</td>\n      <td>3.5991</td>\n      <td>125.533</td>\n      <td>3.71408</td>\n      <td>130.444</td>\n      <td>3.85522</td>\n      <td>135.048</td>\n      <td>None</td>\n      <td>Cloud high probability</td>\n      <td>1682933431</td>\n      <td>7</td>\n    </tr>\n    <tr>\n      <th>2</th>\n      <td>20231108</td>\n      <td>000002_S2A_MSIL2A_20230501T093031_N9999_R136_T...</td>\n      <td>2023-05-01 00:00:00</td>\n      <td>58.281975</td>\n      <td>27.31296</td>\n      <td>S2A_MSIL2A_20230501T093031_N9999_R136_T35VNE_2...</td>\n      <td>2023-05-01 09:30:31</td>\n      <td>916.0</td>\n      <td>1994.0</td>\n      <td>58.282005</td>\n      <td>...</td>\n      <td>3.5991</td>\n      <td>125.533</td>\n      <td>3.71408</td>\n      <td>130.444</td>\n      <td>3.85522</td>\n      <td>135.048</td>\n      <td>None</td>\n      <td>Cloud high probability</td>\n      <td>1682933431</td>\n      <td>7</td>\n    </tr>\n  </tbody>\n</table>\n<p>3 rows × 62 columns</p>\n</div>"
     },
     "execution_count": 39,
     "metadata": {},
     "output_type": "execute_result"
    }
   ],
   "source": [
    "PATH_OUTPUT = \"../../../../data/sentinel2MsiL2/_out01/sentinel2MsiL2_out01_001_2.parquet\"\n",
    "df_out01_003_2_records_all_annotated_view.to_parquet(PATH_OUTPUT, index=True)\n",
    "print(df_out01_003_2_records_all_annotated_view.shape)\n",
    "print(f\"unique satellite dates {df_out01_003_2_records_all_annotated_view['PixelTime'].unique().shape} from \"\n",
    "      f\"{df_out01_003_2_records_all_annotated_view['PixelTime'].min()} to \"\n",
    "      f\"{df_out01_003_2_records_all_annotated_view['PixelTime'].max()}\")\n",
    "pd.read_parquet(PATH_OUTPUT).head(3)"
   ],
   "metadata": {
    "collapsed": false,
    "ExecuteTime": {
     "end_time": "2023-11-27T14:45:32.151079Z",
     "start_time": "2023-11-27T14:45:32.065881Z"
    }
   },
   "id": "a687ffbfa422923"
  },
  {
   "cell_type": "code",
   "execution_count": 39,
   "outputs": [],
   "source": [],
   "metadata": {
    "collapsed": false,
    "ExecuteTime": {
     "end_time": "2023-11-27T14:45:32.172293Z",
     "start_time": "2023-11-27T14:45:32.087201Z"
    }
   },
   "id": "61bbcc58429c1cca"
  }
 ],
 "metadata": {
  "kernelspec": {
   "display_name": "Python 3",
   "language": "python",
   "name": "python3"
  },
  "language_info": {
   "codemirror_mode": {
    "name": "ipython",
    "version": 2
   },
   "file_extension": ".py",
   "mimetype": "text/x-python",
   "name": "python",
   "nbconvert_exporter": "python",
   "pygments_lexer": "ipython2",
   "version": "2.7.6"
  }
 },
 "nbformat": 4,
 "nbformat_minor": 5
}
